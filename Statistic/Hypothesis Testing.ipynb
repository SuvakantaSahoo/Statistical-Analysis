{
 "cells": [
  {
   "cell_type": "markdown",
   "id": "0407c2cf",
   "metadata": {},
   "source": [
    "### Z Confidence Intervals With Sample Means\n",
    "\n",
    "**Definition:** Confidence intervals of sample means can give us information on the population mean of data when we acquire a single sample of data and know the population standard deviation, but not the corresponding mean. We take our single sample mean and use it to get a range of values with the following formula: **Confidence interval bounds = sample mean +- (z star * standard error)**. We already know the formula for standard error from before, and we get z star by locating the corresponding z-value (using the z-score table) of probability halfway between our desired confidence level and 100% to account for both tails of the normal distribution. For example, if we want a 95% confidence interval, which is standard, we locate the z_value corresponding to 0.975, which is 1.96. With the two bounds we get from the formula, we can be 95% (or any desired confidence level) confident that the true population mean lies between the two values.\n",
    "\n",
    "**Why It's Useful:** It is rare that we know the population standard deviation without knowing the population mean, but when this does happen, it's useful to estimate the interval containing the population mean with some degree of certaintly. Typically, this degree is 95%. Perhaps we acquire a mean of a sample of titanic passenger ages, and want to know the certainty that the true mean falls in some interval so we can manage the risk of spreading false information."
   ]
  },
  {
   "cell_type": "code",
   "execution_count": 2,
   "id": "5959dda2",
   "metadata": {},
   "outputs": [],
   "source": [
    "import numpy as np\n",
    "import pandas as pd\n",
    "import seaborn as sns\n",
    "import matplotlib.pyplot as plt\n",
    "from scipy import stats"
   ]
  },
  {
   "cell_type": "code",
   "execution_count": 3,
   "id": "3b0af305",
   "metadata": {},
   "outputs": [
    {
     "data": {
      "text/html": [
       "<div>\n",
       "<style scoped>\n",
       "    .dataframe tbody tr th:only-of-type {\n",
       "        vertical-align: middle;\n",
       "    }\n",
       "\n",
       "    .dataframe tbody tr th {\n",
       "        vertical-align: top;\n",
       "    }\n",
       "\n",
       "    .dataframe thead th {\n",
       "        text-align: right;\n",
       "    }\n",
       "</style>\n",
       "<table border=\"1\" class=\"dataframe\">\n",
       "  <thead>\n",
       "    <tr style=\"text-align: right;\">\n",
       "      <th></th>\n",
       "      <th>carat</th>\n",
       "      <th>cut</th>\n",
       "      <th>color</th>\n",
       "      <th>clarity</th>\n",
       "      <th>depth</th>\n",
       "      <th>table</th>\n",
       "      <th>price</th>\n",
       "      <th>x</th>\n",
       "      <th>y</th>\n",
       "      <th>z</th>\n",
       "    </tr>\n",
       "  </thead>\n",
       "  <tbody>\n",
       "    <tr>\n",
       "      <th>0</th>\n",
       "      <td>0.23</td>\n",
       "      <td>Ideal</td>\n",
       "      <td>E</td>\n",
       "      <td>SI2</td>\n",
       "      <td>61.5</td>\n",
       "      <td>55.0</td>\n",
       "      <td>326</td>\n",
       "      <td>3.95</td>\n",
       "      <td>3.98</td>\n",
       "      <td>2.43</td>\n",
       "    </tr>\n",
       "    <tr>\n",
       "      <th>1</th>\n",
       "      <td>0.21</td>\n",
       "      <td>Premium</td>\n",
       "      <td>E</td>\n",
       "      <td>SI1</td>\n",
       "      <td>59.8</td>\n",
       "      <td>61.0</td>\n",
       "      <td>326</td>\n",
       "      <td>3.89</td>\n",
       "      <td>3.84</td>\n",
       "      <td>2.31</td>\n",
       "    </tr>\n",
       "    <tr>\n",
       "      <th>2</th>\n",
       "      <td>0.23</td>\n",
       "      <td>Good</td>\n",
       "      <td>E</td>\n",
       "      <td>VS1</td>\n",
       "      <td>56.9</td>\n",
       "      <td>65.0</td>\n",
       "      <td>327</td>\n",
       "      <td>4.05</td>\n",
       "      <td>4.07</td>\n",
       "      <td>2.31</td>\n",
       "    </tr>\n",
       "    <tr>\n",
       "      <th>3</th>\n",
       "      <td>0.29</td>\n",
       "      <td>Premium</td>\n",
       "      <td>I</td>\n",
       "      <td>VS2</td>\n",
       "      <td>62.4</td>\n",
       "      <td>58.0</td>\n",
       "      <td>334</td>\n",
       "      <td>4.20</td>\n",
       "      <td>4.23</td>\n",
       "      <td>2.63</td>\n",
       "    </tr>\n",
       "    <tr>\n",
       "      <th>4</th>\n",
       "      <td>0.31</td>\n",
       "      <td>Good</td>\n",
       "      <td>J</td>\n",
       "      <td>SI2</td>\n",
       "      <td>63.3</td>\n",
       "      <td>58.0</td>\n",
       "      <td>335</td>\n",
       "      <td>4.34</td>\n",
       "      <td>4.35</td>\n",
       "      <td>2.75</td>\n",
       "    </tr>\n",
       "  </tbody>\n",
       "</table>\n",
       "</div>"
      ],
      "text/plain": [
       "   carat      cut color clarity  depth  table  price     x     y     z\n",
       "0   0.23    Ideal     E     SI2   61.5   55.0    326  3.95  3.98  2.43\n",
       "1   0.21  Premium     E     SI1   59.8   61.0    326  3.89  3.84  2.31\n",
       "2   0.23     Good     E     VS1   56.9   65.0    327  4.05  4.07  2.31\n",
       "3   0.29  Premium     I     VS2   62.4   58.0    334  4.20  4.23  2.63\n",
       "4   0.31     Good     J     SI2   63.3   58.0    335  4.34  4.35  2.75"
      ]
     },
     "execution_count": 3,
     "metadata": {},
     "output_type": "execute_result"
    }
   ],
   "source": [
    "diamond_df = sns.load_dataset('diamonds')\n",
    "diamond_df.head()"
   ]
  },
  {
   "cell_type": "code",
   "execution_count": 3,
   "id": "0b177c7b",
   "metadata": {},
   "outputs": [],
   "source": [
    "def central_limit_theorem(n, N,data,col):\n",
    "    import random\n",
    "    pop_mean = data[col].mean()\n",
    "    sample_means = []\n",
    "    for i in range(N):\n",
    "        sample_means.append(np.mean(random.sample(list(data[col]),n)))\n",
    "    mean_sample_means = np.mean(sample_means)\n",
    "    sns.histplot(sample_means,kde = True)\n",
    "    print('column name:',col)\n",
    "    print('population mean :',pop_mean)\n",
    "    print('mean of sample means:',mean_sample_means)\n",
    "    print('sample size :',n)\n",
    "    print('number of samples:',N)     "
   ]
  },
  {
   "cell_type": "code",
   "execution_count": 4,
   "id": "d8a26856",
   "metadata": {},
   "outputs": [
    {
     "name": "stdout",
     "output_type": "stream",
     "text": [
      "column name: price\n",
      "population mean : 3932.799721913237\n",
      "mean of sample means: 3948.97613\n",
      "sample size : 100\n",
      "number of samples: 1000\n"
     ]
    },
    {
     "data": {
      "image/png": "[encoded data removed]",
      "text/plain": [
       "<Figure size 432x288 with 1 Axes>"
      ]
     },
     "metadata": {
      "needs_background": "light"
     },
     "output_type": "display_data"
    }
   ],
   "source": [
    "central_limit_theorem(100,1000,diamond_df,'price')"
   ]
  },
  {
   "cell_type": "markdown",
   "id": "81383f12",
   "metadata": {},
   "source": [
    "### Confidence Limits\n",
    "**Confidence interval bounds = sample mean +- (z star * standard error)**\n",
    "\n",
    "$CI = \\bar{x} \\pm Z\\frac{\\alpha}{2} * \\frac{\\sigma}{\\sqrt{n}}$"
   ]
  },
  {
   "cell_type": "code",
   "execution_count": 5,
   "id": "9bfddd9b",
   "metadata": {},
   "outputs": [
    {
     "ename": "NameError",
     "evalue": "name 'sample_mean' is not defined",
     "output_type": "error",
     "traceback": [
      "\u001b[1;31m---------------------------------------------------------------------------\u001b[0m",
      "\u001b[1;31mNameError\u001b[0m                                 Traceback (most recent call last)",
      "\u001b[1;32m~\\AppData\\Local\\Temp/ipykernel_11432/1999400085.py\u001b[0m in \u001b[0;36m<module>\u001b[1;34m\u001b[0m\n\u001b[0;32m      1\u001b[0m \u001b[1;31m## Direct calculation\u001b[0m\u001b[1;33m\u001b[0m\u001b[1;33m\u001b[0m\u001b[0m\n\u001b[1;32m----> 2\u001b[1;33m \u001b[0mlower_limit\u001b[0m\u001b[1;33m,\u001b[0m\u001b[0mupper_limit\u001b[0m \u001b[1;33m=\u001b[0m \u001b[0mstats\u001b[0m\u001b[1;33m.\u001b[0m\u001b[0mnorm\u001b[0m\u001b[1;33m.\u001b[0m\u001b[0minterval\u001b[0m\u001b[1;33m(\u001b[0m\u001b[1;36m0.025\u001b[0m\u001b[1;33m,\u001b[0m\u001b[0msample_mean\u001b[0m\u001b[1;33m,\u001b[0m\u001b[0msample_std\u001b[0m\u001b[1;33m)\u001b[0m\u001b[1;33m\u001b[0m\u001b[1;33m\u001b[0m\u001b[0m\n\u001b[0m\u001b[0;32m      3\u001b[0m \u001b[0mlower_limit\u001b[0m\u001b[1;33m\u001b[0m\u001b[1;33m\u001b[0m\u001b[0m\n",
      "\u001b[1;31mNameError\u001b[0m: name 'sample_mean' is not defined"
     ]
    }
   ],
   "source": [
    "## Direct calculation\n",
    "lower_limit,upper_limit = stats.norm.interval(0.025,sample_mean,sample_std)\n",
    "lower_limit"
   ]
  },
  {
   "cell_type": "code",
   "execution_count": 6,
   "id": "3c7ae4f9",
   "metadata": {},
   "outputs": [
    {
     "data": {
      "text/plain": [
       "53940"
      ]
     },
     "execution_count": 6,
     "metadata": {},
     "output_type": "execute_result"
    }
   ],
   "source": [
    "len(diamond_df.price)"
   ]
  },
  {
   "cell_type": "code",
   "execution_count": 7,
   "id": "aa73dc21",
   "metadata": {},
   "outputs": [
    {
     "data": {
      "text/plain": [
       "4192.85"
      ]
     },
     "execution_count": 7,
     "metadata": {},
     "output_type": "execute_result"
    }
   ],
   "source": [
    "np.mean(diamond_df.price.sample(100))"
   ]
  },
  {
   "cell_type": "code",
   "execution_count": 8,
   "id": "ea147037",
   "metadata": {},
   "outputs": [
    {
     "data": {
      "text/plain": [
       "(3561.46, 449.8433138538351)"
      ]
     },
     "execution_count": 8,
     "metadata": {},
     "output_type": "execute_result"
    }
   ],
   "source": [
    "conf = 0.95\n",
    "n = 100\n",
    "sample_mean = np.mean(diamond_df.price.sample(100))\n",
    "sample_std = np.std(diamond_df.price.sample(100)) /np.sqrt(n)\n",
    "\n",
    "sample_mean, sample_std"
   ]
  },
  {
   "cell_type": "code",
   "execution_count": 9,
   "id": "243012e2",
   "metadata": {},
   "outputs": [],
   "source": [
    "from scipy import stats"
   ]
  },
  {
   "cell_type": "code",
   "execution_count": 10,
   "id": "8e15e3a1",
   "metadata": {},
   "outputs": [
    {
     "data": {
      "text/plain": [
       "1.959963984540054"
      ]
     },
     "execution_count": 10,
     "metadata": {},
     "output_type": "execute_result"
    }
   ],
   "source": [
    "z_star = stats.norm.ppf((1-conf)/2 + conf)\n",
    "z_star"
   ]
  },
  {
   "cell_type": "code",
   "execution_count": 11,
   "id": "d807501c",
   "metadata": {},
   "outputs": [
    {
     "data": {
      "text/plain": [
       "2679.783306160335"
      ]
     },
     "execution_count": 11,
     "metadata": {},
     "output_type": "execute_result"
    }
   ],
   "source": [
    "lower_limit = sample_mean - (z_star * sample_std)\n",
    "lower_limit"
   ]
  },
  {
   "cell_type": "code",
   "execution_count": 12,
   "id": "d1eb235d",
   "metadata": {},
   "outputs": [
    {
     "data": {
      "text/plain": [
       "4443.136693839665"
      ]
     },
     "execution_count": 12,
     "metadata": {},
     "output_type": "execute_result"
    }
   ],
   "source": [
    "upper_limit = sample_mean + (z_star * sample_std)\n",
    "upper_limit"
   ]
  },
  {
   "cell_type": "code",
   "execution_count": 13,
   "id": "32583e17",
   "metadata": {},
   "outputs": [],
   "source": [
    "def confidence_limits(conf, n, data,column): \n",
    "    import random\n",
    "    sample_mean = np.mean(random.sample(list(data[column]), n)) #getting a single sample mean\n",
    "\n",
    "    standard_error = np.std(data[column]) / np.sqrt(n) #same formula we used previously for SE\n",
    "\n",
    "    z_star = stats.norm.ppf(((1 - conf) / 2) +conf) #For any confidence level, the probability we want from our z table is halfway between that value and 1 because we just take into account both tails of the distribution\n",
    "\n",
    "    CI =  sample_mean - (z_star * standard_error), sample_mean + (z_star * standard_error)\n",
    "\n",
    "    return f\"Interpretation: With a sample mean of {round(sample_mean, 2)}, we can be {round(conf * 100, 2)}% confident that the true population mean lies between {round(CI[0], 2)} and {round(CI[1], 2)}.\""
   ]
  },
  {
   "cell_type": "code",
   "execution_count": 14,
   "id": "64796d4c",
   "metadata": {},
   "outputs": [
    {
     "data": {
      "text/plain": [
       "'Interpretation: With a sample mean of 3871.05, we can be 99.0% confident that the true population mean lies between 3768.29 and 3973.81.'"
      ]
     },
     "execution_count": 14,
     "metadata": {},
     "output_type": "execute_result"
    }
   ],
   "source": [
    "confidence_limits(0.99, 10000, diamond_df,\"price\")"
   ]
  },
  {
   "cell_type": "code",
   "execution_count": 15,
   "id": "78807b26",
   "metadata": {},
   "outputs": [
    {
     "data": {
      "text/plain": [
       "18.35852428029007"
      ]
     },
     "execution_count": 15,
     "metadata": {},
     "output_type": "execute_result"
    }
   ],
   "source": [
    "np.sqrt(500*.53*.47) *1.645"
   ]
  },
  {
   "cell_type": "code",
   "execution_count": 16,
   "id": "3df4a1c4",
   "metadata": {},
   "outputs": [
    {
     "data": {
      "text/plain": [
       "265.0"
      ]
     },
     "execution_count": 16,
     "metadata": {},
     "output_type": "execute_result"
    }
   ],
   "source": [
    "500*.53"
   ]
  },
  {
   "cell_type": "markdown",
   "id": "5dac776d",
   "metadata": {},
   "source": [
    "## Hypothesis Testing"
   ]
  },
  {
   "cell_type": "markdown",
   "id": "d7d5673b",
   "metadata": {},
   "source": [
    "The actual test begins by considering two hypotheses. They are called the null hypothesis and the alternative hypothesis. These hypotheses contain opposing viewpoints.\n",
    "\n",
    "- H0: The null hypothesis: It is a statement about the population that either is believed to be true or is used to put forth an argument unless it can be shown to be incorrect beyond a reasonable doubt.\n",
    "\n",
    "- Ha: The alternative hypothesis: It is a claim about the population that is contradictory to H0 and what we conclude when we reject H0.\n",
    "\n",
    "Since the null and alternative hypotheses are contradictory, you must examine evidence to decide if you have enough evidence to reject the null hypothesis or not. The evidence is in the form of sample data."
   ]
  },
  {
   "cell_type": "markdown",
   "id": "323208aa",
   "metadata": {},
   "source": [
    "**Example-1:**\n",
    "\n",
    "A principal at a certain school claims that the students in his school are above average intelligence. A random sample of thirty students IQ scores have a mean score of 112.5. Is there sufficient evidence to support the principal’s claim? The mean population IQ is 100 with a standard deviation of 15."
   ]
  },
  {
   "cell_type": "code",
   "execution_count": 44,
   "id": "d5ce857c",
   "metadata": {},
   "outputs": [],
   "source": [
    "pop_mean = 100\n",
    "pop_std = 15\n",
    "sample_mean = 112.5\n",
    "sample_size = 30\n",
    "\n",
    "def z_test(sample_mean,pop_mean,pop_std,sample_size):\n",
    "    return (sample_mean - pop_mean) / (pop_std / np.sqrt(sample_size))"
   ]
  },
  {
   "cell_type": "code",
   "execution_count": 47,
   "id": "7f68b800",
   "metadata": {},
   "outputs": [],
   "source": [
    "z_score = z_test(sample_mean,pop_mean,pop_std,sample_size)"
   ]
  },
  {
   "cell_type": "code",
   "execution_count": 55,
   "id": "da9d6d01",
   "metadata": {},
   "outputs": [
    {
     "data": {
      "text/plain": [
       "2.5e-06"
      ]
     },
     "execution_count": 55,
     "metadata": {},
     "output_type": "execute_result"
    }
   ],
   "source": [
    "p_val = (1 - stats.norm.cdf(z_score))\n",
    "np.round(p_val,7)"
   ]
  },
  {
   "cell_type": "code",
   "execution_count": 56,
   "id": "6f8d1c3d",
   "metadata": {},
   "outputs": [
    {
     "name": "stdout",
     "output_type": "stream",
     "text": [
      "Reject Null Hypothesis:\n"
     ]
    }
   ],
   "source": [
    "if p_val <= 0.01:\n",
    "    print('Reject Null Hypothesis:')\n",
    "else:\n",
    "    print('Accept Null Hypothesis')"
   ]
  },
  {
   "cell_type": "markdown",
   "id": "bd2ea255",
   "metadata": {},
   "source": [
    "**Example:**\n",
    "\n",
    "Blood glucose levels for obese patients have a mean of 100 with a standard deviation of 15. A researcher thinks that a diet high in raw cornstarch will have a positive or negative effect on blood glucose levels. A sample of 30 patients who have tried the raw cornstarch diet have a mean glucose level of 140. Test the hypothesis that the raw cornstarch had an effect.\n",
    "\n"
   ]
  },
  {
   "cell_type": "markdown",
   "id": "06af3745",
   "metadata": {},
   "source": [
    "#### Example problem:\n",
    "Say your friend, told you that he thinks data scientists earn more than 125,000 dollars per year. You doubt him, so you design a test to see who’s right. sample mean is 100000 and std is 200 of 200 observations."
   ]
  },
  {
   "cell_type": "markdown",
   "id": "e1a7a31c",
   "metadata": {},
   "source": [
    "#### Example problem: \n",
    "\n",
    "A medical trial is conducted to test whether or not a new medicine reduces cholesterol by 25%. State the null and alternative hypotheses."
   ]
  },
  {
   "cell_type": "markdown",
   "id": "43c39951",
   "metadata": {},
   "source": [
    "2. A factory is producing the bolts with the average diameter 21mm. A random sample pf 25 bolts has a mean diameter 22.6mm and standard deviation 3mm. Can we assune that the sample has been drawn from the population at 5% level of significance"
   ]
  },
  {
   "cell_type": "code",
   "execution_count": 31,
   "id": "c7969826",
   "metadata": {},
   "outputs": [],
   "source": [
    "def t_test(x_bar,mu,sample_std,sample_size):\n",
    "    return (x_bar - mu) / (sample_std/ np.sqrt(sample_size -1 ))"
   ]
  },
  {
   "cell_type": "code",
   "execution_count": 32,
   "id": "2d767435",
   "metadata": {},
   "outputs": [],
   "source": [
    "t_score = t_test(22.6, 21,3,25)"
   ]
  },
  {
   "cell_type": "code",
   "execution_count": 33,
   "id": "fb6c7f90",
   "metadata": {},
   "outputs": [
    {
     "data": {
      "text/plain": [
       "2.6127890589687253"
      ]
     },
     "execution_count": 33,
     "metadata": {},
     "output_type": "execute_result"
    }
   ],
   "source": [
    "t_score"
   ]
  },
  {
   "cell_type": "markdown",
   "id": "f104e55b",
   "metadata": {},
   "source": [
    "p_val = 1 - cdf(x) - one tailed test\n",
    "\n",
    "p_val = 2(1 - cdf(x)) - two tailed test"
   ]
  },
  {
   "cell_type": "code",
   "execution_count": 58,
   "id": "cd62d4fe",
   "metadata": {},
   "outputs": [],
   "source": [
    "p_val = 2*(1 - stats.t.cdf(t_score,24))"
   ]
  },
  {
   "cell_type": "code",
   "execution_count": 61,
   "id": "fc33b28b",
   "metadata": {},
   "outputs": [
    {
     "data": {
      "text/plain": [
       "0.015256495534003767"
      ]
     },
     "execution_count": 61,
     "metadata": {},
     "output_type": "execute_result"
    }
   ],
   "source": [
    "p_val"
   ]
  },
  {
   "cell_type": "code",
   "execution_count": 63,
   "id": "fcc6c480",
   "metadata": {},
   "outputs": [
    {
     "name": "stdout",
     "output_type": "stream",
     "text": [
      "Reject Null Hypothesis:\n"
     ]
    }
   ],
   "source": [
    "if p_val <= 0.02:\n",
    "    print('Reject Null Hypothesis:')\n",
    "else:\n",
    "    print('Accept Null Hypothesis')"
   ]
  },
  {
   "cell_type": "code",
   "execution_count": null,
   "id": "2e8112af",
   "metadata": {},
   "outputs": [],
   "source": []
  },
  {
   "cell_type": "code",
   "execution_count": null,
   "id": "3210d041",
   "metadata": {},
   "outputs": [],
   "source": []
  },
  {
   "cell_type": "markdown",
   "id": "9689bf66",
   "metadata": {},
   "source": [
    "**Answer:**\n",
    "\n",
    "Step 1: State the Null hypothesis. The accepted fact is that the population mean is 100, so: \n",
    "- H0: μ <= 100.\n",
    "\n",
    "\n",
    "Step 2: State the Alternate Hypothesis. The claim is that the students have above average IQ scores, so:\n",
    "- H1: μ > 100.\n",
    "\n",
    "The fact that we are looking for scores “greater than” a certain point means that this is a one-tailed test."
   ]
  },
  {
   "cell_type": "code",
   "execution_count": null,
   "id": "64da8d94",
   "metadata": {},
   "outputs": [],
   "source": []
  },
  {
   "cell_type": "code",
   "execution_count": null,
   "id": "6ff6f73a",
   "metadata": {},
   "outputs": [],
   "source": []
  },
  {
   "cell_type": "code",
   "execution_count": 17,
   "id": "5f7d1a7f",
   "metadata": {},
   "outputs": [],
   "source": [
    "sample_mean = 112.5\n",
    "pop_mean = 100\n",
    "pop_std = 15\n",
    "sample_size = 30\n",
    "\n",
    "def t_score(sample_size, sample_mean,pop_mean, pop_std):\n",
    "    numerator = sample_mean - pop_mean\n",
    "    denominator = pop_std / np.sqrt(sample_size-1)\n",
    "\n",
    "    return numerator/denominator"
   ]
  },
  {
   "cell_type": "code",
   "execution_count": 18,
   "id": "34fd0ffa",
   "metadata": {},
   "outputs": [
    {
     "data": {
      "text/plain": [
       "4.487637339278753"
      ]
     },
     "execution_count": 18,
     "metadata": {},
     "output_type": "execute_result"
    }
   ],
   "source": [
    "t_score = t_score(sample_size, sample_mean, pop_mean,pop_std)\n",
    "t_score"
   ]
  },
  {
   "cell_type": "markdown",
   "id": "ed8ab8c2",
   "metadata": {},
   "source": [
    "### p_value = prob(t>t_score) or 1 - prob(t <= t_score) "
   ]
  },
  {
   "cell_type": "code",
   "execution_count": 19,
   "id": "2471c232",
   "metadata": {},
   "outputs": [
    {
     "data": {
      "text/plain": [
       "5.3e-05"
      ]
     },
     "execution_count": 19,
     "metadata": {},
     "output_type": "execute_result"
    }
   ],
   "source": [
    "p_val = 1-stats.t.cdf(t_score,29)\n",
    "np.round(p_val,6)"
   ]
  },
  {
   "cell_type": "code",
   "execution_count": 20,
   "id": "364c4952",
   "metadata": {},
   "outputs": [],
   "source": [
    "p_val = 0.000053"
   ]
  },
  {
   "cell_type": "code",
   "execution_count": 21,
   "id": "4c278acd",
   "metadata": {},
   "outputs": [
    {
     "name": "stdout",
     "output_type": "stream",
     "text": [
      "Reject H0: \n"
     ]
    }
   ],
   "source": [
    "if p_val < 0.05:\n",
    "    print('Reject H0: ')\n",
    "else:\n",
    "    print('Failed to Reject H0: The population mean is equal to 18.9')    "
   ]
  },
  {
   "cell_type": "markdown",
   "id": "daf37f5c",
   "metadata": {},
   "source": [
    "**Example-2:**\n",
    "\n",
    "A researcher thinks that if knee surgery patients go to physical therapy twice a week (instead of 3 times), their recovery period will be longer. Average recovery times for knee surgery patients is 8.2 weeks."
   ]
  },
  {
   "cell_type": "markdown",
   "id": "3a63f192",
   "metadata": {},
   "source": [
    "**Answer:**\n",
    "\n",
    "The hypothesis statement in this question is that the researcher believes the average recovery time is more than 8.2 weeks. It can be written in mathematical terms as:\n",
    "- **H1: μ > 8.2**\n",
    " \n",
    "Next, you’ll need to state the null hypothesis (See: How to state the null hypothesis). That’s what will happen if the researcher is wrong. In the above example, if the researcher is wrong then the recovery time is less than or equal to 8.2 weeks. In math, that’s:\n",
    "- **H0 μ ≤ 8.2**"
   ]
  },
  {
   "cell_type": "markdown",
   "id": "129e3fe7",
   "metadata": {},
   "source": [
    "**Example:**\n",
    "\n",
    "Blood glucose levels for obese patients have a mean of 100 with a standard deviation of 15. A researcher thinks that a diet high in raw cornstarch will have a positive or negative effect on blood glucose levels. A sample of 30 patients who have tried the raw cornstarch diet have a mean glucose level of 140. Test the hypothesis that the raw cornstarch had an effect.\n",
    "\n"
   ]
  },
  {
   "cell_type": "code",
   "execution_count": null,
   "id": "2480e67b",
   "metadata": {},
   "outputs": [],
   "source": []
  },
  {
   "cell_type": "markdown",
   "id": "b6eaa6de",
   "metadata": {},
   "source": [
    "- Step 1: State the null hypothesis: H0:μ=100\n",
    "- Step 2: State the alternate hypothesis: H1:≠100"
   ]
  },
  {
   "cell_type": "markdown",
   "id": "7cc7dbe6",
   "metadata": {},
   "source": [
    "#### Example problem: \n",
    "A sample of 200 people has a mean age of 21 with a population standard deviation (σ) of 5. Test the hypothesis that the population mean is 18.9 at α = 0.05."
   ]
  },
  {
   "cell_type": "markdown",
   "id": "5769553e",
   "metadata": {},
   "source": [
    "H0: the population mean is 18.9\n",
    "    \n",
    "H1: the population mean is not equal to 18.9"
   ]
  },
  {
   "cell_type": "markdown",
   "id": "5d639895",
   "metadata": {},
   "source": [
    "$ z-score = \\frac {\\bar{x} - \\mu}{\\sigma/\\sqrt{n}} $"
   ]
  },
  {
   "cell_type": "code",
   "execution_count": 22,
   "id": "3c7dfcd2",
   "metadata": {},
   "outputs": [],
   "source": [
    "sample_mean = 21\n",
    "pop_mean = 18.9\n",
    "pop_std = 5\n",
    "sample_size = 200\n",
    "\n",
    "def z_score(sample_size, sample_mean,pop_mean, pop_std):\n",
    "    numerator = sample_mean - pop_mean\n",
    "    denominator = pop_std / np.sqrt(sample_size)\n",
    "\n",
    "    return numerator/denominator"
   ]
  },
  {
   "cell_type": "code",
   "execution_count": 23,
   "id": "09933e84",
   "metadata": {},
   "outputs": [
    {
     "data": {
      "text/plain": [
       "5.9396969619670035"
      ]
     },
     "execution_count": 23,
     "metadata": {},
     "output_type": "execute_result"
    }
   ],
   "source": [
    "z_cal = z_score(200,21,18.9,5)\n",
    "z_cal"
   ]
  },
  {
   "cell_type": "code",
   "execution_count": 24,
   "id": "5e663026",
   "metadata": {},
   "outputs": [
    {
     "data": {
      "text/plain": [
       "1.959963984540054"
      ]
     },
     "execution_count": 24,
     "metadata": {},
     "output_type": "execute_result"
    }
   ],
   "source": [
    "conf = 0.95\n",
    "z_table = stats.norm.ppf((1-conf)/2 + conf)\n",
    "z_table"
   ]
  },
  {
   "cell_type": "markdown",
   "id": "05ca16d0",
   "metadata": {},
   "source": [
    "### p_val = 1 - cdf(z_cal)"
   ]
  },
  {
   "cell_type": "code",
   "execution_count": 25,
   "id": "5c290925",
   "metadata": {},
   "outputs": [
    {
     "data": {
      "text/plain": [
       "2.8554942854697174e-09"
      ]
     },
     "execution_count": 25,
     "metadata": {},
     "output_type": "execute_result"
    }
   ],
   "source": [
    "p_val = 2*(1 - stats.norm.cdf(z_cal))\n",
    "p_val"
   ]
  },
  {
   "cell_type": "code",
   "execution_count": 26,
   "id": "d030d417",
   "metadata": {},
   "outputs": [
    {
     "name": "stdout",
     "output_type": "stream",
     "text": [
      "Reject H0: The population mean is not equal to 18.9\n"
     ]
    }
   ],
   "source": [
    "if z_cal > z_table:\n",
    "    print('Reject H0: The population mean is not equal to 18.9')\n",
    "else:\n",
    "    print('Failed to Reject H0: The population mean is equal to 18.9')    "
   ]
  },
  {
   "cell_type": "code",
   "execution_count": 27,
   "id": "667d8747",
   "metadata": {},
   "outputs": [
    {
     "name": "stdout",
     "output_type": "stream",
     "text": [
      "Reject H0: The population mean is not equal to 18.9\n"
     ]
    }
   ],
   "source": [
    "if p_val < 0.05:\n",
    "    print('Reject H0: The population mean is not equal to 18.9')\n",
    "else:\n",
    "    print('Failed to Reject H0: The population mean is equal to 18.9')    "
   ]
  },
  {
   "cell_type": "markdown",
   "id": "3598b99b",
   "metadata": {},
   "source": [
    "#### Example problem: \n",
    "Say your friend, told you that he thinks data scientists earn more than 125,000 dollars per year. You doubt him, so you design a test to see who’s right. sample mean is 100000 and std is 200 of 200 observations."
   ]
  },
  {
   "cell_type": "markdown",
   "id": "2ff1b93a",
   "metadata": {},
   "source": [
    "- The Alternative hypothesis of this test would be: The mean data scientist salary is more than 125,000 dollars.\n",
    "\n",
    "- The Null hypothesis will cover everything else, thus: The mean data scientist salary is less than or equal to 125,000 dollars."
   ]
  },
  {
   "cell_type": "code",
   "execution_count": 28,
   "id": "77e589a2",
   "metadata": {},
   "outputs": [],
   "source": [
    "def z_score(sample_size, sample_mean,pop_mean, pop_std):\n",
    "    numerator = sample_mean - pop_mean\n",
    "    denominator = pop_std / np.sqrt(sample_size)\n",
    "\n",
    "    return numerator/denominator"
   ]
  },
  {
   "cell_type": "code",
   "execution_count": 29,
   "id": "2cfab685",
   "metadata": {},
   "outputs": [
    {
     "data": {
      "text/plain": [
       "-1767.766952966369"
      ]
     },
     "execution_count": 29,
     "metadata": {},
     "output_type": "execute_result"
    }
   ],
   "source": [
    "z_cal = z_score(200, 100000, 125000,200)\n",
    "z_cal"
   ]
  },
  {
   "cell_type": "code",
   "execution_count": 30,
   "id": "5ed3cdd8",
   "metadata": {},
   "outputs": [
    {
     "data": {
      "text/plain": [
       "-1.6448536269514722"
      ]
     },
     "execution_count": 30,
     "metadata": {},
     "output_type": "execute_result"
    }
   ],
   "source": [
    "conf = 0.95\n",
    "z_table = stats.norm.ppf(1-conf)\n",
    "z_table"
   ]
  },
  {
   "cell_type": "code",
   "execution_count": 31,
   "id": "f4771fd3",
   "metadata": {},
   "outputs": [
    {
     "name": "stdout",
     "output_type": "stream",
     "text": [
      "Failed to Reject H0\n"
     ]
    }
   ],
   "source": [
    "if z_cal > z_table:\n",
    "    print('Reject H0')\n",
    "else:\n",
    "    print('Failed to Reject H0')"
   ]
  },
  {
   "cell_type": "code",
   "execution_count": 32,
   "id": "5fe12b27",
   "metadata": {},
   "outputs": [
    {
     "data": {
      "text/plain": [
       "-1767.766952966369"
      ]
     },
     "execution_count": 32,
     "metadata": {},
     "output_type": "execute_result"
    }
   ],
   "source": [
    "z_cal"
   ]
  },
  {
   "cell_type": "code",
   "execution_count": 33,
   "id": "972dfb8b",
   "metadata": {},
   "outputs": [
    {
     "data": {
      "text/plain": [
       "1.0"
      ]
     },
     "execution_count": 33,
     "metadata": {},
     "output_type": "execute_result"
    }
   ],
   "source": [
    "p_val = 1 - stats.norm.cdf(z_cal)\n",
    "p_val"
   ]
  },
  {
   "cell_type": "code",
   "execution_count": 34,
   "id": "18b766f5",
   "metadata": {},
   "outputs": [
    {
     "name": "stdout",
     "output_type": "stream",
     "text": [
      "Failed to Reject H0\n"
     ]
    }
   ],
   "source": [
    "if p_val < 0.05:\n",
    "    print('Reject H0')\n",
    "else:\n",
    "    print('Failed to Reject H0')"
   ]
  },
  {
   "cell_type": "markdown",
   "id": "6b7a71d2",
   "metadata": {},
   "source": [
    "#### Example problem: \n",
    "\n",
    "A medical trial is conducted to test whether or not a new medicine reduces cholesterol by 25%. State the null and alternative hypotheses.\n",
    "\n",
    "- H0 : The drug reduces cholesterol by 25%. p = 0.25\n",
    "\n",
    "- Ha : The drug does not reduce cholesterol by 25%. p ≠ 0.25"
   ]
  },
  {
   "cell_type": "markdown",
   "id": "7aed6877",
   "metadata": {},
   "source": [
    "#### Example problem: \n",
    "We want to test if it takes fewer than 45 minutes to teach a lesson plan. State the null and alternative hypotheses. Fill in the correct symbol ( =, ≠, ≥, <, ≤, >) for the null and alternative hypotheses.\n",
    "- H0: μ __ 45 \n",
    "- Ha:μ __ 45"
   ]
  },
  {
   "cell_type": "markdown",
   "id": "91507a9f",
   "metadata": {},
   "source": [
    "#### Example problem: \n",
    "\n",
    "On a state driver’s test, about 40% pass the test on the first try. We want to test if more than 40% pass on the first try. Fill in the correct symbol (=, ≠, ≥, <, ≤, >) for the null and alternative hypotheses.\n",
    "- H0: p __ 0.40 \n",
    "- Ha: p __ 0.40"
   ]
  },
  {
   "cell_type": "markdown",
   "id": "e2770bac",
   "metadata": {},
   "source": [
    "### Examples of two-sided and one-sided hypotheses\n",
    "#### Two-sided\n",
    "A researcher has results for a sample of students who took a national exam at a high school. The researcher wants to know if the scores at that school differ from the national average of 850. A two-sided alternative hypothesis (also known as a nondirectional hypothesis) is appropriate because the researcher is interested in determining whether the scores are either less than or greater than the national average. (H0: μ = 850 vs. H1: μ≠ 850)\n",
    "#### One-sided\n",
    "A researcher has exam results for a sample of students who took a training course for a national exam. The researcher wants to know if trained students score above the national average of 850. A one-sided alternative hypothesis (also known as a directional hypothesis) can be used because the researcher is specifically hypothesizing that scores for trained students are greater than the national average. (H0: μ = 850 vs. H1: μ > 850)"
   ]
  },
  {
   "cell_type": "code",
   "execution_count": null,
   "id": "de8dfe9d",
   "metadata": {},
   "outputs": [],
   "source": []
  },
  {
   "cell_type": "markdown",
   "id": "5689cf11",
   "metadata": {},
   "source": [
    "#### You have developed a new Natural Language Processing Algorithms and done a user study. You claim that the average rating given by the users is greater than 4 on a scale of 1 to 5. How do you prove this to your client? (Given that the population std is 0.5)"
   ]
  },
  {
   "cell_type": "markdown",
   "id": "4d556f97",
   "metadata": {},
   "source": [
    "1. A dice is thrown 900 times and a face of 3 or 5 is observed 335 times. test whether the dice is unbaised.\n"
   ]
  },
  {
   "cell_type": "code",
   "execution_count": null,
   "id": "e87cd486",
   "metadata": {},
   "outputs": [],
   "source": []
  },
  {
   "cell_type": "markdown",
   "id": "cd14f7b4",
   "metadata": {},
   "source": [
    "2. A factory is producing the bolts with the average diameter 21mm. A random sample pf 25 bolts has a mean diameter 22.6mm and standard deviation 3mm. Can we assune that the sample has been drawn from the population at 5% level of significance"
   ]
  },
  {
   "cell_type": "markdown",
   "id": "7d474992",
   "metadata": {},
   "source": [
    "Ho: A factory is producing the bolts with the average diameter 21mm.\n",
    "\n",
    "$\\mu = 21mm.$\n",
    "\n",
    "H1: \n",
    "$\\mu \\neq 21mm.$"
   ]
  },
  {
   "cell_type": "code",
   "execution_count": 35,
   "id": "4b1cc370",
   "metadata": {},
   "outputs": [],
   "source": [
    "def t_score(sample_size, sample_mean,pop_mean, pop_std):\n",
    "    numerator = sample_mean - pop_mean\n",
    "    denominator = pop_std / np.sqrt(sample_size-1)\n",
    "\n",
    "    return numerator/denominator"
   ]
  },
  {
   "cell_type": "code",
   "execution_count": 36,
   "id": "aaa8cd68",
   "metadata": {},
   "outputs": [
    {
     "data": {
      "text/plain": [
       "2.6127890589687253"
      ]
     },
     "execution_count": 36,
     "metadata": {},
     "output_type": "execute_result"
    }
   ],
   "source": [
    "sample_size = 25\n",
    "sample_mean = 22.6\n",
    "pop_mean = 21\n",
    "pop_std = 3\n",
    "\n",
    "t_cal = t_score(sample_size, sample_mean, pop_mean,pop_std)\n",
    "t_cal"
   ]
  },
  {
   "cell_type": "code",
   "execution_count": 37,
   "id": "4c27b96a",
   "metadata": {},
   "outputs": [],
   "source": [
    "t_table = 2.064"
   ]
  },
  {
   "cell_type": "code",
   "execution_count": 38,
   "id": "8a0f5e72",
   "metadata": {},
   "outputs": [
    {
     "data": {
      "text/plain": [
       "2.064"
      ]
     },
     "execution_count": 38,
     "metadata": {},
     "output_type": "execute_result"
    }
   ],
   "source": [
    "conf = 0.95\n",
    "t_table = stats.t.ppf((1-conf)/2 + conf,sample_size-1)\n",
    "np.round(t_table,3)"
   ]
  },
  {
   "cell_type": "code",
   "execution_count": 39,
   "id": "46eb257a",
   "metadata": {},
   "outputs": [
    {
     "name": "stdout",
     "output_type": "stream",
     "text": [
      "Reject H0\n"
     ]
    }
   ],
   "source": [
    "if t_cal > t_table:\n",
    "    print('Reject H0')\n",
    "else:\n",
    "    print('Failed to Reject H0')"
   ]
  },
  {
   "cell_type": "markdown",
   "id": "5b739c08",
   "metadata": {},
   "source": [
    "### Chi square Test"
   ]
  },
  {
   "cell_type": "code",
   "execution_count": 40,
   "id": "777926a9",
   "metadata": {},
   "outputs": [
    {
     "data": {
      "text/html": [
       "<div>\n",
       "<style scoped>\n",
       "    .dataframe tbody tr th:only-of-type {\n",
       "        vertical-align: middle;\n",
       "    }\n",
       "\n",
       "    .dataframe tbody tr th {\n",
       "        vertical-align: top;\n",
       "    }\n",
       "\n",
       "    .dataframe thead th {\n",
       "        text-align: right;\n",
       "    }\n",
       "</style>\n",
       "<table border=\"1\" class=\"dataframe\">\n",
       "  <thead>\n",
       "    <tr style=\"text-align: right;\">\n",
       "      <th></th>\n",
       "      <th>carat</th>\n",
       "      <th>cut</th>\n",
       "      <th>color</th>\n",
       "      <th>clarity</th>\n",
       "      <th>depth</th>\n",
       "      <th>table</th>\n",
       "      <th>price</th>\n",
       "      <th>x</th>\n",
       "      <th>y</th>\n",
       "      <th>z</th>\n",
       "    </tr>\n",
       "  </thead>\n",
       "  <tbody>\n",
       "    <tr>\n",
       "      <th>0</th>\n",
       "      <td>0.23</td>\n",
       "      <td>Ideal</td>\n",
       "      <td>E</td>\n",
       "      <td>SI2</td>\n",
       "      <td>61.5</td>\n",
       "      <td>55.0</td>\n",
       "      <td>326</td>\n",
       "      <td>3.95</td>\n",
       "      <td>3.98</td>\n",
       "      <td>2.43</td>\n",
       "    </tr>\n",
       "    <tr>\n",
       "      <th>1</th>\n",
       "      <td>0.21</td>\n",
       "      <td>Premium</td>\n",
       "      <td>E</td>\n",
       "      <td>SI1</td>\n",
       "      <td>59.8</td>\n",
       "      <td>61.0</td>\n",
       "      <td>326</td>\n",
       "      <td>3.89</td>\n",
       "      <td>3.84</td>\n",
       "      <td>2.31</td>\n",
       "    </tr>\n",
       "    <tr>\n",
       "      <th>2</th>\n",
       "      <td>0.23</td>\n",
       "      <td>Good</td>\n",
       "      <td>E</td>\n",
       "      <td>VS1</td>\n",
       "      <td>56.9</td>\n",
       "      <td>65.0</td>\n",
       "      <td>327</td>\n",
       "      <td>4.05</td>\n",
       "      <td>4.07</td>\n",
       "      <td>2.31</td>\n",
       "    </tr>\n",
       "    <tr>\n",
       "      <th>3</th>\n",
       "      <td>0.29</td>\n",
       "      <td>Premium</td>\n",
       "      <td>I</td>\n",
       "      <td>VS2</td>\n",
       "      <td>62.4</td>\n",
       "      <td>58.0</td>\n",
       "      <td>334</td>\n",
       "      <td>4.20</td>\n",
       "      <td>4.23</td>\n",
       "      <td>2.63</td>\n",
       "    </tr>\n",
       "    <tr>\n",
       "      <th>4</th>\n",
       "      <td>0.31</td>\n",
       "      <td>Good</td>\n",
       "      <td>J</td>\n",
       "      <td>SI2</td>\n",
       "      <td>63.3</td>\n",
       "      <td>58.0</td>\n",
       "      <td>335</td>\n",
       "      <td>4.34</td>\n",
       "      <td>4.35</td>\n",
       "      <td>2.75</td>\n",
       "    </tr>\n",
       "    <tr>\n",
       "      <th>...</th>\n",
       "      <td>...</td>\n",
       "      <td>...</td>\n",
       "      <td>...</td>\n",
       "      <td>...</td>\n",
       "      <td>...</td>\n",
       "      <td>...</td>\n",
       "      <td>...</td>\n",
       "      <td>...</td>\n",
       "      <td>...</td>\n",
       "      <td>...</td>\n",
       "    </tr>\n",
       "    <tr>\n",
       "      <th>53935</th>\n",
       "      <td>0.72</td>\n",
       "      <td>Ideal</td>\n",
       "      <td>D</td>\n",
       "      <td>SI1</td>\n",
       "      <td>60.8</td>\n",
       "      <td>57.0</td>\n",
       "      <td>2757</td>\n",
       "      <td>5.75</td>\n",
       "      <td>5.76</td>\n",
       "      <td>3.50</td>\n",
       "    </tr>\n",
       "    <tr>\n",
       "      <th>53936</th>\n",
       "      <td>0.72</td>\n",
       "      <td>Good</td>\n",
       "      <td>D</td>\n",
       "      <td>SI1</td>\n",
       "      <td>63.1</td>\n",
       "      <td>55.0</td>\n",
       "      <td>2757</td>\n",
       "      <td>5.69</td>\n",
       "      <td>5.75</td>\n",
       "      <td>3.61</td>\n",
       "    </tr>\n",
       "    <tr>\n",
       "      <th>53937</th>\n",
       "      <td>0.70</td>\n",
       "      <td>Very Good</td>\n",
       "      <td>D</td>\n",
       "      <td>SI1</td>\n",
       "      <td>62.8</td>\n",
       "      <td>60.0</td>\n",
       "      <td>2757</td>\n",
       "      <td>5.66</td>\n",
       "      <td>5.68</td>\n",
       "      <td>3.56</td>\n",
       "    </tr>\n",
       "    <tr>\n",
       "      <th>53938</th>\n",
       "      <td>0.86</td>\n",
       "      <td>Premium</td>\n",
       "      <td>H</td>\n",
       "      <td>SI2</td>\n",
       "      <td>61.0</td>\n",
       "      <td>58.0</td>\n",
       "      <td>2757</td>\n",
       "      <td>6.15</td>\n",
       "      <td>6.12</td>\n",
       "      <td>3.74</td>\n",
       "    </tr>\n",
       "    <tr>\n",
       "      <th>53939</th>\n",
       "      <td>0.75</td>\n",
       "      <td>Ideal</td>\n",
       "      <td>D</td>\n",
       "      <td>SI2</td>\n",
       "      <td>62.2</td>\n",
       "      <td>55.0</td>\n",
       "      <td>2757</td>\n",
       "      <td>5.83</td>\n",
       "      <td>5.87</td>\n",
       "      <td>3.64</td>\n",
       "    </tr>\n",
       "  </tbody>\n",
       "</table>\n",
       "<p>53940 rows × 10 columns</p>\n",
       "</div>"
      ],
      "text/plain": [
       "       carat        cut color clarity  depth  table  price     x     y     z\n",
       "0       0.23      Ideal     E     SI2   61.5   55.0    326  3.95  3.98  2.43\n",
       "1       0.21    Premium     E     SI1   59.8   61.0    326  3.89  3.84  2.31\n",
       "2       0.23       Good     E     VS1   56.9   65.0    327  4.05  4.07  2.31\n",
       "3       0.29    Premium     I     VS2   62.4   58.0    334  4.20  4.23  2.63\n",
       "4       0.31       Good     J     SI2   63.3   58.0    335  4.34  4.35  2.75\n",
       "...      ...        ...   ...     ...    ...    ...    ...   ...   ...   ...\n",
       "53935   0.72      Ideal     D     SI1   60.8   57.0   2757  5.75  5.76  3.50\n",
       "53936   0.72       Good     D     SI1   63.1   55.0   2757  5.69  5.75  3.61\n",
       "53937   0.70  Very Good     D     SI1   62.8   60.0   2757  5.66  5.68  3.56\n",
       "53938   0.86    Premium     H     SI2   61.0   58.0   2757  6.15  6.12  3.74\n",
       "53939   0.75      Ideal     D     SI2   62.2   55.0   2757  5.83  5.87  3.64\n",
       "\n",
       "[53940 rows x 10 columns]"
      ]
     },
     "execution_count": 40,
     "metadata": {},
     "output_type": "execute_result"
    }
   ],
   "source": [
    "diamond_df"
   ]
  },
  {
   "cell_type": "code",
   "execution_count": 6,
   "id": "b1db784e",
   "metadata": {},
   "outputs": [
    {
     "data": {
      "text/html": [
       "<div>\n",
       "<style scoped>\n",
       "    .dataframe tbody tr th:only-of-type {\n",
       "        vertical-align: middle;\n",
       "    }\n",
       "\n",
       "    .dataframe tbody tr th {\n",
       "        vertical-align: top;\n",
       "    }\n",
       "\n",
       "    .dataframe thead th {\n",
       "        text-align: right;\n",
       "    }\n",
       "</style>\n",
       "<table border=\"1\" class=\"dataframe\">\n",
       "  <thead>\n",
       "    <tr style=\"text-align: right;\">\n",
       "      <th>color</th>\n",
       "      <th>D</th>\n",
       "      <th>E</th>\n",
       "      <th>F</th>\n",
       "      <th>G</th>\n",
       "      <th>H</th>\n",
       "      <th>I</th>\n",
       "      <th>J</th>\n",
       "      <th>All</th>\n",
       "    </tr>\n",
       "    <tr>\n",
       "      <th>cut</th>\n",
       "      <th></th>\n",
       "      <th></th>\n",
       "      <th></th>\n",
       "      <th></th>\n",
       "      <th></th>\n",
       "      <th></th>\n",
       "      <th></th>\n",
       "      <th></th>\n",
       "    </tr>\n",
       "  </thead>\n",
       "  <tbody>\n",
       "    <tr>\n",
       "      <th>Ideal</th>\n",
       "      <td>2834</td>\n",
       "      <td>3903</td>\n",
       "      <td>3826</td>\n",
       "      <td>4884</td>\n",
       "      <td>3115</td>\n",
       "      <td>2093</td>\n",
       "      <td>896</td>\n",
       "      <td>21551</td>\n",
       "    </tr>\n",
       "    <tr>\n",
       "      <th>Premium</th>\n",
       "      <td>1603</td>\n",
       "      <td>2337</td>\n",
       "      <td>2331</td>\n",
       "      <td>2924</td>\n",
       "      <td>2360</td>\n",
       "      <td>1428</td>\n",
       "      <td>808</td>\n",
       "      <td>13791</td>\n",
       "    </tr>\n",
       "    <tr>\n",
       "      <th>Very Good</th>\n",
       "      <td>1513</td>\n",
       "      <td>2400</td>\n",
       "      <td>2164</td>\n",
       "      <td>2299</td>\n",
       "      <td>1824</td>\n",
       "      <td>1204</td>\n",
       "      <td>678</td>\n",
       "      <td>12082</td>\n",
       "    </tr>\n",
       "    <tr>\n",
       "      <th>Good</th>\n",
       "      <td>662</td>\n",
       "      <td>933</td>\n",
       "      <td>909</td>\n",
       "      <td>871</td>\n",
       "      <td>702</td>\n",
       "      <td>522</td>\n",
       "      <td>307</td>\n",
       "      <td>4906</td>\n",
       "    </tr>\n",
       "    <tr>\n",
       "      <th>Fair</th>\n",
       "      <td>163</td>\n",
       "      <td>224</td>\n",
       "      <td>312</td>\n",
       "      <td>314</td>\n",
       "      <td>303</td>\n",
       "      <td>175</td>\n",
       "      <td>119</td>\n",
       "      <td>1610</td>\n",
       "    </tr>\n",
       "    <tr>\n",
       "      <th>All</th>\n",
       "      <td>6775</td>\n",
       "      <td>9797</td>\n",
       "      <td>9542</td>\n",
       "      <td>11292</td>\n",
       "      <td>8304</td>\n",
       "      <td>5422</td>\n",
       "      <td>2808</td>\n",
       "      <td>53940</td>\n",
       "    </tr>\n",
       "  </tbody>\n",
       "</table>\n",
       "</div>"
      ],
      "text/plain": [
       "color         D     E     F      G     H     I     J    All\n",
       "cut                                                        \n",
       "Ideal      2834  3903  3826   4884  3115  2093   896  21551\n",
       "Premium    1603  2337  2331   2924  2360  1428   808  13791\n",
       "Very Good  1513  2400  2164   2299  1824  1204   678  12082\n",
       "Good        662   933   909    871   702   522   307   4906\n",
       "Fair        163   224   312    314   303   175   119   1610\n",
       "All        6775  9797  9542  11292  8304  5422  2808  53940"
      ]
     },
     "execution_count": 6,
     "metadata": {},
     "output_type": "execute_result"
    }
   ],
   "source": [
    "pd.crosstab(diamond_df['cut'],diamond_df['color'],margins= True)"
   ]
  },
  {
   "cell_type": "code",
   "execution_count": 16,
   "id": "45ae81b3",
   "metadata": {},
   "outputs": [],
   "source": [
    "cal,p_val, dof,_ = stats.chi2_contingency(pd.crosstab(diamond_df['price'],diamond_df['x']))"
   ]
  },
  {
   "cell_type": "code",
   "execution_count": 17,
   "id": "bdf4df95",
   "metadata": {},
   "outputs": [
    {
     "data": {
      "text/plain": [
       "0.0"
      ]
     },
     "execution_count": 17,
     "metadata": {},
     "output_type": "execute_result"
    }
   ],
   "source": [
    "p_val"
   ]
  },
  {
   "cell_type": "code",
   "execution_count": 18,
   "id": "b334f17b",
   "metadata": {},
   "outputs": [
    {
     "name": "stdout",
     "output_type": "stream",
     "text": [
      "Reject H0\n"
     ]
    }
   ],
   "source": [
    "if p_val <= 0.05:\n",
    "    print('Reject H0')\n",
    "else:\n",
    "    print('Failed to Reject H0')"
   ]
  },
  {
   "cell_type": "code",
   "execution_count": 19,
   "id": "94a5e190",
   "metadata": {},
   "outputs": [
    {
     "name": "stdout",
     "output_type": "stream",
     "text": [
      "price and carat both are dependent variables\n",
      "price and cut both are dependent variables\n",
      "price and color both are dependent variables\n",
      "price and clarity both are dependent variables\n",
      "price and depth both are independent variables\n",
      "price and table both are independent variables\n",
      "price and price both are dependent variables\n",
      "price and x both are dependent variables\n",
      "price and y both are dependent variables\n",
      "price and z both are dependent variables\n"
     ]
    }
   ],
   "source": [
    "for i in diamond_df.columns:\n",
    "    cal,p_val, dof,_ = stats.chi2_contingency(pd.crosstab(diamond_df['price'],diamond_df[i]))  \n",
    "    if p_val <= 0.05:\n",
    "        print('price and {} both are dependent variables'.format(i))\n",
    "    else:\n",
    "        print('price and {} both are independent variables'.format(i))"
   ]
  },
  {
   "cell_type": "code",
   "execution_count": 20,
   "id": "0e845cb4",
   "metadata": {},
   "outputs": [
    {
     "name": "stdout",
     "output_type": "stream",
     "text": [
      "carat and carat both are dependent variables\n",
      "carat and cut both are dependent variables\n",
      "carat and color both are dependent variables\n",
      "carat and clarity both are dependent variables\n",
      "carat and depth both are dependent variables\n",
      "carat and table both are dependent variables\n",
      "carat and price both are dependent variables\n",
      "carat and x both are dependent variables\n",
      "carat and y both are dependent variables\n",
      "carat and z both are dependent variables\n",
      "cut and carat both are dependent variables\n",
      "cut and cut both are dependent variables\n",
      "cut and color both are dependent variables\n",
      "cut and clarity both are dependent variables\n",
      "cut and depth both are dependent variables\n",
      "cut and table both are dependent variables\n",
      "cut and price both are dependent variables\n",
      "cut and x both are dependent variables\n",
      "cut and y both are dependent variables\n",
      "cut and z both are dependent variables\n",
      "color and carat both are dependent variables\n",
      "color and cut both are dependent variables\n",
      "color and color both are dependent variables\n",
      "color and clarity both are dependent variables\n",
      "color and depth both are dependent variables\n",
      "color and table both are dependent variables\n",
      "color and price both are dependent variables\n",
      "color and x both are dependent variables\n",
      "color and y both are dependent variables\n",
      "color and z both are dependent variables\n",
      "clarity and carat both are dependent variables\n",
      "clarity and cut both are dependent variables\n",
      "clarity and color both are dependent variables\n",
      "clarity and clarity both are dependent variables\n",
      "clarity and depth both are dependent variables\n",
      "clarity and table both are dependent variables\n",
      "clarity and price both are dependent variables\n",
      "clarity and x both are dependent variables\n",
      "clarity and y both are dependent variables\n",
      "clarity and z both are dependent variables\n",
      "depth and carat both are dependent variables\n",
      "depth and cut both are dependent variables\n",
      "depth and color both are dependent variables\n",
      "depth and clarity both are dependent variables\n",
      "depth and depth both are dependent variables\n",
      "depth and table both are dependent variables\n",
      "depth and price both are independent variables\n",
      "depth and x both are dependent variables\n",
      "depth and y both are dependent variables\n",
      "depth and z both are dependent variables\n",
      "table and carat both are dependent variables\n",
      "table and cut both are dependent variables\n",
      "table and color both are dependent variables\n",
      "table and clarity both are dependent variables\n",
      "table and depth both are dependent variables\n",
      "table and table both are dependent variables\n",
      "table and price both are independent variables\n",
      "table and x both are dependent variables\n",
      "table and y both are dependent variables\n",
      "table and z both are dependent variables\n",
      "price and carat both are dependent variables\n",
      "price and cut both are dependent variables\n",
      "price and color both are dependent variables\n",
      "price and clarity both are dependent variables\n",
      "price and depth both are independent variables\n",
      "price and table both are independent variables\n",
      "price and price both are dependent variables\n",
      "price and x both are dependent variables\n",
      "price and y both are dependent variables\n",
      "price and z both are dependent variables\n",
      "x and carat both are dependent variables\n",
      "x and cut both are dependent variables\n",
      "x and color both are dependent variables\n",
      "x and clarity both are dependent variables\n",
      "x and depth both are dependent variables\n",
      "x and table both are dependent variables\n",
      "x and price both are dependent variables\n",
      "x and x both are dependent variables\n",
      "x and y both are dependent variables\n",
      "x and z both are dependent variables\n",
      "y and carat both are dependent variables\n",
      "y and cut both are dependent variables\n",
      "y and color both are dependent variables\n",
      "y and clarity both are dependent variables\n",
      "y and depth both are dependent variables\n",
      "y and table both are dependent variables\n",
      "y and price both are dependent variables\n",
      "y and x both are dependent variables\n",
      "y and y both are dependent variables\n",
      "y and z both are dependent variables\n",
      "z and carat both are dependent variables\n",
      "z and cut both are dependent variables\n",
      "z and color both are dependent variables\n",
      "z and clarity both are dependent variables\n",
      "z and depth both are dependent variables\n",
      "z and table both are dependent variables\n",
      "z and price both are dependent variables\n",
      "z and x both are dependent variables\n",
      "z and y both are dependent variables\n",
      "z and z both are dependent variables\n"
     ]
    }
   ],
   "source": [
    "for j in diamond_df.columns:\n",
    "    for i in diamond_df.columns:\n",
    "        cal,p_val, dof,_ = stats.chi2_contingency(pd.crosstab(diamond_df[j],diamond_df[i]))  \n",
    "        if p_val <= 0.05:\n",
    "            print('{} and {} both are dependent variables'.format(j,i))\n",
    "        else:\n",
    "            print('{} and {} both are independent variables'.format(j,i))"
   ]
  },
  {
   "cell_type": "code",
   "execution_count": 4,
   "id": "7feea098",
   "metadata": {},
   "outputs": [],
   "source": [
    "diamond_df['price_bin'] = pd.cut(diamond_df['price'],3)\n"
   ]
  },
  {
   "cell_type": "code",
   "execution_count": 5,
   "id": "ff3a7e98",
   "metadata": {},
   "outputs": [
    {
     "data": {
      "text/html": [
       "<div>\n",
       "<style scoped>\n",
       "    .dataframe tbody tr th:only-of-type {\n",
       "        vertical-align: middle;\n",
       "    }\n",
       "\n",
       "    .dataframe tbody tr th {\n",
       "        vertical-align: top;\n",
       "    }\n",
       "\n",
       "    .dataframe thead th {\n",
       "        text-align: right;\n",
       "    }\n",
       "</style>\n",
       "<table border=\"1\" class=\"dataframe\">\n",
       "  <thead>\n",
       "    <tr style=\"text-align: right;\">\n",
       "      <th>color</th>\n",
       "      <th>D</th>\n",
       "      <th>E</th>\n",
       "      <th>F</th>\n",
       "      <th>G</th>\n",
       "      <th>H</th>\n",
       "      <th>I</th>\n",
       "      <th>J</th>\n",
       "    </tr>\n",
       "    <tr>\n",
       "      <th>price_bin</th>\n",
       "      <th></th>\n",
       "      <th></th>\n",
       "      <th></th>\n",
       "      <th></th>\n",
       "      <th></th>\n",
       "      <th></th>\n",
       "      <th></th>\n",
       "    </tr>\n",
       "  </thead>\n",
       "  <tbody>\n",
       "    <tr>\n",
       "      <th>(307.503, 6491.667]</th>\n",
       "      <td>0.137138</td>\n",
       "      <td>0.197954</td>\n",
       "      <td>0.180588</td>\n",
       "      <td>0.201303</td>\n",
       "      <td>0.148035</td>\n",
       "      <td>0.090156</td>\n",
       "      <td>0.044826</td>\n",
       "    </tr>\n",
       "    <tr>\n",
       "      <th>(6491.667, 12657.333]</th>\n",
       "      <td>0.078672</td>\n",
       "      <td>0.116918</td>\n",
       "      <td>0.168368</td>\n",
       "      <td>0.255342</td>\n",
       "      <td>0.176943</td>\n",
       "      <td>0.125493</td>\n",
       "      <td>0.078263</td>\n",
       "    </tr>\n",
       "    <tr>\n",
       "      <th>(12657.333, 18823.0]</th>\n",
       "      <td>0.072951</td>\n",
       "      <td>0.102931</td>\n",
       "      <td>0.144237</td>\n",
       "      <td>0.213524</td>\n",
       "      <td>0.183544</td>\n",
       "      <td>0.189873</td>\n",
       "      <td>0.092938</td>\n",
       "    </tr>\n",
       "  </tbody>\n",
       "</table>\n",
       "</div>"
      ],
      "text/plain": [
       "color                         D         E         F         G         H  \\\n",
       "price_bin                                                                 \n",
       "(307.503, 6491.667]    0.137138  0.197954  0.180588  0.201303  0.148035   \n",
       "(6491.667, 12657.333]  0.078672  0.116918  0.168368  0.255342  0.176943   \n",
       "(12657.333, 18823.0]   0.072951  0.102931  0.144237  0.213524  0.183544   \n",
       "\n",
       "color                         I         J  \n",
       "price_bin                                  \n",
       "(307.503, 6491.667]    0.090156  0.044826  \n",
       "(6491.667, 12657.333]  0.125493  0.078263  \n",
       "(12657.333, 18823.0]   0.189873  0.092938  "
      ]
     },
     "execution_count": 5,
     "metadata": {},
     "output_type": "execute_result"
    }
   ],
   "source": [
    "cross_tab_prop = pd.crosstab(index=diamond_df['price_bin'],\n",
    "                             columns=diamond_df['color'],\n",
    "                             normalize=\"index\")\n",
    "cross_tab_prop"
   ]
  },
  {
   "cell_type": "code",
   "execution_count": 6,
   "id": "136910fc",
   "metadata": {},
   "outputs": [
    {
     "data": {
      "text/html": [
       "<div>\n",
       "<style scoped>\n",
       "    .dataframe tbody tr th:only-of-type {\n",
       "        vertical-align: middle;\n",
       "    }\n",
       "\n",
       "    .dataframe tbody tr th {\n",
       "        vertical-align: top;\n",
       "    }\n",
       "\n",
       "    .dataframe thead th {\n",
       "        text-align: right;\n",
       "    }\n",
       "</style>\n",
       "<table border=\"1\" class=\"dataframe\">\n",
       "  <thead>\n",
       "    <tr style=\"text-align: right;\">\n",
       "      <th>color</th>\n",
       "      <th>D</th>\n",
       "      <th>E</th>\n",
       "      <th>F</th>\n",
       "      <th>G</th>\n",
       "      <th>H</th>\n",
       "      <th>I</th>\n",
       "      <th>J</th>\n",
       "    </tr>\n",
       "    <tr>\n",
       "      <th>price_bin</th>\n",
       "      <th></th>\n",
       "      <th></th>\n",
       "      <th></th>\n",
       "      <th></th>\n",
       "      <th></th>\n",
       "      <th></th>\n",
       "      <th></th>\n",
       "    </tr>\n",
       "  </thead>\n",
       "  <tbody>\n",
       "    <tr>\n",
       "      <th>(307.503, 6491.667]</th>\n",
       "      <td>5978</td>\n",
       "      <td>8629</td>\n",
       "      <td>7872</td>\n",
       "      <td>8775</td>\n",
       "      <td>6453</td>\n",
       "      <td>3930</td>\n",
       "      <td>1954</td>\n",
       "    </tr>\n",
       "    <tr>\n",
       "      <th>(6491.667, 12657.333]</th>\n",
       "      <td>578</td>\n",
       "      <td>859</td>\n",
       "      <td>1237</td>\n",
       "      <td>1876</td>\n",
       "      <td>1300</td>\n",
       "      <td>922</td>\n",
       "      <td>575</td>\n",
       "    </tr>\n",
       "    <tr>\n",
       "      <th>(12657.333, 18823.0]</th>\n",
       "      <td>219</td>\n",
       "      <td>309</td>\n",
       "      <td>433</td>\n",
       "      <td>641</td>\n",
       "      <td>551</td>\n",
       "      <td>570</td>\n",
       "      <td>279</td>\n",
       "    </tr>\n",
       "  </tbody>\n",
       "</table>\n",
       "</div>"
      ],
      "text/plain": [
       "color                     D     E     F     G     H     I     J\n",
       "price_bin                                                      \n",
       "(307.503, 6491.667]    5978  8629  7872  8775  6453  3930  1954\n",
       "(6491.667, 12657.333]   578   859  1237  1876  1300   922   575\n",
       "(12657.333, 18823.0]    219   309   433   641   551   570   279"
      ]
     },
     "execution_count": 6,
     "metadata": {},
     "output_type": "execute_result"
    }
   ],
   "source": [
    "cross_tab = pd.crosstab(index=diamond_df['price_bin'],\n",
    "                        columns=diamond_df['color'])\n",
    "cross_tab"
   ]
  },
  {
   "cell_type": "code",
   "execution_count": 44,
   "id": "23b8d4e0",
   "metadata": {},
   "outputs": [
    {
     "data": {
      "image/png": "[encoded data removed]",
      "text/plain": [
       "<Figure size 1080x720 with 1 Axes>"
      ]
     },
     "metadata": {
      "needs_background": "light"
     },
     "output_type": "display_data"
    }
   ],
   "source": [
    "cross_tab_prop.plot(kind='barh', \n",
    "                        stacked=True, \n",
    "                        colormap='tab10', \n",
    "                        figsize=(15, 10))\n",
    "\n",
    "plt.legend(loc=\"lower left\", ncol=2)\n",
    "plt.ylabel(\"cut\")\n",
    "plt.xlabel(\"Proportion\")\n",
    "\n",
    "\n",
    "for n, x in enumerate([*cross_tab.index.values]):\n",
    "    for (proportion, count, y_loc) in zip(cross_tab_prop.loc[x],\n",
    "                                          cross_tab.loc[x],\n",
    "                                          cross_tab_prop.loc[x].cumsum()):\n",
    "                \n",
    "        plt.text(x=(y_loc - proportion) + (proportion / 2),\n",
    "                 y=n - 0.11,\n",
    "                 s=f'{count}\\n({np.round(proportion * 100, 1)}%)', \n",
    "                 color=\"black\",\n",
    "                 fontsize=12,\n",
    "                 fontweight=\"bold\")\n",
    "\n",
    "plt.show()"
   ]
  },
  {
   "cell_type": "code",
   "execution_count": 46,
   "id": "50bd4874",
   "metadata": {},
   "outputs": [
    {
     "data": {
      "text/plain": [
       "carat    0.921591\n",
       "depth   -0.010647\n",
       "table    0.127134\n",
       "price    1.000000\n",
       "x        0.884435\n",
       "y        0.865421\n",
       "z        0.861249\n",
       "Name: price, dtype: float64"
      ]
     },
     "execution_count": 46,
     "metadata": {},
     "output_type": "execute_result"
    }
   ],
   "source": [
    "diamond_df.corr()['price']"
   ]
  },
  {
   "cell_type": "code",
   "execution_count": 47,
   "id": "21746e74",
   "metadata": {},
   "outputs": [
    {
     "data": {
      "text/plain": [
       "<AxesSubplot:>"
      ]
     },
     "execution_count": 47,
     "metadata": {},
     "output_type": "execute_result"
    },
    {
     "data": {
      "image/png": "[encoded data removed]",
      "text/plain": [
       "<Figure size 432x288 with 2 Axes>"
      ]
     },
     "metadata": {
      "needs_background": "light"
     },
     "output_type": "display_data"
    }
   ],
   "source": [
    "sns.heatmap(diamond_df.corr(),annot= True)"
   ]
  },
  {
   "cell_type": "code",
   "execution_count": 52,
   "id": "dc93c978",
   "metadata": {},
   "outputs": [
    {
     "data": {
      "text/html": [
       "<div>\n",
       "<style scoped>\n",
       "    .dataframe tbody tr th:only-of-type {\n",
       "        vertical-align: middle;\n",
       "    }\n",
       "\n",
       "    .dataframe tbody tr th {\n",
       "        vertical-align: top;\n",
       "    }\n",
       "\n",
       "    .dataframe thead th {\n",
       "        text-align: right;\n",
       "    }\n",
       "</style>\n",
       "<table border=\"1\" class=\"dataframe\">\n",
       "  <thead>\n",
       "    <tr style=\"text-align: right;\">\n",
       "      <th></th>\n",
       "      <th>carat</th>\n",
       "      <th>cut</th>\n",
       "      <th>color</th>\n",
       "      <th>clarity</th>\n",
       "      <th>depth</th>\n",
       "      <th>table</th>\n",
       "      <th>price</th>\n",
       "      <th>x</th>\n",
       "      <th>y</th>\n",
       "      <th>z</th>\n",
       "      <th>price_bin</th>\n",
       "    </tr>\n",
       "  </thead>\n",
       "  <tbody>\n",
       "    <tr>\n",
       "      <th>0</th>\n",
       "      <td>0.23</td>\n",
       "      <td>Ideal</td>\n",
       "      <td>E</td>\n",
       "      <td>SI2</td>\n",
       "      <td>61.5</td>\n",
       "      <td>55.0</td>\n",
       "      <td>326</td>\n",
       "      <td>3.95</td>\n",
       "      <td>3.98</td>\n",
       "      <td>2.43</td>\n",
       "      <td>(307.503, 6491.667]</td>\n",
       "    </tr>\n",
       "    <tr>\n",
       "      <th>1</th>\n",
       "      <td>0.21</td>\n",
       "      <td>Premium</td>\n",
       "      <td>E</td>\n",
       "      <td>SI1</td>\n",
       "      <td>59.8</td>\n",
       "      <td>61.0</td>\n",
       "      <td>326</td>\n",
       "      <td>3.89</td>\n",
       "      <td>3.84</td>\n",
       "      <td>2.31</td>\n",
       "      <td>(307.503, 6491.667]</td>\n",
       "    </tr>\n",
       "    <tr>\n",
       "      <th>2</th>\n",
       "      <td>0.23</td>\n",
       "      <td>Good</td>\n",
       "      <td>E</td>\n",
       "      <td>VS1</td>\n",
       "      <td>56.9</td>\n",
       "      <td>65.0</td>\n",
       "      <td>327</td>\n",
       "      <td>4.05</td>\n",
       "      <td>4.07</td>\n",
       "      <td>2.31</td>\n",
       "      <td>(307.503, 6491.667]</td>\n",
       "    </tr>\n",
       "    <tr>\n",
       "      <th>3</th>\n",
       "      <td>0.29</td>\n",
       "      <td>Premium</td>\n",
       "      <td>I</td>\n",
       "      <td>VS2</td>\n",
       "      <td>62.4</td>\n",
       "      <td>58.0</td>\n",
       "      <td>334</td>\n",
       "      <td>4.20</td>\n",
       "      <td>4.23</td>\n",
       "      <td>2.63</td>\n",
       "      <td>(307.503, 6491.667]</td>\n",
       "    </tr>\n",
       "    <tr>\n",
       "      <th>4</th>\n",
       "      <td>0.31</td>\n",
       "      <td>Good</td>\n",
       "      <td>J</td>\n",
       "      <td>SI2</td>\n",
       "      <td>63.3</td>\n",
       "      <td>58.0</td>\n",
       "      <td>335</td>\n",
       "      <td>4.34</td>\n",
       "      <td>4.35</td>\n",
       "      <td>2.75</td>\n",
       "      <td>(307.503, 6491.667]</td>\n",
       "    </tr>\n",
       "    <tr>\n",
       "      <th>...</th>\n",
       "      <td>...</td>\n",
       "      <td>...</td>\n",
       "      <td>...</td>\n",
       "      <td>...</td>\n",
       "      <td>...</td>\n",
       "      <td>...</td>\n",
       "      <td>...</td>\n",
       "      <td>...</td>\n",
       "      <td>...</td>\n",
       "      <td>...</td>\n",
       "      <td>...</td>\n",
       "    </tr>\n",
       "    <tr>\n",
       "      <th>53935</th>\n",
       "      <td>0.72</td>\n",
       "      <td>Ideal</td>\n",
       "      <td>D</td>\n",
       "      <td>SI1</td>\n",
       "      <td>60.8</td>\n",
       "      <td>57.0</td>\n",
       "      <td>2757</td>\n",
       "      <td>5.75</td>\n",
       "      <td>5.76</td>\n",
       "      <td>3.50</td>\n",
       "      <td>(307.503, 6491.667]</td>\n",
       "    </tr>\n",
       "    <tr>\n",
       "      <th>53936</th>\n",
       "      <td>0.72</td>\n",
       "      <td>Good</td>\n",
       "      <td>D</td>\n",
       "      <td>SI1</td>\n",
       "      <td>63.1</td>\n",
       "      <td>55.0</td>\n",
       "      <td>2757</td>\n",
       "      <td>5.69</td>\n",
       "      <td>5.75</td>\n",
       "      <td>3.61</td>\n",
       "      <td>(307.503, 6491.667]</td>\n",
       "    </tr>\n",
       "    <tr>\n",
       "      <th>53937</th>\n",
       "      <td>0.70</td>\n",
       "      <td>Very Good</td>\n",
       "      <td>D</td>\n",
       "      <td>SI1</td>\n",
       "      <td>62.8</td>\n",
       "      <td>60.0</td>\n",
       "      <td>2757</td>\n",
       "      <td>5.66</td>\n",
       "      <td>5.68</td>\n",
       "      <td>3.56</td>\n",
       "      <td>(307.503, 6491.667]</td>\n",
       "    </tr>\n",
       "    <tr>\n",
       "      <th>53938</th>\n",
       "      <td>0.86</td>\n",
       "      <td>Premium</td>\n",
       "      <td>H</td>\n",
       "      <td>SI2</td>\n",
       "      <td>61.0</td>\n",
       "      <td>58.0</td>\n",
       "      <td>2757</td>\n",
       "      <td>6.15</td>\n",
       "      <td>6.12</td>\n",
       "      <td>3.74</td>\n",
       "      <td>(307.503, 6491.667]</td>\n",
       "    </tr>\n",
       "    <tr>\n",
       "      <th>53939</th>\n",
       "      <td>0.75</td>\n",
       "      <td>Ideal</td>\n",
       "      <td>D</td>\n",
       "      <td>SI2</td>\n",
       "      <td>62.2</td>\n",
       "      <td>55.0</td>\n",
       "      <td>2757</td>\n",
       "      <td>5.83</td>\n",
       "      <td>5.87</td>\n",
       "      <td>3.64</td>\n",
       "      <td>(307.503, 6491.667]</td>\n",
       "    </tr>\n",
       "  </tbody>\n",
       "</table>\n",
       "<p>53940 rows × 11 columns</p>\n",
       "</div>"
      ],
      "text/plain": [
       "       carat        cut color clarity  depth  table  price     x     y     z  \\\n",
       "0       0.23      Ideal     E     SI2   61.5   55.0    326  3.95  3.98  2.43   \n",
       "1       0.21    Premium     E     SI1   59.8   61.0    326  3.89  3.84  2.31   \n",
       "2       0.23       Good     E     VS1   56.9   65.0    327  4.05  4.07  2.31   \n",
       "3       0.29    Premium     I     VS2   62.4   58.0    334  4.20  4.23  2.63   \n",
       "4       0.31       Good     J     SI2   63.3   58.0    335  4.34  4.35  2.75   \n",
       "...      ...        ...   ...     ...    ...    ...    ...   ...   ...   ...   \n",
       "53935   0.72      Ideal     D     SI1   60.8   57.0   2757  5.75  5.76  3.50   \n",
       "53936   0.72       Good     D     SI1   63.1   55.0   2757  5.69  5.75  3.61   \n",
       "53937   0.70  Very Good     D     SI1   62.8   60.0   2757  5.66  5.68  3.56   \n",
       "53938   0.86    Premium     H     SI2   61.0   58.0   2757  6.15  6.12  3.74   \n",
       "53939   0.75      Ideal     D     SI2   62.2   55.0   2757  5.83  5.87  3.64   \n",
       "\n",
       "                 price_bin  \n",
       "0      (307.503, 6491.667]  \n",
       "1      (307.503, 6491.667]  \n",
       "2      (307.503, 6491.667]  \n",
       "3      (307.503, 6491.667]  \n",
       "4      (307.503, 6491.667]  \n",
       "...                    ...  \n",
       "53935  (307.503, 6491.667]  \n",
       "53936  (307.503, 6491.667]  \n",
       "53937  (307.503, 6491.667]  \n",
       "53938  (307.503, 6491.667]  \n",
       "53939  (307.503, 6491.667]  \n",
       "\n",
       "[53940 rows x 11 columns]"
      ]
     },
     "execution_count": 52,
     "metadata": {},
     "output_type": "execute_result"
    }
   ],
   "source": [
    "diamond_df"
   ]
  },
  {
   "cell_type": "code",
   "execution_count": 56,
   "id": "d3948c05",
   "metadata": {},
   "outputs": [
    {
     "data": {
      "text/html": [
       "<div>\n",
       "<style scoped>\n",
       "    .dataframe tbody tr th:only-of-type {\n",
       "        vertical-align: middle;\n",
       "    }\n",
       "\n",
       "    .dataframe tbody tr th {\n",
       "        vertical-align: top;\n",
       "    }\n",
       "\n",
       "    .dataframe thead th {\n",
       "        text-align: right;\n",
       "    }\n",
       "</style>\n",
       "<table border=\"1\" class=\"dataframe\">\n",
       "  <thead>\n",
       "    <tr style=\"text-align: right;\">\n",
       "      <th></th>\n",
       "      <th>cut</th>\n",
       "      <th>color</th>\n",
       "      <th>clarity</th>\n",
       "      <th>price_bin</th>\n",
       "    </tr>\n",
       "  </thead>\n",
       "  <tbody>\n",
       "    <tr>\n",
       "      <th>0</th>\n",
       "      <td>Ideal</td>\n",
       "      <td>E</td>\n",
       "      <td>SI2</td>\n",
       "      <td>(307.503, 6491.667]</td>\n",
       "    </tr>\n",
       "    <tr>\n",
       "      <th>1</th>\n",
       "      <td>Premium</td>\n",
       "      <td>E</td>\n",
       "      <td>SI1</td>\n",
       "      <td>(307.503, 6491.667]</td>\n",
       "    </tr>\n",
       "    <tr>\n",
       "      <th>2</th>\n",
       "      <td>Good</td>\n",
       "      <td>E</td>\n",
       "      <td>VS1</td>\n",
       "      <td>(307.503, 6491.667]</td>\n",
       "    </tr>\n",
       "    <tr>\n",
       "      <th>3</th>\n",
       "      <td>Premium</td>\n",
       "      <td>I</td>\n",
       "      <td>VS2</td>\n",
       "      <td>(307.503, 6491.667]</td>\n",
       "    </tr>\n",
       "    <tr>\n",
       "      <th>4</th>\n",
       "      <td>Good</td>\n",
       "      <td>J</td>\n",
       "      <td>SI2</td>\n",
       "      <td>(307.503, 6491.667]</td>\n",
       "    </tr>\n",
       "    <tr>\n",
       "      <th>...</th>\n",
       "      <td>...</td>\n",
       "      <td>...</td>\n",
       "      <td>...</td>\n",
       "      <td>...</td>\n",
       "    </tr>\n",
       "    <tr>\n",
       "      <th>53935</th>\n",
       "      <td>Ideal</td>\n",
       "      <td>D</td>\n",
       "      <td>SI1</td>\n",
       "      <td>(307.503, 6491.667]</td>\n",
       "    </tr>\n",
       "    <tr>\n",
       "      <th>53936</th>\n",
       "      <td>Good</td>\n",
       "      <td>D</td>\n",
       "      <td>SI1</td>\n",
       "      <td>(307.503, 6491.667]</td>\n",
       "    </tr>\n",
       "    <tr>\n",
       "      <th>53937</th>\n",
       "      <td>Very Good</td>\n",
       "      <td>D</td>\n",
       "      <td>SI1</td>\n",
       "      <td>(307.503, 6491.667]</td>\n",
       "    </tr>\n",
       "    <tr>\n",
       "      <th>53938</th>\n",
       "      <td>Premium</td>\n",
       "      <td>H</td>\n",
       "      <td>SI2</td>\n",
       "      <td>(307.503, 6491.667]</td>\n",
       "    </tr>\n",
       "    <tr>\n",
       "      <th>53939</th>\n",
       "      <td>Ideal</td>\n",
       "      <td>D</td>\n",
       "      <td>SI2</td>\n",
       "      <td>(307.503, 6491.667]</td>\n",
       "    </tr>\n",
       "  </tbody>\n",
       "</table>\n",
       "<p>53940 rows × 4 columns</p>\n",
       "</div>"
      ],
      "text/plain": [
       "             cut color clarity            price_bin\n",
       "0          Ideal     E     SI2  (307.503, 6491.667]\n",
       "1        Premium     E     SI1  (307.503, 6491.667]\n",
       "2           Good     E     VS1  (307.503, 6491.667]\n",
       "3        Premium     I     VS2  (307.503, 6491.667]\n",
       "4           Good     J     SI2  (307.503, 6491.667]\n",
       "...          ...   ...     ...                  ...\n",
       "53935      Ideal     D     SI1  (307.503, 6491.667]\n",
       "53936       Good     D     SI1  (307.503, 6491.667]\n",
       "53937  Very Good     D     SI1  (307.503, 6491.667]\n",
       "53938    Premium     H     SI2  (307.503, 6491.667]\n",
       "53939      Ideal     D     SI2  (307.503, 6491.667]\n",
       "\n",
       "[53940 rows x 4 columns]"
      ]
     },
     "execution_count": 56,
     "metadata": {},
     "output_type": "execute_result"
    }
   ],
   "source": [
    "diamond_df.select_dtypes('category')"
   ]
  },
  {
   "cell_type": "code",
   "execution_count": 66,
   "id": "3eeec2d8",
   "metadata": {},
   "outputs": [
    {
     "name": "stderr",
     "output_type": "stream",
     "text": [
      "C:\\Users\\kiran kumar\\AppData\\Local\\Temp\\ipykernel_16760\\406662864.py:7: SettingWithCopyWarning: \n",
      "A value is trying to be set on a copy of a slice from a DataFrame.\n",
      "Try using .loc[row_indexer,col_indexer] = value instead\n",
      "\n",
      "See the caveats in the documentation: https://pandas.pydata.org/pandas-docs/stable/user_guide/indexing.html#returning-a-view-versus-a-copy\n",
      "  X['intercept'] = 1\n"
     ]
    }
   ],
   "source": [
    "# load statmodels functions\n",
    "from statsmodels.stats.outliers_influence import variance_inflation_factor\n",
    "from statsmodels.tools.tools import add_constant\n",
    "\n",
    "X = diamond_df[['carat', 'depth', 'table','z']]\n",
    "# the calculation of variance inflation requires a constant\n",
    "X['intercept'] = 1\n",
    "\n",
    "# create dataframe to store vif values\n",
    "vif = pd.DataFrame()\n",
    "vif[\"Variable\"] = X.columns\n",
    "vif[\"VIF\"] = [variance_inflation_factor(X.values, i) for i in range(X.shape[1])]"
   ]
  },
  {
   "cell_type": "code",
   "execution_count": 59,
   "id": "9864d5d4",
   "metadata": {},
   "outputs": [
    {
     "data": {
      "text/plain": [
       "Index(['carat', 'depth', 'table', 'price', 'x', 'y', 'z'], dtype='object')"
      ]
     },
     "execution_count": 59,
     "metadata": {},
     "output_type": "execute_result"
    }
   ],
   "source": [
    "diamond_df.select_dtypes('number').columns"
   ]
  },
  {
   "cell_type": "code",
   "execution_count": 67,
   "id": "7296d4e3",
   "metadata": {},
   "outputs": [
    {
     "data": {
      "text/html": [
       "<div>\n",
       "<style scoped>\n",
       "    .dataframe tbody tr th:only-of-type {\n",
       "        vertical-align: middle;\n",
       "    }\n",
       "\n",
       "    .dataframe tbody tr th {\n",
       "        vertical-align: top;\n",
       "    }\n",
       "\n",
       "    .dataframe thead th {\n",
       "        text-align: right;\n",
       "    }\n",
       "</style>\n",
       "<table border=\"1\" class=\"dataframe\">\n",
       "  <thead>\n",
       "    <tr style=\"text-align: right;\">\n",
       "      <th></th>\n",
       "      <th>Variable</th>\n",
       "      <th>VIF</th>\n",
       "    </tr>\n",
       "  </thead>\n",
       "  <tbody>\n",
       "    <tr>\n",
       "      <th>0</th>\n",
       "      <td>carat</td>\n",
       "      <td>11.525886</td>\n",
       "    </tr>\n",
       "    <tr>\n",
       "      <th>1</th>\n",
       "      <td>depth</td>\n",
       "      <td>1.156953</td>\n",
       "    </tr>\n",
       "    <tr>\n",
       "      <th>2</th>\n",
       "      <td>table</td>\n",
       "      <td>1.141078</td>\n",
       "    </tr>\n",
       "    <tr>\n",
       "      <th>3</th>\n",
       "      <td>z</td>\n",
       "      <td>11.571490</td>\n",
       "    </tr>\n",
       "    <tr>\n",
       "      <th>4</th>\n",
       "      <td>intercept</td>\n",
       "      <td>3542.889338</td>\n",
       "    </tr>\n",
       "  </tbody>\n",
       "</table>\n",
       "</div>"
      ],
      "text/plain": [
       "    Variable          VIF\n",
       "0      carat    11.525886\n",
       "1      depth     1.156953\n",
       "2      table     1.141078\n",
       "3          z    11.571490\n",
       "4  intercept  3542.889338"
      ]
     },
     "execution_count": 67,
     "metadata": {},
     "output_type": "execute_result"
    }
   ],
   "source": [
    "vif"
   ]
  },
  {
   "cell_type": "code",
   "execution_count": 70,
   "id": "1d6c6ffb",
   "metadata": {},
   "outputs": [
    {
     "name": "stderr",
     "output_type": "stream",
     "text": [
      "C:\\Users\\kiran kumar\\anaconda\\lib\\site-packages\\seaborn\\distributions.py:2619: FutureWarning: `distplot` is a deprecated function and will be removed in a future version. Please adapt your code to use either `displot` (a figure-level function with similar flexibility) or `histplot` (an axes-level function for histograms).\n",
      "  warnings.warn(msg, FutureWarning)\n"
     ]
    },
    {
     "data": {
      "image/png": "[encoded data removed]",
      "text/plain": [
       "<Figure size 432x288 with 1 Axes>"
      ]
     },
     "metadata": {
      "needs_background": "light"
     },
     "output_type": "display_data"
    }
   ],
   "source": [
    "sns.distplot(diamond_df['price']);"
   ]
  },
  {
   "cell_type": "code",
   "execution_count": 71,
   "id": "2b61758b",
   "metadata": {},
   "outputs": [
    {
     "name": "stderr",
     "output_type": "stream",
     "text": [
      "C:\\Users\\kiran kumar\\anaconda\\lib\\site-packages\\seaborn\\distributions.py:2619: FutureWarning: `distplot` is a deprecated function and will be removed in a future version. Please adapt your code to use either `displot` (a figure-level function with similar flexibility) or `histplot` (an axes-level function for histograms).\n",
      "  warnings.warn(msg, FutureWarning)\n"
     ]
    },
    {
     "data": {
      "image/png": "[encoded data removed]",
      "text/plain": [
       "<Figure size 432x288 with 1 Axes>"
      ]
     },
     "metadata": {
      "needs_background": "light"
     },
     "output_type": "display_data"
    }
   ],
   "source": [
    "sns.distplot(np.log(diamond_df['price']));"
   ]
  },
  {
   "cell_type": "code",
   "execution_count": 72,
   "id": "70802ffc",
   "metadata": {},
   "outputs": [],
   "source": [
    "diamond_df['log_price'] = np.log(diamond_df['price'])"
   ]
  },
  {
   "cell_type": "code",
   "execution_count": 74,
   "id": "d5326569",
   "metadata": {},
   "outputs": [],
   "source": [
    "diamond_df['exp_price'] = np.exp(diamond_df['log_price'])"
   ]
  },
  {
   "cell_type": "code",
   "execution_count": 76,
   "id": "015923d1",
   "metadata": {},
   "outputs": [
    {
     "data": {
      "text/html": [
       "<div>\n",
       "<style scoped>\n",
       "    .dataframe tbody tr th:only-of-type {\n",
       "        vertical-align: middle;\n",
       "    }\n",
       "\n",
       "    .dataframe tbody tr th {\n",
       "        vertical-align: top;\n",
       "    }\n",
       "\n",
       "    .dataframe thead th {\n",
       "        text-align: right;\n",
       "    }\n",
       "</style>\n",
       "<table border=\"1\" class=\"dataframe\">\n",
       "  <thead>\n",
       "    <tr style=\"text-align: right;\">\n",
       "      <th></th>\n",
       "      <th>price</th>\n",
       "      <th>log_price</th>\n",
       "    </tr>\n",
       "  </thead>\n",
       "  <tbody>\n",
       "    <tr>\n",
       "      <th>count</th>\n",
       "      <td>53940.000000</td>\n",
       "      <td>53940.000000</td>\n",
       "    </tr>\n",
       "    <tr>\n",
       "      <th>mean</th>\n",
       "      <td>3932.799722</td>\n",
       "      <td>7.786768</td>\n",
       "    </tr>\n",
       "    <tr>\n",
       "      <th>std</th>\n",
       "      <td>3989.439738</td>\n",
       "      <td>1.014649</td>\n",
       "    </tr>\n",
       "    <tr>\n",
       "      <th>min</th>\n",
       "      <td>326.000000</td>\n",
       "      <td>5.786897</td>\n",
       "    </tr>\n",
       "    <tr>\n",
       "      <th>25%</th>\n",
       "      <td>950.000000</td>\n",
       "      <td>6.856462</td>\n",
       "    </tr>\n",
       "    <tr>\n",
       "      <th>50%</th>\n",
       "      <td>2401.000000</td>\n",
       "      <td>7.783641</td>\n",
       "    </tr>\n",
       "    <tr>\n",
       "      <th>75%</th>\n",
       "      <td>5324.250000</td>\n",
       "      <td>8.580027</td>\n",
       "    </tr>\n",
       "    <tr>\n",
       "      <th>max</th>\n",
       "      <td>18823.000000</td>\n",
       "      <td>9.842835</td>\n",
       "    </tr>\n",
       "  </tbody>\n",
       "</table>\n",
       "</div>"
      ],
      "text/plain": [
       "              price     log_price\n",
       "count  53940.000000  53940.000000\n",
       "mean    3932.799722      7.786768\n",
       "std     3989.439738      1.014649\n",
       "min      326.000000      5.786897\n",
       "25%      950.000000      6.856462\n",
       "50%     2401.000000      7.783641\n",
       "75%     5324.250000      8.580027\n",
       "max    18823.000000      9.842835"
      ]
     },
     "execution_count": 76,
     "metadata": {},
     "output_type": "execute_result"
    }
   ],
   "source": [
    "diamond_df[['price','log_price']].describe()"
   ]
  },
  {
   "cell_type": "code",
   "execution_count": 41,
   "id": "2fac5074",
   "metadata": {},
   "outputs": [
    {
     "data": {
      "text/plain": [
       "2401.0"
      ]
     },
     "execution_count": 41,
     "metadata": {},
     "output_type": "execute_result"
    }
   ],
   "source": [
    "diamond_df['price'].median()"
   ]
  },
  {
   "cell_type": "code",
   "execution_count": 42,
   "id": "87a8e564",
   "metadata": {},
   "outputs": [],
   "source": [
    "diamond_df['new_price'] = diamond_df['price'].apply(lambda x: 'above' if x > diamond_df['price'].median() else 'below')"
   ]
  },
  {
   "cell_type": "code",
   "execution_count": 44,
   "id": "89a79567",
   "metadata": {},
   "outputs": [
    {
     "ename": "KeyboardInterrupt",
     "evalue": "",
     "output_type": "error",
     "traceback": [
      "\u001b[1;31m---------------------------------------------------------------------------\u001b[0m",
      "\u001b[1;31mKeyboardInterrupt\u001b[0m                         Traceback (most recent call last)",
      "\u001b[1;32m~\\AppData\\Local\\Temp/ipykernel_11432/2589792434.py\u001b[0m in \u001b[0;36m<module>\u001b[1;34m\u001b[0m\n\u001b[1;32m----> 1\u001b[1;33m \u001b[0mdiamond_df\u001b[0m\u001b[1;33m[\u001b[0m\u001b[1;34m'new_table'\u001b[0m\u001b[1;33m]\u001b[0m \u001b[1;33m=\u001b[0m \u001b[0mdiamond_df\u001b[0m\u001b[1;33m[\u001b[0m\u001b[1;34m'table'\u001b[0m\u001b[1;33m]\u001b[0m\u001b[1;33m.\u001b[0m\u001b[0mapply\u001b[0m\u001b[1;33m(\u001b[0m\u001b[1;32mlambda\u001b[0m \u001b[0mx\u001b[0m\u001b[1;33m:\u001b[0m \u001b[1;34m't_above'\u001b[0m \u001b[1;32mif\u001b[0m \u001b[0mx\u001b[0m \u001b[1;33m>\u001b[0m \u001b[0mdiamond_df\u001b[0m\u001b[1;33m[\u001b[0m\u001b[1;34m'table'\u001b[0m\u001b[1;33m]\u001b[0m\u001b[1;33m.\u001b[0m\u001b[0mmedian\u001b[0m\u001b[1;33m(\u001b[0m\u001b[1;33m)\u001b[0m \u001b[1;32melse\u001b[0m \u001b[1;34m't_below'\u001b[0m\u001b[1;33m)\u001b[0m\u001b[1;33m\u001b[0m\u001b[1;33m\u001b[0m\u001b[0m\n\u001b[0m",
      "\u001b[1;32m~\\anaconda3\\lib\\site-packages\\pandas\\core\\series.py\u001b[0m in \u001b[0;36mapply\u001b[1;34m(self, func, convert_dtype, args, **kwargs)\u001b[0m\n\u001b[0;32m   4355\u001b[0m         \u001b[0mdtype\u001b[0m\u001b[1;33m:\u001b[0m \u001b[0mfloat64\u001b[0m\u001b[1;33m\u001b[0m\u001b[1;33m\u001b[0m\u001b[0m\n\u001b[0;32m   4356\u001b[0m         \"\"\"\n\u001b[1;32m-> 4357\u001b[1;33m         \u001b[1;32mreturn\u001b[0m \u001b[0mSeriesApply\u001b[0m\u001b[1;33m(\u001b[0m\u001b[0mself\u001b[0m\u001b[1;33m,\u001b[0m \u001b[0mfunc\u001b[0m\u001b[1;33m,\u001b[0m \u001b[0mconvert_dtype\u001b[0m\u001b[1;33m,\u001b[0m \u001b[0margs\u001b[0m\u001b[1;33m,\u001b[0m \u001b[0mkwargs\u001b[0m\u001b[1;33m)\u001b[0m\u001b[1;33m.\u001b[0m\u001b[0mapply\u001b[0m\u001b[1;33m(\u001b[0m\u001b[1;33m)\u001b[0m\u001b[1;33m\u001b[0m\u001b[1;33m\u001b[0m\u001b[0m\n\u001b[0m\u001b[0;32m   4358\u001b[0m \u001b[1;33m\u001b[0m\u001b[0m\n\u001b[0;32m   4359\u001b[0m     def _reduce(\n",
      "\u001b[1;32m~\\anaconda3\\lib\\site-packages\\pandas\\core\\apply.py\u001b[0m in \u001b[0;36mapply\u001b[1;34m(self)\u001b[0m\n\u001b[0;32m   1041\u001b[0m             \u001b[1;32mreturn\u001b[0m \u001b[0mself\u001b[0m\u001b[1;33m.\u001b[0m\u001b[0mapply_str\u001b[0m\u001b[1;33m(\u001b[0m\u001b[1;33m)\u001b[0m\u001b[1;33m\u001b[0m\u001b[1;33m\u001b[0m\u001b[0m\n\u001b[0;32m   1042\u001b[0m \u001b[1;33m\u001b[0m\u001b[0m\n\u001b[1;32m-> 1043\u001b[1;33m         \u001b[1;32mreturn\u001b[0m \u001b[0mself\u001b[0m\u001b[1;33m.\u001b[0m\u001b[0mapply_standard\u001b[0m\u001b[1;33m(\u001b[0m\u001b[1;33m)\u001b[0m\u001b[1;33m\u001b[0m\u001b[1;33m\u001b[0m\u001b[0m\n\u001b[0m\u001b[0;32m   1044\u001b[0m \u001b[1;33m\u001b[0m\u001b[0m\n\u001b[0;32m   1045\u001b[0m     \u001b[1;32mdef\u001b[0m \u001b[0magg\u001b[0m\u001b[1;33m(\u001b[0m\u001b[0mself\u001b[0m\u001b[1;33m)\u001b[0m\u001b[1;33m:\u001b[0m\u001b[1;33m\u001b[0m\u001b[1;33m\u001b[0m\u001b[0m\n",
      "\u001b[1;32m~\\anaconda3\\lib\\site-packages\\pandas\\core\\apply.py\u001b[0m in \u001b[0;36mapply_standard\u001b[1;34m(self)\u001b[0m\n\u001b[0;32m   1096\u001b[0m                 \u001b[1;31m# List[Union[Callable[..., Any], str]]]]]\"; expected\u001b[0m\u001b[1;33m\u001b[0m\u001b[1;33m\u001b[0m\u001b[0m\n\u001b[0;32m   1097\u001b[0m                 \u001b[1;31m# \"Callable[[Any], Any]\"\u001b[0m\u001b[1;33m\u001b[0m\u001b[1;33m\u001b[0m\u001b[0m\n\u001b[1;32m-> 1098\u001b[1;33m                 mapped = lib.map_infer(\n\u001b[0m\u001b[0;32m   1099\u001b[0m                     \u001b[0mvalues\u001b[0m\u001b[1;33m,\u001b[0m\u001b[1;33m\u001b[0m\u001b[1;33m\u001b[0m\u001b[0m\n\u001b[0;32m   1100\u001b[0m                     \u001b[0mf\u001b[0m\u001b[1;33m,\u001b[0m  \u001b[1;31m# type: ignore[arg-type]\u001b[0m\u001b[1;33m\u001b[0m\u001b[1;33m\u001b[0m\u001b[0m\n",
      "\u001b[1;32m~\\anaconda3\\lib\\site-packages\\pandas\\_libs\\lib.pyx\u001b[0m in \u001b[0;36mpandas._libs.lib.map_infer\u001b[1;34m()\u001b[0m\n",
      "\u001b[1;32m~\\AppData\\Local\\Temp/ipykernel_11432/2589792434.py\u001b[0m in \u001b[0;36m<lambda>\u001b[1;34m(x)\u001b[0m\n\u001b[1;32m----> 1\u001b[1;33m \u001b[0mdiamond_df\u001b[0m\u001b[1;33m[\u001b[0m\u001b[1;34m'new_table'\u001b[0m\u001b[1;33m]\u001b[0m \u001b[1;33m=\u001b[0m \u001b[0mdiamond_df\u001b[0m\u001b[1;33m[\u001b[0m\u001b[1;34m'table'\u001b[0m\u001b[1;33m]\u001b[0m\u001b[1;33m.\u001b[0m\u001b[0mapply\u001b[0m\u001b[1;33m(\u001b[0m\u001b[1;32mlambda\u001b[0m \u001b[0mx\u001b[0m\u001b[1;33m:\u001b[0m \u001b[1;34m't_above'\u001b[0m \u001b[1;32mif\u001b[0m \u001b[0mx\u001b[0m \u001b[1;33m>\u001b[0m \u001b[0mdiamond_df\u001b[0m\u001b[1;33m[\u001b[0m\u001b[1;34m'table'\u001b[0m\u001b[1;33m]\u001b[0m\u001b[1;33m.\u001b[0m\u001b[0mmedian\u001b[0m\u001b[1;33m(\u001b[0m\u001b[1;33m)\u001b[0m \u001b[1;32melse\u001b[0m \u001b[1;34m't_below'\u001b[0m\u001b[1;33m)\u001b[0m\u001b[1;33m\u001b[0m\u001b[1;33m\u001b[0m\u001b[0m\n\u001b[0m",
      "\u001b[1;32m~\\anaconda3\\lib\\site-packages\\pandas\\core\\generic.py\u001b[0m in \u001b[0;36mmedian\u001b[1;34m(self, axis, skipna, level, numeric_only, **kwargs)\u001b[0m\n\u001b[0;32m  10800\u001b[0m             \u001b[0mself\u001b[0m\u001b[1;33m,\u001b[0m \u001b[0maxis\u001b[0m\u001b[1;33m=\u001b[0m\u001b[1;32mNone\u001b[0m\u001b[1;33m,\u001b[0m \u001b[0mskipna\u001b[0m\u001b[1;33m=\u001b[0m\u001b[1;32mNone\u001b[0m\u001b[1;33m,\u001b[0m \u001b[0mlevel\u001b[0m\u001b[1;33m=\u001b[0m\u001b[1;32mNone\u001b[0m\u001b[1;33m,\u001b[0m \u001b[0mnumeric_only\u001b[0m\u001b[1;33m=\u001b[0m\u001b[1;32mNone\u001b[0m\u001b[1;33m,\u001b[0m \u001b[1;33m**\u001b[0m\u001b[0mkwargs\u001b[0m\u001b[1;33m\u001b[0m\u001b[1;33m\u001b[0m\u001b[0m\n\u001b[0;32m  10801\u001b[0m         ):\n\u001b[1;32m> 10802\u001b[1;33m             \u001b[1;32mreturn\u001b[0m \u001b[0mNDFrame\u001b[0m\u001b[1;33m.\u001b[0m\u001b[0mmedian\u001b[0m\u001b[1;33m(\u001b[0m\u001b[0mself\u001b[0m\u001b[1;33m,\u001b[0m \u001b[0maxis\u001b[0m\u001b[1;33m,\u001b[0m \u001b[0mskipna\u001b[0m\u001b[1;33m,\u001b[0m \u001b[0mlevel\u001b[0m\u001b[1;33m,\u001b[0m \u001b[0mnumeric_only\u001b[0m\u001b[1;33m,\u001b[0m \u001b[1;33m**\u001b[0m\u001b[0mkwargs\u001b[0m\u001b[1;33m)\u001b[0m\u001b[1;33m\u001b[0m\u001b[1;33m\u001b[0m\u001b[0m\n\u001b[0m\u001b[0;32m  10803\u001b[0m \u001b[1;33m\u001b[0m\u001b[0m\n\u001b[0;32m  10804\u001b[0m         \u001b[0msetattr\u001b[0m\u001b[1;33m(\u001b[0m\u001b[0mcls\u001b[0m\u001b[1;33m,\u001b[0m \u001b[1;34m\"median\"\u001b[0m\u001b[1;33m,\u001b[0m \u001b[0mmedian\u001b[0m\u001b[1;33m)\u001b[0m\u001b[1;33m\u001b[0m\u001b[1;33m\u001b[0m\u001b[0m\n",
      "\u001b[1;32m~\\anaconda3\\lib\\site-packages\\pandas\\core\\generic.py\u001b[0m in \u001b[0;36mmedian\u001b[1;34m(self, axis, skipna, level, numeric_only, **kwargs)\u001b[0m\n\u001b[0;32m  10372\u001b[0m \u001b[1;33m\u001b[0m\u001b[0m\n\u001b[0;32m  10373\u001b[0m     \u001b[1;32mdef\u001b[0m \u001b[0mmedian\u001b[0m\u001b[1;33m(\u001b[0m\u001b[0mself\u001b[0m\u001b[1;33m,\u001b[0m \u001b[0maxis\u001b[0m\u001b[1;33m=\u001b[0m\u001b[1;32mNone\u001b[0m\u001b[1;33m,\u001b[0m \u001b[0mskipna\u001b[0m\u001b[1;33m=\u001b[0m\u001b[1;32mNone\u001b[0m\u001b[1;33m,\u001b[0m \u001b[0mlevel\u001b[0m\u001b[1;33m=\u001b[0m\u001b[1;32mNone\u001b[0m\u001b[1;33m,\u001b[0m \u001b[0mnumeric_only\u001b[0m\u001b[1;33m=\u001b[0m\u001b[1;32mNone\u001b[0m\u001b[1;33m,\u001b[0m \u001b[1;33m**\u001b[0m\u001b[0mkwargs\u001b[0m\u001b[1;33m)\u001b[0m\u001b[1;33m:\u001b[0m\u001b[1;33m\u001b[0m\u001b[1;33m\u001b[0m\u001b[0m\n\u001b[1;32m> 10374\u001b[1;33m         return self._stat_function(\n\u001b[0m\u001b[0;32m  10375\u001b[0m             \u001b[1;34m\"median\"\u001b[0m\u001b[1;33m,\u001b[0m \u001b[0mnanops\u001b[0m\u001b[1;33m.\u001b[0m\u001b[0mnanmedian\u001b[0m\u001b[1;33m,\u001b[0m \u001b[0maxis\u001b[0m\u001b[1;33m,\u001b[0m \u001b[0mskipna\u001b[0m\u001b[1;33m,\u001b[0m \u001b[0mlevel\u001b[0m\u001b[1;33m,\u001b[0m \u001b[0mnumeric_only\u001b[0m\u001b[1;33m,\u001b[0m \u001b[1;33m**\u001b[0m\u001b[0mkwargs\u001b[0m\u001b[1;33m\u001b[0m\u001b[1;33m\u001b[0m\u001b[0m\n\u001b[0;32m  10376\u001b[0m         )\n",
      "\u001b[1;32m~\\anaconda3\\lib\\site-packages\\pandas\\core\\generic.py\u001b[0m in \u001b[0;36m_stat_function\u001b[1;34m(self, name, func, axis, skipna, level, numeric_only, **kwargs)\u001b[0m\n\u001b[0;32m  10352\u001b[0m                 \u001b[0mname\u001b[0m\u001b[1;33m,\u001b[0m \u001b[0maxis\u001b[0m\u001b[1;33m=\u001b[0m\u001b[0maxis\u001b[0m\u001b[1;33m,\u001b[0m \u001b[0mlevel\u001b[0m\u001b[1;33m=\u001b[0m\u001b[0mlevel\u001b[0m\u001b[1;33m,\u001b[0m \u001b[0mskipna\u001b[0m\u001b[1;33m=\u001b[0m\u001b[0mskipna\u001b[0m\u001b[1;33m,\u001b[0m \u001b[0mnumeric_only\u001b[0m\u001b[1;33m=\u001b[0m\u001b[0mnumeric_only\u001b[0m\u001b[1;33m\u001b[0m\u001b[1;33m\u001b[0m\u001b[0m\n\u001b[0;32m  10353\u001b[0m             )\n\u001b[1;32m> 10354\u001b[1;33m         return self._reduce(\n\u001b[0m\u001b[0;32m  10355\u001b[0m             \u001b[0mfunc\u001b[0m\u001b[1;33m,\u001b[0m \u001b[0mname\u001b[0m\u001b[1;33m=\u001b[0m\u001b[0mname\u001b[0m\u001b[1;33m,\u001b[0m \u001b[0maxis\u001b[0m\u001b[1;33m=\u001b[0m\u001b[0maxis\u001b[0m\u001b[1;33m,\u001b[0m \u001b[0mskipna\u001b[0m\u001b[1;33m=\u001b[0m\u001b[0mskipna\u001b[0m\u001b[1;33m,\u001b[0m \u001b[0mnumeric_only\u001b[0m\u001b[1;33m=\u001b[0m\u001b[0mnumeric_only\u001b[0m\u001b[1;33m\u001b[0m\u001b[1;33m\u001b[0m\u001b[0m\n\u001b[0;32m  10356\u001b[0m         )\n",
      "\u001b[1;32m~\\anaconda3\\lib\\site-packages\\pandas\\core\\series.py\u001b[0m in \u001b[0;36m_reduce\u001b[1;34m(self, op, name, axis, skipna, numeric_only, filter_type, **kwds)\u001b[0m\n\u001b[0;32m   4390\u001b[0m                 )\n\u001b[0;32m   4391\u001b[0m             \u001b[1;32mwith\u001b[0m \u001b[0mnp\u001b[0m\u001b[1;33m.\u001b[0m\u001b[0merrstate\u001b[0m\u001b[1;33m(\u001b[0m\u001b[0mall\u001b[0m\u001b[1;33m=\u001b[0m\u001b[1;34m\"ignore\"\u001b[0m\u001b[1;33m)\u001b[0m\u001b[1;33m:\u001b[0m\u001b[1;33m\u001b[0m\u001b[1;33m\u001b[0m\u001b[0m\n\u001b[1;32m-> 4392\u001b[1;33m                 \u001b[1;32mreturn\u001b[0m \u001b[0mop\u001b[0m\u001b[1;33m(\u001b[0m\u001b[0mdelegate\u001b[0m\u001b[1;33m,\u001b[0m \u001b[0mskipna\u001b[0m\u001b[1;33m=\u001b[0m\u001b[0mskipna\u001b[0m\u001b[1;33m,\u001b[0m \u001b[1;33m**\u001b[0m\u001b[0mkwds\u001b[0m\u001b[1;33m)\u001b[0m\u001b[1;33m\u001b[0m\u001b[1;33m\u001b[0m\u001b[0m\n\u001b[0m\u001b[0;32m   4393\u001b[0m \u001b[1;33m\u001b[0m\u001b[0m\n\u001b[0;32m   4394\u001b[0m     def _reindex_indexer(\n",
      "\u001b[1;32m~\\anaconda3\\lib\\site-packages\\pandas\\core\\nanops.py\u001b[0m in \u001b[0;36mf\u001b[1;34m(values, axis, skipna, **kwds)\u001b[0m\n\u001b[0;32m    144\u001b[0m                     \u001b[1;31m#  TypeError if called\u001b[0m\u001b[1;33m\u001b[0m\u001b[1;33m\u001b[0m\u001b[0m\n\u001b[0;32m    145\u001b[0m                     \u001b[0mkwds\u001b[0m\u001b[1;33m.\u001b[0m\u001b[0mpop\u001b[0m\u001b[1;33m(\u001b[0m\u001b[1;34m\"mask\"\u001b[0m\u001b[1;33m,\u001b[0m \u001b[1;32mNone\u001b[0m\u001b[1;33m)\u001b[0m\u001b[1;33m\u001b[0m\u001b[1;33m\u001b[0m\u001b[0m\n\u001b[1;32m--> 146\u001b[1;33m                     \u001b[0mresult\u001b[0m \u001b[1;33m=\u001b[0m \u001b[0mbn_func\u001b[0m\u001b[1;33m(\u001b[0m\u001b[0mvalues\u001b[0m\u001b[1;33m,\u001b[0m \u001b[0maxis\u001b[0m\u001b[1;33m=\u001b[0m\u001b[0maxis\u001b[0m\u001b[1;33m,\u001b[0m \u001b[1;33m**\u001b[0m\u001b[0mkwds\u001b[0m\u001b[1;33m)\u001b[0m\u001b[1;33m\u001b[0m\u001b[1;33m\u001b[0m\u001b[0m\n\u001b[0m\u001b[0;32m    147\u001b[0m \u001b[1;33m\u001b[0m\u001b[0m\n\u001b[0;32m    148\u001b[0m                     \u001b[1;31m# prefer to treat inf/-inf as NA, but must compute the func\u001b[0m\u001b[1;33m\u001b[0m\u001b[1;33m\u001b[0m\u001b[0m\n",
      "\u001b[1;31mKeyboardInterrupt\u001b[0m: "
     ]
    }
   ],
   "source": [
    "diamond_df['new_table'] = diamond_df['table'].apply(lambda x: 't_above' if x > diamond_df['table'].median() else 't_below')"
   ]
  },
  {
   "cell_type": "code",
   "execution_count": null,
   "id": "ad2c6ace",
   "metadata": {},
   "outputs": [],
   "source": [
    "diamond_df"
   ]
  },
  {
   "cell_type": "code",
   "execution_count": null,
   "id": "6541f97a",
   "metadata": {},
   "outputs": [],
   "source": [
    "cross_tab = pd.crosstab(diamond_df['new_price'],diamond_df['new_table'])"
   ]
  },
  {
   "cell_type": "code",
   "execution_count": null,
   "id": "0c2db238",
   "metadata": {},
   "outputs": [],
   "source": [
    "stat,p_val, dof,ex_fre = stats.chi2_contingency(cross_tab)"
   ]
  },
  {
   "cell_type": "code",
   "execution_count": null,
   "id": "80348467",
   "metadata": {},
   "outputs": [],
   "source": [
    "p_val,dof"
   ]
  },
  {
   "cell_type": "code",
   "execution_count": null,
   "id": "5b529bd7",
   "metadata": {},
   "outputs": [],
   "source": [
    "if p_val < 0.05:\n",
    "    print('Reject H0: Both columns are dependent')\n",
    "else:\n",
    "    print('Failed Reject H0: Both columns are independent')\n",
    "    "
   ]
  },
  {
   "cell_type": "code",
   "execution_count": null,
   "id": "dbbac751",
   "metadata": {},
   "outputs": [],
   "source": [
    "tennis = pd.read_csv('tennis.csv')\n",
    "tennis"
   ]
  },
  {
   "cell_type": "code",
   "execution_count": null,
   "id": "c8c93cc2",
   "metadata": {},
   "outputs": [],
   "source": [
    "tennis.describe()"
   ]
  },
  {
   "cell_type": "code",
   "execution_count": null,
   "id": "81041297",
   "metadata": {},
   "outputs": [],
   "source": []
  },
  {
   "cell_type": "code",
   "execution_count": null,
   "id": "28e01edf",
   "metadata": {},
   "outputs": [],
   "source": [
    "tennis_crosstab = pd.crosstab(tennis['play'],tennis['windy'])\n",
    "tennis_crosstab"
   ]
  },
  {
   "cell_type": "code",
   "execution_count": null,
   "id": "c6733cc1",
   "metadata": {},
   "outputs": [],
   "source": [
    "stat,p,dof,exp = stats.chi2_contingency(tennis_crosstab)"
   ]
  },
  {
   "cell_type": "code",
   "execution_count": null,
   "id": "87b55a86",
   "metadata": {},
   "outputs": [],
   "source": [
    "stat, exp"
   ]
  },
  {
   "cell_type": "code",
   "execution_count": null,
   "id": "3ea3b181",
   "metadata": {},
   "outputs": [],
   "source": [
    "conf = 0.95\n",
    "stats.chi2.ppf(((1-conf)/2) + conf,1)"
   ]
  },
  {
   "cell_type": "code",
   "execution_count": null,
   "id": "89f396e9",
   "metadata": {},
   "outputs": [],
   "source": [
    "p"
   ]
  },
  {
   "cell_type": "code",
   "execution_count": null,
   "id": "ac773246",
   "metadata": {},
   "outputs": [],
   "source": [
    "if p < 0.05:\n",
    "    print('Reject H0: windy and play columns are dependent')\n",
    "else:\n",
    "    print('Failed Reject H0: windy and play columns are independent')\n",
    "    "
   ]
  },
  {
   "cell_type": "code",
   "execution_count": null,
   "id": "117ce6e9",
   "metadata": {},
   "outputs": [],
   "source": [
    "def chisquare_test_result(data,col):    \n",
    "    data_crosstab = pd.crosstab(data['play'],data[col])\n",
    "    stat,p,dof,exp = stats.chi2_contingency(data_crosstab)\n",
    "    print('p-value: ',p)\n",
    "    if p < 0.05:\n",
    "        print('Reject H0: {} and play columns are dependent'.format(col))\n",
    "    else:\n",
    "        print('Failed Reject H0: {} and play columns are independent'.format(col))\n"
   ]
  },
  {
   "cell_type": "code",
   "execution_count": null,
   "id": "aed080e4",
   "metadata": {},
   "outputs": [],
   "source": [
    "for col in tennis.columns:\n",
    "    print(chisquare_test_result(tennis,col))"
   ]
  },
  {
   "cell_type": "markdown",
   "id": "11319501",
   "metadata": {},
   "source": [
    "### Measures of Relation"
   ]
  },
  {
   "cell_type": "markdown",
   "id": "2375ac96",
   "metadata": {},
   "source": [
    "$ correlation(r) = \\frac {cov(x,y)} {std(x) * std(y)} $"
   ]
  },
  {
   "cell_type": "code",
   "execution_count": null,
   "id": "827f30d8",
   "metadata": {},
   "outputs": [],
   "source": [
    "diamond_df[['table','price']].cov()"
   ]
  },
  {
   "cell_type": "code",
   "execution_count": null,
   "id": "dc5e093a",
   "metadata": {},
   "outputs": [],
   "source": [
    "np.round(diamond_df.corr()['price'] *100,2)"
   ]
  },
  {
   "cell_type": "code",
   "execution_count": null,
   "id": "1d337c4b",
   "metadata": {},
   "outputs": [],
   "source": [
    "sns.regplot(diamond_df['price'],diamond_df['carat'])"
   ]
  },
  {
   "cell_type": "code",
   "execution_count": null,
   "id": "db3d7550",
   "metadata": {},
   "outputs": [],
   "source": [
    "sns.regplot(diamond_df['depth'],diamond_df['price'])"
   ]
  },
  {
   "cell_type": "code",
   "execution_count": null,
   "id": "370e5f90",
   "metadata": {},
   "outputs": [],
   "source": [
    "plt.figure(figsize = (10,6))\n",
    "sns.heatmap(diamond_df.corr(),annot=True)"
   ]
  },
  {
   "cell_type": "markdown",
   "id": "eb1aee47",
   "metadata": {},
   "source": [
    "#### Probability plot to check the normality of your column"
   ]
  },
  {
   "cell_type": "markdown",
   "id": "68a16fd8",
   "metadata": {},
   "source": [
    "scipy.stats.probplot(x, sparams=(), dist='norm', fit=True, plot=None, rvalue=False)"
   ]
  },
  {
   "cell_type": "code",
   "execution_count": 51,
   "id": "693b5fd0",
   "metadata": {},
   "outputs": [
    {
     "data": {
      "image/png": "[encoded data removed]",
      "text/plain": [
       "<Figure size 432x288 with 1 Axes>"
      ]
     },
     "metadata": {
      "needs_background": "light"
     },
     "output_type": "display_data"
    }
   ],
   "source": [
    "stats.probplot(np.log(diamond_df['price']),plot = plt);"
   ]
  },
  {
   "cell_type": "code",
   "execution_count": 52,
   "id": "83d5ce7f",
   "metadata": {},
   "outputs": [
    {
     "name": "stderr",
     "output_type": "stream",
     "text": [
      "C:\\Users\\DELL\\anaconda3\\lib\\site-packages\\seaborn\\distributions.py:2619: FutureWarning: `distplot` is a deprecated function and will be removed in a future version. Please adapt your code to use either `displot` (a figure-level function with similar flexibility) or `histplot` (an axes-level function for histograms).\n",
      "  warnings.warn(msg, FutureWarning)\n"
     ]
    },
    {
     "data": {
      "image/png": "[encoded data removed]",
      "text/plain": [
       "<Figure size 432x288 with 1 Axes>"
      ]
     },
     "metadata": {
      "needs_background": "light"
     },
     "output_type": "display_data"
    }
   ],
   "source": [
    "sns.distplot(np.log(diamond_df['price']));"
   ]
  },
  {
   "cell_type": "code",
   "execution_count": 49,
   "id": "6021511f",
   "metadata": {},
   "outputs": [],
   "source": [
    "test = pd.read_excel('Chi_test.xlsx')\n",
    "test = test.set_index('Unnamed: 0')"
   ]
  },
  {
   "cell_type": "code",
   "execution_count": 50,
   "id": "f88b3188",
   "metadata": {},
   "outputs": [
    {
     "data": {
      "text/plain": [
       "(16.390246791192737,\n",
       " 0.6921380051912838,\n",
       " 20,\n",
       " array([[ 8.40909091, 12.44545455,  2.35454545, 10.42727273,  1.68181818,\n",
       "          1.68181818],\n",
       "        [ 4.54545455,  6.72727273,  1.27272727,  5.63636364,  0.90909091,\n",
       "          0.90909091],\n",
       "        [ 7.27272727, 10.76363636,  2.03636364,  9.01818182,  1.45454545,\n",
       "          1.45454545],\n",
       "        [ 3.40909091,  5.04545455,  0.95454545,  4.22727273,  0.68181818,\n",
       "          0.68181818],\n",
       "        [ 1.36363636,  2.01818182,  0.38181818,  1.69090909,  0.27272727,\n",
       "          0.27272727]]))"
      ]
     },
     "execution_count": 50,
     "metadata": {},
     "output_type": "execute_result"
    }
   ],
   "source": [
    "stats.chi2_contingency(test)"
   ]
  },
  {
   "cell_type": "code",
   "execution_count": null,
   "id": "0a325b75",
   "metadata": {},
   "outputs": [],
   "source": []
  },
  {
   "cell_type": "code",
   "execution_count": null,
   "id": "7d582013",
   "metadata": {},
   "outputs": [],
   "source": []
  }
 ],
 "metadata": {
  "kernelspec": {
   "display_name": "Python 3 (ipykernel)",
   "language": "python",
   "name": "python3"
  },
  "language_info": {
   "codemirror_mode": {
    "name": "ipython",
    "version": 3
   },
   "file_extension": ".py",
   "mimetype": "text/x-python",
   "name": "python",
   "nbconvert_exporter": "python",
   "pygments_lexer": "ipython3",
   "version": "3.9.12"
  }
 },
 "nbformat": 4,
 "nbformat_minor": 5
}

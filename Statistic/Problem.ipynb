{
 "cells": [
  {
   "cell_type": "code",
   "execution_count": 1,
   "id": "b8e65c70",
   "metadata": {},
   "outputs": [],
   "source": [
    "import numpy as np\n",
    "import pandas as pd\n",
    "from scipy import stats"
   ]
  },
  {
   "cell_type": "markdown",
   "id": "0007b5f7",
   "metadata": {},
   "source": [
    "### Example : 1"
   ]
  },
  {
   "cell_type": "markdown",
   "id": "76d6710e",
   "metadata": {},
   "source": [
    "A principal at a certain school claims that the students in his school are above average intelligence. \n",
    "A random sample of thirty students IQ scores have a mean score of 112.5. Is there sufficient evidence to support the principal’s claim? The mean population IQ is 100 with a standard deviation of 15."
   ]
  },
  {
   "cell_type": "markdown",
   "id": "7000ed78",
   "metadata": {},
   "source": [
    "H1 : The student in the school are having above average ($\\mu > 100$)\n",
    "    \n",
    "H0 : The student in the school are having below average ($\\mu \\le  100$)    "
   ]
  },
  {
   "cell_type": "code",
   "execution_count": 5,
   "id": "5504f91d",
   "metadata": {},
   "outputs": [],
   "source": [
    "n=30\n",
    "sample_mean=112.5\n",
    "pop_mean=100\n",
    "pop_std=15"
   ]
  },
  {
   "cell_type": "markdown",
   "id": "843d058f",
   "metadata": {},
   "source": [
    "# $t = \\frac{\\bar{X} - \\mu}{\\frac{\\sigma}{\\sqrt{n-1}}}$"
   ]
  },
  {
   "cell_type": "code",
   "execution_count": 6,
   "id": "e1bd4d34",
   "metadata": {},
   "outputs": [],
   "source": [
    "def t_score(n,pop_mean,pop_std,sample_mean):\n",
    "    numerator=sample_mean - pop_mean\n",
    "    denominator=pop_std / np.sqrt(n-1)\n",
    "    return numerator/denominator"
   ]
  },
  {
   "cell_type": "code",
   "execution_count": 8,
   "id": "64f3b74d",
   "metadata": {},
   "outputs": [
    {
     "data": {
      "text/plain": [
       "4.487637339278753"
      ]
     },
     "execution_count": 8,
     "metadata": {},
     "output_type": "execute_result"
    }
   ],
   "source": [
    "cal=t_score(n,pop_mean,pop_std,sample_mean)\n",
    "cal"
   ]
  },
  {
   "cell_type": "code",
   "execution_count": null,
   "id": "5165ad4c",
   "metadata": {},
   "outputs": [],
   "source": [
    "p_val = 1 - cdf(cal)   # one-tailed test"
   ]
  },
  {
   "cell_type": "code",
   "execution_count": 9,
   "id": "c6cf633a",
   "metadata": {},
   "outputs": [
    {
     "data": {
      "text/plain": [
       "5.253158558449211e-05"
      ]
     },
     "execution_count": 9,
     "metadata": {},
     "output_type": "execute_result"
    }
   ],
   "source": [
    "p_val = 1 - stats.t.cdf(cal,n-1)\n",
    "p_val"
   ]
  },
  {
   "cell_type": "code",
   "execution_count": 11,
   "id": "333cfd6b",
   "metadata": {},
   "outputs": [],
   "source": [
    "p_val =0.000053"
   ]
  },
  {
   "cell_type": "code",
   "execution_count": 12,
   "id": "b20fb0aa",
   "metadata": {},
   "outputs": [
    {
     "name": "stdout",
     "output_type": "stream",
     "text": [
      "Reject H0 : The student in the school are having above average ( 𝜇>100 )\n"
     ]
    }
   ],
   "source": [
    "if p_val <= 0.05:\n",
    "    print('Reject H0 : The student in the school are having above average ( 𝜇>100 )')\n",
    "else:\n",
    "    print('Failed to Reject H0 : The student in the school are having below average ( 𝜇≤100 )')"
   ]
  },
  {
   "cell_type": "code",
   "execution_count": null,
   "id": "bbcac8b9",
   "metadata": {},
   "outputs": [],
   "source": []
  },
  {
   "cell_type": "markdown",
   "id": "712a8891",
   "metadata": {},
   "source": [
    "### Example : 2"
   ]
  },
  {
   "cell_type": "markdown",
   "id": "4da1996b",
   "metadata": {},
   "source": [
    "Blood glucose levels for obese patients have a mean of 100 with a standard deviation of 15. \n",
    "A researcher thinks that a diet high in raw cornstarch will have a positive or negative effect \n",
    "on blood glucose levels. A sample of 30 patients who have tried the raw cornstarch diet have a \n",
    "mean glucose level of 140. Test the hypothesis that the raw cornstarch had an effect."
   ]
  },
  {
   "cell_type": "markdown",
   "id": "2bcdb59f",
   "metadata": {},
   "source": [
    "H0 : The raw cornstarch had no effect\n",
    "\n",
    "H1 : The raw cornstarch had an effect"
   ]
  },
  {
   "cell_type": "code",
   "execution_count": 13,
   "id": "566f987f",
   "metadata": {},
   "outputs": [],
   "source": [
    "n=30\n",
    "pop_mean=100\n",
    "sample_mean=140\n",
    "sd=15"
   ]
  },
  {
   "cell_type": "code",
   "execution_count": 22,
   "id": "584b94fe",
   "metadata": {},
   "outputs": [],
   "source": [
    "def t_score(n,pop_mean,sd,sample_mean):\n",
    "    numerator=sample_mean - pop_mean\n",
    "    denominator=sd / np.sqrt(n-1)\n",
    "    return numerator/denominator"
   ]
  },
  {
   "cell_type": "code",
   "execution_count": 23,
   "id": "9b17fcd9",
   "metadata": {},
   "outputs": [
    {
     "data": {
      "text/plain": [
       "14.36043948569201"
      ]
     },
     "execution_count": 23,
     "metadata": {},
     "output_type": "execute_result"
    }
   ],
   "source": [
    "cal=t_score(n,pop_mean,pop_std,sample_mean)\n",
    "cal"
   ]
  },
  {
   "cell_type": "code",
   "execution_count": null,
   "id": "bcafde1f",
   "metadata": {},
   "outputs": [],
   "source": [
    "p_val = 2*(1 - cdf(cal))   # two-tailed test"
   ]
  },
  {
   "cell_type": "code",
   "execution_count": 31,
   "id": "aa42d1bd",
   "metadata": {},
   "outputs": [
    {
     "data": {
      "text/plain": [
       "0.0"
      ]
     },
     "execution_count": 31,
     "metadata": {},
     "output_type": "execute_result"
    }
   ],
   "source": [
    "p_val = 2* (1 - stats.norm.cdf(cal))\n",
    "p_val"
   ]
  },
  {
   "cell_type": "code",
   "execution_count": 29,
   "id": "9b2c4096",
   "metadata": {},
   "outputs": [
    {
     "name": "stdout",
     "output_type": "stream",
     "text": [
      "Reject H0 : The raw cornstarch had an effect\n"
     ]
    }
   ],
   "source": [
    "if p_val <= 0.05:\n",
    "    print('Reject H0 : The raw cornstarch had an effect')\n",
    "else:\n",
    "    print('Failed to Reject H0 : The raw cornstarch had no effect')"
   ]
  },
  {
   "cell_type": "code",
   "execution_count": null,
   "id": "1cd2644c",
   "metadata": {},
   "outputs": [],
   "source": []
  },
  {
   "cell_type": "markdown",
   "id": "5cf243df",
   "metadata": {},
   "source": [
    "### Chi-Square Test"
   ]
  },
  {
   "cell_type": "code",
   "execution_count": 32,
   "id": "ccd14498",
   "metadata": {},
   "outputs": [],
   "source": [
    "import seaborn as sns"
   ]
  },
  {
   "cell_type": "code",
   "execution_count": 35,
   "id": "f4734984",
   "metadata": {},
   "outputs": [
    {
     "data": {
      "text/html": [
       "<div>\n",
       "<style scoped>\n",
       "    .dataframe tbody tr th:only-of-type {\n",
       "        vertical-align: middle;\n",
       "    }\n",
       "\n",
       "    .dataframe tbody tr th {\n",
       "        vertical-align: top;\n",
       "    }\n",
       "\n",
       "    .dataframe thead th {\n",
       "        text-align: right;\n",
       "    }\n",
       "</style>\n",
       "<table border=\"1\" class=\"dataframe\">\n",
       "  <thead>\n",
       "    <tr style=\"text-align: right;\">\n",
       "      <th></th>\n",
       "      <th>total_bill</th>\n",
       "      <th>tip</th>\n",
       "      <th>sex</th>\n",
       "      <th>smoker</th>\n",
       "      <th>day</th>\n",
       "      <th>time</th>\n",
       "      <th>size</th>\n",
       "    </tr>\n",
       "  </thead>\n",
       "  <tbody>\n",
       "    <tr>\n",
       "      <th>0</th>\n",
       "      <td>16.99</td>\n",
       "      <td>1.01</td>\n",
       "      <td>Female</td>\n",
       "      <td>No</td>\n",
       "      <td>Sun</td>\n",
       "      <td>Dinner</td>\n",
       "      <td>2</td>\n",
       "    </tr>\n",
       "    <tr>\n",
       "      <th>1</th>\n",
       "      <td>10.34</td>\n",
       "      <td>1.66</td>\n",
       "      <td>Male</td>\n",
       "      <td>No</td>\n",
       "      <td>Sun</td>\n",
       "      <td>Dinner</td>\n",
       "      <td>3</td>\n",
       "    </tr>\n",
       "    <tr>\n",
       "      <th>2</th>\n",
       "      <td>21.01</td>\n",
       "      <td>3.50</td>\n",
       "      <td>Male</td>\n",
       "      <td>No</td>\n",
       "      <td>Sun</td>\n",
       "      <td>Dinner</td>\n",
       "      <td>3</td>\n",
       "    </tr>\n",
       "    <tr>\n",
       "      <th>3</th>\n",
       "      <td>23.68</td>\n",
       "      <td>3.31</td>\n",
       "      <td>Male</td>\n",
       "      <td>No</td>\n",
       "      <td>Sun</td>\n",
       "      <td>Dinner</td>\n",
       "      <td>2</td>\n",
       "    </tr>\n",
       "    <tr>\n",
       "      <th>4</th>\n",
       "      <td>24.59</td>\n",
       "      <td>3.61</td>\n",
       "      <td>Female</td>\n",
       "      <td>No</td>\n",
       "      <td>Sun</td>\n",
       "      <td>Dinner</td>\n",
       "      <td>4</td>\n",
       "    </tr>\n",
       "  </tbody>\n",
       "</table>\n",
       "</div>"
      ],
      "text/plain": [
       "   total_bill   tip     sex smoker  day    time  size\n",
       "0       16.99  1.01  Female     No  Sun  Dinner     2\n",
       "1       10.34  1.66    Male     No  Sun  Dinner     3\n",
       "2       21.01  3.50    Male     No  Sun  Dinner     3\n",
       "3       23.68  3.31    Male     No  Sun  Dinner     2\n",
       "4       24.59  3.61  Female     No  Sun  Dinner     4"
      ]
     },
     "execution_count": 35,
     "metadata": {},
     "output_type": "execute_result"
    }
   ],
   "source": [
    "tips=sns.load_dataset('tips')\n",
    "tips.head()"
   ]
  },
  {
   "cell_type": "code",
   "execution_count": 46,
   "id": "b5c8add1",
   "metadata": {},
   "outputs": [
    {
     "data": {
      "text/html": [
       "<div>\n",
       "<style scoped>\n",
       "    .dataframe tbody tr th:only-of-type {\n",
       "        vertical-align: middle;\n",
       "    }\n",
       "\n",
       "    .dataframe tbody tr th {\n",
       "        vertical-align: top;\n",
       "    }\n",
       "\n",
       "    .dataframe thead th {\n",
       "        text-align: right;\n",
       "    }\n",
       "</style>\n",
       "<table border=\"1\" class=\"dataframe\">\n",
       "  <thead>\n",
       "    <tr style=\"text-align: right;\">\n",
       "      <th>smoker</th>\n",
       "      <th>Yes</th>\n",
       "      <th>No</th>\n",
       "    </tr>\n",
       "    <tr>\n",
       "      <th>sex</th>\n",
       "      <th></th>\n",
       "      <th></th>\n",
       "    </tr>\n",
       "  </thead>\n",
       "  <tbody>\n",
       "    <tr>\n",
       "      <th>Male</th>\n",
       "      <td>60</td>\n",
       "      <td>97</td>\n",
       "    </tr>\n",
       "    <tr>\n",
       "      <th>Female</th>\n",
       "      <td>33</td>\n",
       "      <td>54</td>\n",
       "    </tr>\n",
       "  </tbody>\n",
       "</table>\n",
       "</div>"
      ],
      "text/plain": [
       "smoker  Yes  No\n",
       "sex            \n",
       "Male     60  97\n",
       "Female   33  54"
      ]
     },
     "execution_count": 46,
     "metadata": {},
     "output_type": "execute_result"
    }
   ],
   "source": [
    "ct=pd.crosstab(tips['sex'],tips['smoker'])\n",
    "ct"
   ]
  },
  {
   "cell_type": "code",
   "execution_count": 47,
   "id": "81712716",
   "metadata": {},
   "outputs": [
    {
     "data": {
      "text/plain": [
       "(0.0,\n",
       " 1.0,\n",
       " 1,\n",
       " array([[59.84016393, 97.15983607],\n",
       "        [33.15983607, 53.84016393]]))"
      ]
     },
     "execution_count": 47,
     "metadata": {},
     "output_type": "execute_result"
    }
   ],
   "source": [
    "stats.chi2_contingency(ct)"
   ]
  },
  {
   "cell_type": "code",
   "execution_count": 48,
   "id": "526191f3",
   "metadata": {},
   "outputs": [
    {
     "name": "stdout",
     "output_type": "stream",
     "text": [
      "p value is 1.0\n",
      "Independent (H0 holds true)\n"
     ]
    }
   ],
   "source": [
    "stat, p, dof, expected = stats.chi2_contingency(ct)\n",
    "  \n",
    "# interpret p-value\n",
    "alpha = 0.05\n",
    "print(\"p value is \" + str(p))\n",
    "if p <= alpha:\n",
    "    print('Dependent (reject H0)')\n",
    "else:\n",
    "    print('Independent (H0 holds true)')"
   ]
  },
  {
   "cell_type": "code",
   "execution_count": 55,
   "id": "2c8ea0d7",
   "metadata": {},
   "outputs": [],
   "source": [
    "def chi_test(data,col1,col2):\n",
    "    ct=pd.crosstab(data[col1],data[col2])\n",
    "    ct\n",
    "    stats.chi2_contingency(ct)\n",
    "    stat, p, dof, expected = stats.chi2_contingency(ct)\n",
    "\n",
    "    # interpret p-value\n",
    "    alpha = 0.05\n",
    "    print(\"p value is \" + str(p))\n",
    "    if p <= alpha:\n",
    "        return('tip and {} are Dependent (reject H0)'.format(col2))\n",
    "    else:\n",
    "        return('tip and {} are Independent (H0 holds true)'.format(col2))"
   ]
  },
  {
   "cell_type": "code",
   "execution_count": 56,
   "id": "2cab134e",
   "metadata": {},
   "outputs": [
    {
     "name": "stdout",
     "output_type": "stream",
     "text": [
      "p value is 0.07795476511618318\n",
      "tip and total_bill are Independent (H0 holds true)\n",
      "p value is 0.0\n",
      "tip and tip are Dependent (reject H0)\n",
      "p value is 0.5825731193437201\n",
      "tip and sex are Independent (H0 holds true)\n",
      "p value is 0.7279546665100842\n",
      "tip and smoker are Independent (H0 holds true)\n",
      "p value is 0.9147886011626277\n",
      "tip and day are Independent (H0 holds true)\n",
      "p value is 0.8026198364134436\n",
      "tip and time are Independent (H0 holds true)\n",
      "p value is 0.03864648495551946\n",
      "tip and size are Dependent (reject H0)\n"
     ]
    }
   ],
   "source": [
    "for i in tips.columns:\n",
    "    print(chi_test(tips,'tip',i))"
   ]
  },
  {
   "cell_type": "code",
   "execution_count": null,
   "id": "a1549d6d",
   "metadata": {},
   "outputs": [],
   "source": []
  },
  {
   "cell_type": "code",
   "execution_count": null,
   "id": "0cbae34f",
   "metadata": {},
   "outputs": [],
   "source": []
  }
 ],
 "metadata": {
  "kernelspec": {
   "display_name": "Python 3 (ipykernel)",
   "language": "python",
   "name": "python3"
  },
  "language_info": {
   "codemirror_mode": {
    "name": "ipython",
    "version": 3
   },
   "file_extension": ".py",
   "mimetype": "text/x-python",
   "name": "python",
   "nbconvert_exporter": "python",
   "pygments_lexer": "ipython3",
   "version": "3.9.12"
  }
 },
 "nbformat": 4,
 "nbformat_minor": 5
}

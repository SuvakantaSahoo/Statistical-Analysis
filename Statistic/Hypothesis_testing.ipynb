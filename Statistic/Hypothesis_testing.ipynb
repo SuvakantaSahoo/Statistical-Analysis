{
 "cells": [
  {
   "cell_type": "code",
   "execution_count": 2,
   "id": "9381cc77",
   "metadata": {},
   "outputs": [],
   "source": [
    "import numpy as np\n",
    "import pandas as pd\n",
    "from scipy import stats"
   ]
  },
  {
   "cell_type": "markdown",
   "id": "6c6acba3",
   "metadata": {},
   "source": [
    "**Example-1:**\n",
    "\n",
    "A principal at a certain school claims that the students in his school are above average intelligence. \n",
    "A random sample of thirty students IQ scores have a mean score of 112.5. Is there sufficient evidence to support the principal’s claim? The mean population IQ is 100 with a standard deviation of 15."
   ]
  },
  {
   "cell_type": "markdown",
   "id": "2886e3c1",
   "metadata": {},
   "source": [
    "H1 : The students in the school are having above average ($\\mu > 100$)\n",
    "\n",
    "H0 : The students in the school are having below average ($\\mu \\le 100$)"
   ]
  },
  {
   "cell_type": "code",
   "execution_count": 2,
   "id": "b67d5b06",
   "metadata": {},
   "outputs": [],
   "source": [
    "n = 30\n",
    "sample_mean = 112.5\n",
    "pop_mean = 100\n",
    "pop_std = 15"
   ]
  },
  {
   "cell_type": "markdown",
   "id": "79f47384",
   "metadata": {},
   "source": [
    "# $t = \\frac{\\bar{x} - \\mu}{\\frac{\\sigma}{\\sqrt(n-1)}}$"
   ]
  },
  {
   "cell_type": "code",
   "execution_count": 3,
   "id": "df6b01db",
   "metadata": {},
   "outputs": [],
   "source": [
    "def t_score(n, pop_mean,pop_std,sample_mean):\n",
    "    numerator = sample_mean - pop_mean\n",
    "    denominator = pop_std / np.sqrt(n -1)\n",
    "    return numerator/denominator\n"
   ]
  },
  {
   "cell_type": "code",
   "execution_count": 5,
   "id": "48139a62",
   "metadata": {},
   "outputs": [
    {
     "data": {
      "text/plain": [
       "4.487637339278753"
      ]
     },
     "execution_count": 5,
     "metadata": {},
     "output_type": "execute_result"
    }
   ],
   "source": [
    "cal = t_score(n, pop_mean,pop_std,sample_mean)\n",
    "cal"
   ]
  },
  {
   "cell_type": "markdown",
   "id": "9c277b18",
   "metadata": {},
   "source": [
    "p_val = 1 - cdf(cal)"
   ]
  },
  {
   "cell_type": "code",
   "execution_count": 11,
   "id": "7e4f5114",
   "metadata": {},
   "outputs": [
    {
     "data": {
      "text/plain": [
       "5.253158558449211e-05"
      ]
     },
     "execution_count": 11,
     "metadata": {},
     "output_type": "execute_result"
    }
   ],
   "source": [
    "p_val = 1 - stats.t.cdf(cal,n-1)\n",
    "p_val"
   ]
  },
  {
   "cell_type": "code",
   "execution_count": 12,
   "id": "65366fb4",
   "metadata": {},
   "outputs": [],
   "source": [
    "p_val = 0.000053"
   ]
  },
  {
   "cell_type": "code",
   "execution_count": 13,
   "id": "88bad603",
   "metadata": {},
   "outputs": [
    {
     "name": "stdout",
     "output_type": "stream",
     "text": [
      "Reject Ho : The students in the school are having above average ( 𝜇>100 )\n"
     ]
    }
   ],
   "source": [
    "if p_val <= 0.05:\n",
    "    print('Reject Ho : The students in the school are having above average ( 𝜇>100 )')\n",
    "else:\n",
    "    print('Failed to Reject H0 : The students in the school are having below average ( 𝜇≤100 )')"
   ]
  },
  {
   "cell_type": "markdown",
   "id": "df9e1537",
   "metadata": {},
   "source": [
    "**Example-2:**\n",
    "\n",
    "Blood glucose levels for obese patients have a mean of 100 with a standard deviation of 15. \n",
    "A researcher thinks that a diet high in raw cornstarch will have a positive or negative effect \n",
    "on blood glucose levels. A sample of 30 patients who have tried the raw cornstarch diet have a \n",
    "mean glucose level of 140. Test the hypothesis that the raw cornstarch had an effect. "
   ]
  },
  {
   "cell_type": "code",
   "execution_count": null,
   "id": "e7e86bc7",
   "metadata": {},
   "outputs": [],
   "source": []
  },
  {
   "attachments": {
    "image.png": {
     "image/png": "[encoded data removed]"
    }
   },
   "cell_type": "markdown",
   "id": "49ddf3d1",
   "metadata": {},
   "source": [
    "In order to investigate the relationship between mean job tenure in years among workers who have a bachelor’s degree or higher and those who do not, random samples of each type of worker were taken, with the following results.\n",
    "![image.png](attachment:image.png)\n",
    "\n",
    "Test, at the 1% level of significance, the claim that mean job tenure among those with higher education is greater than among those without, against the default that there is no difference in the means."
   ]
  },
  {
   "cell_type": "markdown",
   "id": "9134a99a",
   "metadata": {},
   "source": [
    "- H0: Both means are not equal\n",
    "- H1: Both means are equal"
   ]
  },
  {
   "cell_type": "code",
   "execution_count": 14,
   "id": "9b7994bd",
   "metadata": {},
   "outputs": [
    {
     "data": {
      "text/plain": [
       "1.3602763459567448"
      ]
     },
     "execution_count": 14,
     "metadata": {},
     "output_type": "execute_result"
    }
   ],
   "source": [
    "n1 = 155\n",
    "n2 = 210\n",
    "\n",
    "mean1 = 5.2\n",
    "mean2 = 5.0\n",
    "\n",
    "std1 = 1.3\n",
    "std2 = 1.5\n",
    "\n",
    "se1 = std1**2/n1\n",
    "se2 = std2**2/n2\n",
    "\n",
    "numerator = mean1 - mean2\n",
    "denominator = np.sqrt(se1 + se2)\n",
    "\n",
    "z_cal = numerator/denominator\n",
    "z_cal"
   ]
  },
  {
   "cell_type": "code",
   "execution_count": 17,
   "id": "b55eeca7",
   "metadata": {},
   "outputs": [
    {
     "data": {
      "text/plain": [
       "0.17374249076417936"
      ]
     },
     "execution_count": 17,
     "metadata": {},
     "output_type": "execute_result"
    }
   ],
   "source": [
    "p_val = 2*(1 - stats.norm.cdf(z_cal))\n",
    "p_val"
   ]
  },
  {
   "cell_type": "code",
   "execution_count": 20,
   "id": "81a36806",
   "metadata": {},
   "outputs": [
    {
     "name": "stdout",
     "output_type": "stream",
     "text": [
      "Failed to Reject H0 : \n"
     ]
    }
   ],
   "source": [
    "if p_val <= 0.05:\n",
    "    print('Reject Ho : ')\n",
    "else:\n",
    "    print('Failed to Reject H0 : ')"
   ]
  },
  {
   "cell_type": "markdown",
   "id": "9a749b0a",
   "metadata": {},
   "source": [
    "## Chi_Sqrare Test"
   ]
  },
  {
   "cell_type": "code",
   "execution_count": 21,
   "id": "849b67b7",
   "metadata": {},
   "outputs": [],
   "source": [
    "import seaborn as sns"
   ]
  },
  {
   "cell_type": "code",
   "execution_count": 23,
   "id": "3408e19d",
   "metadata": {},
   "outputs": [
    {
     "data": {
      "text/html": [
       "<div>\n",
       "<style scoped>\n",
       "    .dataframe tbody tr th:only-of-type {\n",
       "        vertical-align: middle;\n",
       "    }\n",
       "\n",
       "    .dataframe tbody tr th {\n",
       "        vertical-align: top;\n",
       "    }\n",
       "\n",
       "    .dataframe thead th {\n",
       "        text-align: right;\n",
       "    }\n",
       "</style>\n",
       "<table border=\"1\" class=\"dataframe\">\n",
       "  <thead>\n",
       "    <tr style=\"text-align: right;\">\n",
       "      <th></th>\n",
       "      <th>total_bill</th>\n",
       "      <th>tip</th>\n",
       "      <th>sex</th>\n",
       "      <th>smoker</th>\n",
       "      <th>day</th>\n",
       "      <th>time</th>\n",
       "      <th>size</th>\n",
       "    </tr>\n",
       "  </thead>\n",
       "  <tbody>\n",
       "    <tr>\n",
       "      <th>0</th>\n",
       "      <td>16.99</td>\n",
       "      <td>1.01</td>\n",
       "      <td>Female</td>\n",
       "      <td>No</td>\n",
       "      <td>Sun</td>\n",
       "      <td>Dinner</td>\n",
       "      <td>2</td>\n",
       "    </tr>\n",
       "    <tr>\n",
       "      <th>1</th>\n",
       "      <td>10.34</td>\n",
       "      <td>1.66</td>\n",
       "      <td>Male</td>\n",
       "      <td>No</td>\n",
       "      <td>Sun</td>\n",
       "      <td>Dinner</td>\n",
       "      <td>3</td>\n",
       "    </tr>\n",
       "    <tr>\n",
       "      <th>2</th>\n",
       "      <td>21.01</td>\n",
       "      <td>3.50</td>\n",
       "      <td>Male</td>\n",
       "      <td>No</td>\n",
       "      <td>Sun</td>\n",
       "      <td>Dinner</td>\n",
       "      <td>3</td>\n",
       "    </tr>\n",
       "    <tr>\n",
       "      <th>3</th>\n",
       "      <td>23.68</td>\n",
       "      <td>3.31</td>\n",
       "      <td>Male</td>\n",
       "      <td>No</td>\n",
       "      <td>Sun</td>\n",
       "      <td>Dinner</td>\n",
       "      <td>2</td>\n",
       "    </tr>\n",
       "    <tr>\n",
       "      <th>4</th>\n",
       "      <td>24.59</td>\n",
       "      <td>3.61</td>\n",
       "      <td>Female</td>\n",
       "      <td>No</td>\n",
       "      <td>Sun</td>\n",
       "      <td>Dinner</td>\n",
       "      <td>4</td>\n",
       "    </tr>\n",
       "    <tr>\n",
       "      <th>...</th>\n",
       "      <td>...</td>\n",
       "      <td>...</td>\n",
       "      <td>...</td>\n",
       "      <td>...</td>\n",
       "      <td>...</td>\n",
       "      <td>...</td>\n",
       "      <td>...</td>\n",
       "    </tr>\n",
       "    <tr>\n",
       "      <th>239</th>\n",
       "      <td>29.03</td>\n",
       "      <td>5.92</td>\n",
       "      <td>Male</td>\n",
       "      <td>No</td>\n",
       "      <td>Sat</td>\n",
       "      <td>Dinner</td>\n",
       "      <td>3</td>\n",
       "    </tr>\n",
       "    <tr>\n",
       "      <th>240</th>\n",
       "      <td>27.18</td>\n",
       "      <td>2.00</td>\n",
       "      <td>Female</td>\n",
       "      <td>Yes</td>\n",
       "      <td>Sat</td>\n",
       "      <td>Dinner</td>\n",
       "      <td>2</td>\n",
       "    </tr>\n",
       "    <tr>\n",
       "      <th>241</th>\n",
       "      <td>22.67</td>\n",
       "      <td>2.00</td>\n",
       "      <td>Male</td>\n",
       "      <td>Yes</td>\n",
       "      <td>Sat</td>\n",
       "      <td>Dinner</td>\n",
       "      <td>2</td>\n",
       "    </tr>\n",
       "    <tr>\n",
       "      <th>242</th>\n",
       "      <td>17.82</td>\n",
       "      <td>1.75</td>\n",
       "      <td>Male</td>\n",
       "      <td>No</td>\n",
       "      <td>Sat</td>\n",
       "      <td>Dinner</td>\n",
       "      <td>2</td>\n",
       "    </tr>\n",
       "    <tr>\n",
       "      <th>243</th>\n",
       "      <td>18.78</td>\n",
       "      <td>3.00</td>\n",
       "      <td>Female</td>\n",
       "      <td>No</td>\n",
       "      <td>Thur</td>\n",
       "      <td>Dinner</td>\n",
       "      <td>2</td>\n",
       "    </tr>\n",
       "  </tbody>\n",
       "</table>\n",
       "<p>244 rows × 7 columns</p>\n",
       "</div>"
      ],
      "text/plain": [
       "     total_bill   tip     sex smoker   day    time  size\n",
       "0         16.99  1.01  Female     No   Sun  Dinner     2\n",
       "1         10.34  1.66    Male     No   Sun  Dinner     3\n",
       "2         21.01  3.50    Male     No   Sun  Dinner     3\n",
       "3         23.68  3.31    Male     No   Sun  Dinner     2\n",
       "4         24.59  3.61  Female     No   Sun  Dinner     4\n",
       "..          ...   ...     ...    ...   ...     ...   ...\n",
       "239       29.03  5.92    Male     No   Sat  Dinner     3\n",
       "240       27.18  2.00  Female    Yes   Sat  Dinner     2\n",
       "241       22.67  2.00    Male    Yes   Sat  Dinner     2\n",
       "242       17.82  1.75    Male     No   Sat  Dinner     2\n",
       "243       18.78  3.00  Female     No  Thur  Dinner     2\n",
       "\n",
       "[244 rows x 7 columns]"
      ]
     },
     "execution_count": 23,
     "metadata": {},
     "output_type": "execute_result"
    }
   ],
   "source": [
    "tips = sns.load_dataset('tips')\n",
    "tips"
   ]
  },
  {
   "cell_type": "code",
   "execution_count": 61,
   "id": "58db92fe",
   "metadata": {},
   "outputs": [
    {
     "data": {
      "text/html": [
       "<div>\n",
       "<style scoped>\n",
       "    .dataframe tbody tr th:only-of-type {\n",
       "        vertical-align: middle;\n",
       "    }\n",
       "\n",
       "    .dataframe tbody tr th {\n",
       "        vertical-align: top;\n",
       "    }\n",
       "\n",
       "    .dataframe thead th {\n",
       "        text-align: right;\n",
       "    }\n",
       "</style>\n",
       "<table border=\"1\" class=\"dataframe\">\n",
       "  <thead>\n",
       "    <tr style=\"text-align: right;\">\n",
       "      <th>sex</th>\n",
       "      <th>Male</th>\n",
       "      <th>Female</th>\n",
       "    </tr>\n",
       "    <tr>\n",
       "      <th>time</th>\n",
       "      <th></th>\n",
       "      <th></th>\n",
       "    </tr>\n",
       "  </thead>\n",
       "  <tbody>\n",
       "    <tr>\n",
       "      <th>Lunch</th>\n",
       "      <td>33</td>\n",
       "      <td>35</td>\n",
       "    </tr>\n",
       "    <tr>\n",
       "      <th>Dinner</th>\n",
       "      <td>124</td>\n",
       "      <td>52</td>\n",
       "    </tr>\n",
       "  </tbody>\n",
       "</table>\n",
       "</div>"
      ],
      "text/plain": [
       "sex     Male  Female\n",
       "time                \n",
       "Lunch     33      35\n",
       "Dinner   124      52"
      ]
     },
     "execution_count": 61,
     "metadata": {},
     "output_type": "execute_result"
    }
   ],
   "source": [
    "ct = pd.crosstab(tips['time'],tips['sex'])\n",
    "ct"
   ]
  },
  {
   "cell_type": "code",
   "execution_count": 68,
   "id": "65b424a9",
   "metadata": {},
   "outputs": [
    {
     "data": {
      "text/plain": [
       "(0.17374249076417936,\n",
       " (9.343808982970623,\n",
       "  0.002237400118075248,\n",
       "  1,\n",
       "  array([[ 43.75409836,  24.24590164],\n",
       "         [113.24590164,  62.75409836]])))"
      ]
     },
     "execution_count": 68,
     "metadata": {},
     "output_type": "execute_result"
    }
   ],
   "source": [
    "p_val,stats.chi2_contingency(ct)"
   ]
  },
  {
   "cell_type": "code",
   "execution_count": 57,
   "id": "b1964b61",
   "metadata": {},
   "outputs": [
    {
     "name": "stdout",
     "output_type": "stream",
     "text": [
      "p value is 0.8026198364134443\n",
      "Independent (H0 holds true)\n"
     ]
    }
   ],
   "source": [
    "stat, p, dof, expected = stats.chi2_contingency(ct)\n",
    "#-----------interpret p-value\n",
    "alpha = 0.05\n",
    "print(\"p value is \" + str(p))\n",
    "if p <= alpha:\n",
    "    \n",
    "    print('Dependent (reject H0)')\n",
    "    \n",
    "else:\n",
    "    print('Independent (H0 holds true)')"
   ]
  },
  {
   "cell_type": "code",
   "execution_count": 71,
   "id": "b3016381",
   "metadata": {},
   "outputs": [],
   "source": [
    "def chi_test(data,col1,col2):\n",
    "    ct = pd.crosstab(data[col1],data[col2])\n",
    "    stat, p, dof, expected = stats.chi2_contingency(ct)\n",
    "    #-----------interpret p-value\n",
    "    alpha = 0.05\n",
    "    print(\"p value is \" + str(p))\n",
    "    if p <= alpha:\n",
    "\n",
    "        print('{} and {} both are Dependent (reject H0)'.format(col1,col2))\n",
    "\n",
    "    else:\n",
    "        print('{} and {} both are Independent (H0 holds true)'.format(col1,col2))\n"
   ]
  },
  {
   "cell_type": "code",
   "execution_count": 75,
   "id": "85033006",
   "metadata": {},
   "outputs": [
    {
     "name": "stdout",
     "output_type": "stream",
     "text": [
      "p value is 0.44679150641050713\n",
      "sex and total_bill both are Independent (H0 holds true)\n",
      "None\n",
      "p value is 0.5825731193437198\n",
      "sex and tip both are Independent (H0 holds true)\n",
      "None\n",
      "p value is 4.6631801073580334e-54\n",
      "sex and sex both are Dependent (reject H0)\n",
      "None\n",
      "p value is 1.0\n",
      "sex and smoker both are Independent (H0 holds true)\n",
      "None\n",
      "p value is 0.004180302092822257\n",
      "sex and day both are Dependent (reject H0)\n",
      "None\n",
      "p value is 0.002237400118075248\n",
      "sex and time both are Dependent (reject H0)\n",
      "None\n",
      "p value is 0.3217222375571469\n",
      "sex and size both are Independent (H0 holds true)\n",
      "None\n"
     ]
    }
   ],
   "source": [
    "for i in tips.columns:\n",
    "    \n",
    "    print(chi_test(tips,'sex',i))"
   ]
  },
  {
   "cell_type": "markdown",
   "id": "cad8877b",
   "metadata": {},
   "source": [
    "## Confidence Interval\n",
    "statistics (z-score) is used when the data follows a normal distribution, population standard deviation is known and the sample size is above 30. Z\u0002Score tells you how many standard deviations from the mean the result is.\n",
    "\n",
    "t-statistics (t-score), also known as Student's T-Distribution, is used when the data follows a normal distribution, population standard deviation ( σ ) is\n",
    "NOT known, but the sample standard deviation ( s ) is known or can be calculated, and the sample size is below 30. T-Score tells you how many\n",
    "standard deviations from the mean the result is.\n",
    "\n",
    "z-critical = stats.norm.ppf(1 - alpha)\n",
    "\n",
    "t-critical = stats.t.ppf(alpha/numOfTails, ddof)\n",
    "\n",
    "**1) A sample of 20 items is selected randomly from a very large shipment. It is found to have a mean weight\n",
    "of 310 gm and standard deviation equal to 9 gm. Derive the 95% and 99% confidence intervals for\n",
    "population mean weight.**\n"
   ]
  },
  {
   "cell_type": "code",
   "execution_count": 1,
   "id": "dcfa86f9",
   "metadata": {},
   "outputs": [],
   "source": [
    "from scipy import stats"
   ]
  },
  {
   "cell_type": "code",
   "execution_count": 6,
   "id": "0ec31e69",
   "metadata": {},
   "outputs": [],
   "source": [
    "sample_mean = 310\n",
    "sample_std = 9\n",
    "n = 200\n",
    "alpha = 0.05"
   ]
  },
  {
   "cell_type": "code",
   "execution_count": 7,
   "id": "a561c2e5",
   "metadata": {},
   "outputs": [
    {
     "data": {
      "text/plain": [
       "(309.4349267624938, 310.5650732375062)"
      ]
     },
     "execution_count": 7,
     "metadata": {},
     "output_type": "execute_result"
    }
   ],
   "source": [
    "stats.t.interval(0.05,n-1,sample_mean,sample_std) # 95% confidence"
   ]
  },
  {
   "cell_type": "code",
   "execution_count": 5,
   "id": "4b13c3c4",
   "metadata": {},
   "outputs": [
    {
     "data": {
      "text/plain": [
       "(309.8857051906286, 310.1142948092659)"
      ]
     },
     "execution_count": 5,
     "metadata": {},
     "output_type": "execute_result"
    }
   ],
   "source": [
    "stats.t.interval(0.01,n-1,sample_mean,sample_std) # 99% confidence"
   ]
  },
  {
   "cell_type": "markdown",
   "id": "35bfb89e",
   "metadata": {},
   "source": [
    "**2) 10 bars of a certain quality are tested for their diameters. The results are given below. Construct a 95%\n",
    "confidence interval of the mean diameters of the bars produced by the process.**\n",
    "\n",
    "**diameter(in cm) : 1.02, 0.98, 0.97, 1.01, 0.94, 0.98, 1.00, 1.03, 0.92,1.02**"
   ]
  },
  {
   "cell_type": "code",
   "execution_count": 8,
   "id": "fe5fd903",
   "metadata": {},
   "outputs": [
    {
     "data": {
      "text/plain": [
       "array([1.02, 0.98, 0.97, 1.01, 0.94, 0.98, 1.  , 1.03, 0.92, 1.02])"
      ]
     },
     "execution_count": 8,
     "metadata": {},
     "output_type": "execute_result"
    }
   ],
   "source": [
    "import numpy as np\n",
    "diameter = np.array([1.02, 0.98, 0.97, 1.01, 0.94, 0.98, 1.00, 1.03, 0.92,1.02])\n",
    "diameter"
   ]
  },
  {
   "cell_type": "code",
   "execution_count": 9,
   "id": "ebb206fe",
   "metadata": {},
   "outputs": [],
   "source": [
    "sample_mean = diameter.mean()\n",
    "sample_std = diameter.std()\n",
    "n = len(diameter)\n",
    "alpha = 0.05"
   ]
  },
  {
   "cell_type": "code",
   "execution_count": 10,
   "id": "be4ac669",
   "metadata": {},
   "outputs": [
    {
     "data": {
      "text/plain": [
       "(0.9847842112281648, 0.9892157887718349)"
      ]
     },
     "execution_count": 10,
     "metadata": {},
     "output_type": "execute_result"
    }
   ],
   "source": [
    "stats.t.interval(alpha,n-1,sample_mean,sample_std) # 95% confidence"
   ]
  },
  {
   "cell_type": "code",
   "execution_count": 11,
   "id": "6da02ec7",
   "metadata": {},
   "outputs": [
    {
     "data": {
      "text/plain": [
       "(0.9865571695164822, 0.9874428304835176)"
      ]
     },
     "execution_count": 11,
     "metadata": {},
     "output_type": "execute_result"
    }
   ],
   "source": [
    "stats.t.interval(0.01,n-1,sample_mean,sample_std) # 95% confidence"
   ]
  },
  {
   "cell_type": "code",
   "execution_count": null,
   "id": "9e3b100d",
   "metadata": {},
   "outputs": [],
   "source": []
  },
  {
   "cell_type": "code",
   "execution_count": null,
   "id": "365d35aa",
   "metadata": {},
   "outputs": [],
   "source": []
  },
  {
   "cell_type": "code",
   "execution_count": 4,
   "id": "7e199901",
   "metadata": {},
   "outputs": [
    {
     "data": {
      "text/plain": [
       "2.0124611797498106"
      ]
     },
     "execution_count": 4,
     "metadata": {},
     "output_type": "execute_result"
    }
   ],
   "source": [
    "n=20\n",
    "std_dev = 9\n",
    "std_error = std_dev/np.sqrt(n)\n",
    "std_error\n"
   ]
  },
  {
   "cell_type": "code",
   "execution_count": 5,
   "id": "d700588f",
   "metadata": {},
   "outputs": [
    {
     "data": {
      "text/plain": [
       "(305.7878703422208, 314.2121296577792)"
      ]
     },
     "execution_count": 5,
     "metadata": {},
     "output_type": "execute_result"
    }
   ],
   "source": [
    "#scipy.stats.t.interval(confidence_level, degrees_freedom, sample_mean, sample_standard_error)\n",
    "\n",
    "stats.t.interval(.95, n-1, 310, std_error) #95% confidence interval\n"
   ]
  },
  {
   "cell_type": "code",
   "execution_count": 6,
   "id": "8bb79754",
   "metadata": {},
   "outputs": [
    {
     "data": {
      "text/plain": [
       "(304.24248016671675, 315.75751983328325)"
      ]
     },
     "execution_count": 6,
     "metadata": {},
     "output_type": "execute_result"
    }
   ],
   "source": [
    "stats.t.interval(.99,n-1,310,std_error) #99% Confidence interval"
   ]
  },
  {
   "cell_type": "markdown",
   "id": "89a0bd6c",
   "metadata": {},
   "source": [
    "**95% confidence interval : (305.7878703422208, 314.2121296577792)**\n",
    "\n",
    "**99% Confidence interval : (304.24248016671675, 315.75751983328325)**\n"
   ]
  },
  {
   "cell_type": "markdown",
   "id": "ba4e6a2a",
   "metadata": {},
   "source": [
    "**2) 10 bars of a certain quality are tested for their diameters. The results are given below. Construct a 95\n",
    "confidence interval of the mean diameters of the bars produced by the process.**\n",
    "\n",
    "**diameter(in cm) : 1.02, 0.98, 0.97, 1.01, 0.94, 0.98, 1.00, 1.03, 0.92,1.02**"
   ]
  },
  {
   "cell_type": "code",
   "execution_count": null,
   "id": "8064e8bf",
   "metadata": {},
   "outputs": [],
   "source": []
  }
 ],
 "metadata": {
  "kernelspec": {
   "display_name": "Python 3 (ipykernel)",
   "language": "python",
   "name": "python3"
  },
  "language_info": {
   "codemirror_mode": {
    "name": "ipython",
    "version": 3
   },
   "file_extension": ".py",
   "mimetype": "text/x-python",
   "name": "python",
   "nbconvert_exporter": "python",
   "pygments_lexer": "ipython3",
   "version": "3.9.12"
  }
 },
 "nbformat": 4,
 "nbformat_minor": 5
}

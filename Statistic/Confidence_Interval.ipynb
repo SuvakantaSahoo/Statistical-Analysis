{
 "cells": [
  {
   "cell_type": "markdown",
   "id": "156f7f8c",
   "metadata": {},
   "source": [
    "- z-statistics (z-score) is used when the data follows a normal distribution, population standard deviation is known and the  sample size is above 30. Z-Score tells you how many standard deviations from the mean the result is.\n",
    "\n",
    "- t-statistics (t-score), also known as Student's T-Distribution, is used when the data follows a normal distribution, population standard deviation ( σ ) is NOT known, but the sample standard deviation ( s ) is known or can be calculated, and the sample size is below 30. T-Score tells you how many standard deviations from the mean the result is.\n",
    "\n",
    "**z-critical = stats.norm.ppf(1 - alpha)**\n",
    "\n",
    "**t-critical = stats.t.ppf(alpha/numOfTails, ddof)**\n"
   ]
  },
  {
   "cell_type": "markdown",
   "id": "c4ba0374",
   "metadata": {},
   "source": [
    "### Example 1\n",
    "\n",
    "A sample of 20 items is selected randomly from a very large shipment. It is found to have a mean weight of 310 gm and standard deviation equal to 9 gm. Derive the 95% and 99% confidence intervals for population mean weight."
   ]
  },
  {
   "cell_type": "code",
   "execution_count": 1,
   "id": "bedc1550",
   "metadata": {},
   "outputs": [],
   "source": [
    "from scipy import stats"
   ]
  },
  {
   "cell_type": "code",
   "execution_count": 2,
   "id": "4ac87451",
   "metadata": {},
   "outputs": [],
   "source": [
    "n=20\n",
    "sample_mean=310\n",
    "sample_sd=9\n",
    "alpha=0.05"
   ]
  },
  {
   "cell_type": "code",
   "execution_count": 3,
   "id": "f0253e60",
   "metadata": {},
   "outputs": [
    {
     "data": {
      "text/plain": [
       "(309.42813734940745, 310.57186264991265)"
      ]
     },
     "execution_count": 3,
     "metadata": {},
     "output_type": "execute_result"
    }
   ],
   "source": [
    "stats.t.interval(0.05,n-1,sample_mean,sample_sd)  # 95% confidence"
   ]
  },
  {
   "cell_type": "code",
   "execution_count": 5,
   "id": "1bf67fbd",
   "metadata": {},
   "outputs": [
    {
     "data": {
      "text/plain": [
       "(309.8857051906286, 310.1142948092659)"
      ]
     },
     "execution_count": 5,
     "metadata": {},
     "output_type": "execute_result"
    }
   ],
   "source": [
    "alpha=0.01 \n",
    "\n",
    "stats.t.interval(0.01,n-1,sample_mean,sample_sd)   # 99% confidence"
   ]
  },
  {
   "cell_type": "code",
   "execution_count": null,
   "id": "f885aa5e",
   "metadata": {},
   "outputs": [],
   "source": []
  },
  {
   "cell_type": "markdown",
   "id": "f31758c2",
   "metadata": {},
   "source": [
    "### Example 2\n",
    "\n",
    "10 bars of a certain quality are tested for their diameters. The results are given below. Construct a 95\n",
    "confidence interval of the mean diameters of the bars produced by the process.\n",
    "\n",
    "diameter(in cm) : 1.02, 0.98, 0.97, 1.01, 0.94, 0.98, 1.00, 1.03, 0.92,1.02"
   ]
  },
  {
   "cell_type": "code",
   "execution_count": 8,
   "id": "a457c309",
   "metadata": {},
   "outputs": [],
   "source": [
    "import numpy as np"
   ]
  },
  {
   "cell_type": "code",
   "execution_count": 15,
   "id": "cf2813e7",
   "metadata": {},
   "outputs": [],
   "source": [
    "n=10\n",
    "dia=[1.02, 0.98, 0.97, 1.01, 0.94, 0.98, 1.00, 1.03, 0.92,1.02]\n",
    "alpha=0.05"
   ]
  },
  {
   "cell_type": "code",
   "execution_count": 16,
   "id": "c3c31d9f",
   "metadata": {},
   "outputs": [
    {
     "data": {
      "text/plain": [
       "0.9869999999999999"
      ]
     },
     "execution_count": 16,
     "metadata": {},
     "output_type": "execute_result"
    }
   ],
   "source": [
    "sample_mean=np.mean(dia)\n",
    "sample_mean"
   ]
  },
  {
   "cell_type": "code",
   "execution_count": 17,
   "id": "2e70a450",
   "metadata": {},
   "outputs": [
    {
     "data": {
      "text/plain": [
       "0.03436568055487918"
      ]
     },
     "execution_count": 17,
     "metadata": {},
     "output_type": "execute_result"
    }
   ],
   "source": [
    "sample_sd=np.std(dia)\n",
    "sample_sd"
   ]
  },
  {
   "cell_type": "code",
   "execution_count": 18,
   "id": "f5ac1cfb",
   "metadata": {},
   "outputs": [
    {
     "data": {
      "text/plain": [
       "(0.9847842112281648, 0.9892157887718349)"
      ]
     },
     "execution_count": 18,
     "metadata": {},
     "output_type": "execute_result"
    }
   ],
   "source": [
    "stats.t.interval(0.05,n-1,sample_mean,sample_sd)  # 95% confidence"
   ]
  },
  {
   "cell_type": "code",
   "execution_count": 19,
   "id": "de2297c4",
   "metadata": {},
   "outputs": [
    {
     "data": {
      "text/plain": [
       "(0.9865571695164822, 0.9874428304835176)"
      ]
     },
     "execution_count": 19,
     "metadata": {},
     "output_type": "execute_result"
    }
   ],
   "source": [
    "alpha=0.01 \n",
    "\n",
    "stats.t.interval(0.01,n-1,sample_mean,sample_sd)   # 99% confidence"
   ]
  },
  {
   "cell_type": "code",
   "execution_count": null,
   "id": "6a5a0298",
   "metadata": {},
   "outputs": [],
   "source": []
  },
  {
   "cell_type": "code",
   "execution_count": null,
   "id": "8bfacce1",
   "metadata": {},
   "outputs": [],
   "source": []
  },
  {
   "cell_type": "code",
   "execution_count": null,
   "id": "1102c86c",
   "metadata": {},
   "outputs": [],
   "source": []
  },
  {
   "cell_type": "code",
   "execution_count": null,
   "id": "171e4e15",
   "metadata": {},
   "outputs": [],
   "source": []
  },
  {
   "cell_type": "code",
   "execution_count": null,
   "id": "0726a464",
   "metadata": {},
   "outputs": [],
   "source": []
  }
 ],
 "metadata": {
  "kernelspec": {
   "display_name": "Python 3 (ipykernel)",
   "language": "python",
   "name": "python3"
  },
  "language_info": {
   "codemirror_mode": {
    "name": "ipython",
    "version": 3
   },
   "file_extension": ".py",
   "mimetype": "text/x-python",
   "name": "python",
   "nbconvert_exporter": "python",
   "pygments_lexer": "ipython3",
   "version": "3.9.12"
  }
 },
 "nbformat": 4,
 "nbformat_minor": 5
}

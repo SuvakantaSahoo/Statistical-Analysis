{
 "cells": [
  {
   "cell_type": "code",
   "execution_count": 21,
   "id": "40c6cf9e",
   "metadata": {},
   "outputs": [],
   "source": [
    "import pandas as pd\n",
    "import numpy as np\n",
    "from scipy import stats\n",
    "\n",
    "import matplotlib.pyplot as plt\n",
    "import seaborn as sns"
   ]
  },
  {
   "cell_type": "markdown",
   "id": "e78351ff",
   "metadata": {},
   "source": [
    "## Binomial Distribution"
   ]
  },
  {
   "cell_type": "markdown",
   "id": "5cc2ec23",
   "metadata": {},
   "source": [
    "### Example 1 : Number of fraudulent Transactions\n",
    "\n",
    "Banks use binomial distribution to model the probabilty that a certain number of credit card transactions are fraudulent.\n",
    "\n",
    "For example, suppose it is known that 2% of all credit card transactions in a certain region are fraudulent. If there are 50 transactions per day in a certain region, we can use binomial distribution calculator to find the probabilty that more than a certain number of fraudulent transactions occur in a given day."
   ]
  },
  {
   "cell_type": "code",
   "execution_count": 4,
   "id": "ff5bdca9",
   "metadata": {},
   "outputs": [
    {
     "data": {
      "text/plain": [
       "(0.02, 0.98)"
      ]
     },
     "execution_count": 4,
     "metadata": {},
     "output_type": "execute_result"
    }
   ],
   "source": [
    "n=50\n",
    "x=0\n",
    "p=0.02   # probability of success\n",
    "q=1-p    # probability of failure\n",
    "\n",
    "p, q"
   ]
  },
  {
   "cell_type": "code",
   "execution_count": 5,
   "id": "3b840bd8",
   "metadata": {},
   "outputs": [],
   "source": [
    "from math import comb"
   ]
  },
  {
   "cell_type": "code",
   "execution_count": 7,
   "id": "ffd013dd",
   "metadata": {},
   "outputs": [],
   "source": [
    "def binomial_dist(n,p,x):\n",
    "    return comb(n,x) * (p**x) * ((1-p)**(n-x))"
   ]
  },
  {
   "cell_type": "code",
   "execution_count": 13,
   "id": "fa22551a",
   "metadata": {},
   "outputs": [
    {
     "data": {
      "text/plain": [
       "[0.36416968008711675,\n",
       " 0.3716017143746089,\n",
       " 0.18580085718730446,\n",
       " 0.06066966765299739,\n",
       " 0.014548338671892227,\n",
       " 0.00273152481186548,\n",
       " 0.0004180905324283899,\n",
       " 5.363260474300045e-05,\n",
       " 5.883168377420967e-06,\n",
       " 5.603017502305684e-07,\n",
       " 4.688239134582307e-08,\n",
       " 3.479212715831026e-09,\n",
       " 2.3076410870307822e-10,\n",
       " 1.3766147771926176e-11,\n",
       " 7.42489019768613e-13,\n",
       " 3.63668091315239e-14,\n",
       " 1.6235182648001742e-15,\n",
       " 6.626605162449691e-17,\n",
       " 2.4793420675832178e-18,\n",
       " 8.521906139920834e-20,\n",
       " 2.6957050034443454e-21,\n",
       " 7.85919826077069e-23,\n",
       " 2.114255561802875e-24,\n",
       " 5.25280884919969e-26,\n",
       " 1.2060020317040105e-27,\n",
       " 2.5596777815758593e-29,\n",
       " 5.02291558394007e-31,\n",
       " 9.111865004879945e-33,\n",
       " 1.527499235511944e-34,\n",
       " 2.3648827010037133e-36,\n",
       " 3.378403858576734e-38,\n",
       " 4.4481946788370435e-40,\n",
       " 5.390031817468355e-42,\n",
       " 6.000035418332121e-44,\n",
       " 6.122485120747063e-46,\n",
       " 5.711939471250906e-48,\n",
       " 4.857091387118117e-50,\n",
       " 3.750649719782329e-52,\n",
       " 2.6186061416310574e-54,\n",
       " 1.6443366666443063e-56,\n",
       " 9.228420067901717e-59,\n",
       " 4.5935391079650166e-61,\n",
       " 2.008836344591115e-63,\n",
       " 7.627285598827207e-66,\n",
       " 2.476391428190651e-68,\n",
       " 6.738480076709254e-71,\n",
       " 1.4947826257119023e-73,\n",
       " 2.596235563546509e-76,\n",
       " 3.3115249535032e-79,\n",
       " 2.758454771764432e-82]"
      ]
     },
     "execution_count": 13,
     "metadata": {},
     "output_type": "execute_result"
    }
   ],
   "source": [
    "fraud=[]\n",
    "for i in range(50):\n",
    "    fraud.append((binomial_dist(50,0.02,i)))\n",
    "    \n",
    "fraud"
   ]
  },
  {
   "cell_type": "code",
   "execution_count": 56,
   "id": "da7f6499",
   "metadata": {},
   "outputs": [
    {
     "data": {
      "text/plain": [
       "<AxesSubplot:>"
      ]
     },
     "execution_count": 56,
     "metadata": {},
     "output_type": "execute_result"
    },
    {
     "data": {
      "image/png": "[encoded data removed]",
      "text/plain": [
       "<Figure size 432x288 with 1 Axes>"
      ]
     },
     "metadata": {
      "needs_background": "light"
     },
     "output_type": "display_data"
    }
   ],
   "source": [
    "sns.barplot(x=list(range(50)),y=fraud)"
   ]
  },
  {
   "cell_type": "code",
   "execution_count": 21,
   "id": "93098273",
   "metadata": {},
   "outputs": [
    {
     "name": "stdout",
     "output_type": "stream",
     "text": [
      "P(0) = 0.8170728068875467\n",
      "P(1) = 0.16674955242602996\n",
      "P(2) = 0.015313734406472141\n",
      "P(3) = 0.0008334005119168512\n",
      "P(4) = 2.97643039970304e-05\n",
      "P(5) = 7.2892173053952e-07\n",
      "P(6) = 1.2396628070400001e-08\n",
      "P(7) = 1.445670912e-10\n",
      "P(8) = 1.1063808000000002e-12\n",
      "P(9) = 5.017600000000001e-15\n"
     ]
    }
   ],
   "source": [
    "for i in range(10):\n",
    "    print('P({}) = {}'.format(i,binomial_dist(10,0.02,i)))"
   ]
  },
  {
   "cell_type": "markdown",
   "id": "b70580fe",
   "metadata": {},
   "source": [
    "### Probability Mass Function (PMF)\n",
    " PMF is a function over the sample space of a discrete random variable X which gives the probability that X is equal to certain value."
   ]
  },
  {
   "cell_type": "code",
   "execution_count": 29,
   "id": "02810e7d",
   "metadata": {},
   "outputs": [
    {
     "data": {
      "text/plain": [
       "0.36416968008711675"
      ]
     },
     "execution_count": 29,
     "metadata": {},
     "output_type": "execute_result"
    }
   ],
   "source": [
    "stats.binom.pmf(0,50,0.02)   ## binom.pmf(x,n,p)"
   ]
  },
  {
   "cell_type": "markdown",
   "id": "b72efb93",
   "metadata": {},
   "source": [
    "### Cumulative Distribution Function (CDF) - Discrete Random Variable\n",
    "\n",
    "CDF of a random variable X is define as : F(x) = P(X <= x)"
   ]
  },
  {
   "cell_type": "code",
   "execution_count": 57,
   "id": "d6220db7",
   "metadata": {},
   "outputs": [
    {
     "data": {
      "text/plain": [
       "array([0.36416968, 0.73577139, 0.92157225, 0.98224192, 0.99679026,\n",
       "       0.99952178, 0.99993987, 0.99999351, 0.99999939, 0.99999995,\n",
       "       1.        , 1.        , 1.        , 1.        , 1.        ,\n",
       "       1.        , 1.        , 1.        , 1.        , 1.        ,\n",
       "       1.        , 1.        , 1.        , 1.        , 1.        ,\n",
       "       1.        , 1.        , 1.        , 1.        , 1.        ,\n",
       "       1.        , 1.        , 1.        , 1.        , 1.        ,\n",
       "       1.        , 1.        , 1.        , 1.        , 1.        ,\n",
       "       1.        , 1.        , 1.        , 1.        , 1.        ,\n",
       "       1.        , 1.        , 1.        , 1.        , 1.        ])"
      ]
     },
     "execution_count": 57,
     "metadata": {},
     "output_type": "execute_result"
    }
   ],
   "source": [
    "np.cumsum(fraud)"
   ]
  },
  {
   "cell_type": "code",
   "execution_count": 39,
   "id": "d8a31bc9",
   "metadata": {},
   "outputs": [
    {
     "data": {
      "text/plain": [
       "1.0"
      ]
     },
     "execution_count": 39,
     "metadata": {},
     "output_type": "execute_result"
    }
   ],
   "source": [
    "stats.binom.cdf(49,50,0.02)   # binom.cdf(x,n,p)"
   ]
  },
  {
   "cell_type": "code",
   "execution_count": null,
   "id": "e034b5d6",
   "metadata": {},
   "outputs": [],
   "source": []
  },
  {
   "cell_type": "markdown",
   "id": "460341ab",
   "metadata": {},
   "source": [
    "- Mean of BD = n * p\n",
    "- Variance of BD = n * p * q\n",
    "- Standard Deviation of Bd = sqrt(n*p*q)"
   ]
  },
  {
   "cell_type": "code",
   "execution_count": 8,
   "id": "ad0425fb",
   "metadata": {},
   "outputs": [
    {
     "data": {
      "text/plain": [
       "0.368335361566173"
      ]
     },
     "execution_count": 8,
     "metadata": {},
     "output_type": "execute_result"
    }
   ],
   "source": [
    "stats.binom.pmf(1,20,0.04)   "
   ]
  },
  {
   "cell_type": "code",
   "execution_count": 49,
   "id": "977b56a4",
   "metadata": {},
   "outputs": [
    {
     "data": {
      "text/plain": [
       "0.8103377954455809"
      ]
     },
     "execution_count": 49,
     "metadata": {},
     "output_type": "execute_result"
    }
   ],
   "source": [
    "stats.binom.cdf(1,20,0.04)"
   ]
  },
  {
   "cell_type": "code",
   "execution_count": 46,
   "id": "0d47cbb8",
   "metadata": {},
   "outputs": [
    {
     "name": "stdout",
     "output_type": "stream",
     "text": [
      "p(x<=0) = 0.4420024338794077\n",
      "p(x<=1) = 0.8103377954455809\n",
      "p(x<=2) = 0.9561372093988577\n",
      "p(x<=3) = 0.9925870628871769\n",
      "p(x<=4) = 0.9990417244424001\n",
      "p(x<=5) = 0.9999023459830966\n",
      "p(x<=6) = 0.9999919940602524\n",
      "p(x<=7) = 0.9999994647333488\n",
      "p(x<=8) = 0.999999970560173\n",
      "p(x<=9) = 0.9999999986616632\n",
      "p(x<=10) = 0.9999999999496482\n",
      "p(x<=11) = 0.9999999999984355\n",
      "p(x<=12) = 0.99999999999996\n",
      "p(x<=13) = 0.9999999999999992\n",
      "p(x<=14) = 1.0\n",
      "p(x<=15) = 1.0\n",
      "p(x<=16) = 1.0\n",
      "p(x<=17) = 1.0\n",
      "p(x<=18) = 1.0\n",
      "p(x<=19) = 1.0\n"
     ]
    }
   ],
   "source": [
    "for i in range(20):\n",
    "    print('p(x<={}) = {}'.format(i,stats.binom.cdf(i,20,0.04)))"
   ]
  },
  {
   "cell_type": "code",
   "execution_count": 54,
   "id": "bdba9948",
   "metadata": {},
   "outputs": [
    {
     "name": "stdout",
     "output_type": "stream",
     "text": [
      "p(x>0) = 0.5579975661205923\n",
      "p(x>1) = 0.18966220455441907\n",
      "p(x>2) = 0.04386279060114229\n",
      "p(x>3) = 0.0074129371128230925\n",
      "p(x>4) = 0.0009582755575998636\n",
      "p(x>5) = 9.765401690342568e-05\n",
      "p(x>6) = 8.005939747590674e-06\n",
      "p(x>7) = 5.352666512248305e-07\n",
      "p(x>8) = 2.943982702063863e-08\n",
      "p(x>9) = 1.3383367747366037e-09\n",
      "p(x>10) = 5.035183381352226e-11\n",
      "p(x>11) = 1.5645262863017706e-12\n",
      "p(x>12) = 3.9968028886505635e-14\n",
      "p(x>13) = 7.771561172376096e-16\n",
      "p(x>14) = 0.0\n",
      "p(x>15) = 0.0\n",
      "p(x>16) = 0.0\n",
      "p(x>17) = 0.0\n",
      "p(x>18) = 0.0\n",
      "p(x>19) = 0.0\n"
     ]
    }
   ],
   "source": [
    "for i in range(20):\n",
    "    print('p(x>{}) = {}'.format(i,1-stats.binom.cdf(i,20,0.04)))"
   ]
  },
  {
   "cell_type": "code",
   "execution_count": null,
   "id": "499f0a9d",
   "metadata": {},
   "outputs": [],
   "source": []
  },
  {
   "cell_type": "markdown",
   "id": "39a6c707",
   "metadata": {},
   "source": [
    "## Poisson Distribution\n",
    "\n",
    "Average value (lambda) for certain time period"
   ]
  },
  {
   "cell_type": "markdown",
   "id": "7fbb1a57",
   "metadata": {},
   "source": [
    "A poission experiment is an experiment that has the following properties.\n",
    "    \n",
    "- The number of successes in the experiment can be counted.\n",
    "- The mean number of successes that occurs during a specific interval of time(or space) is known.\n",
    "- Each outcome is independent.\n",
    "- The probability that a success will occur is proportional to the size of the interval."
   ]
  },
  {
   "cell_type": "markdown",
   "id": "2250cd3d",
   "metadata": {},
   "source": [
    "- Mean of PD = lambda\n",
    "- Variance of PD = lambda"
   ]
  },
  {
   "cell_type": "markdown",
   "id": "f75b4d23",
   "metadata": {},
   "source": [
    "#### Examples of Poisson Distribution\n",
    "\n",
    "1. Number of network failures per week\n",
    "2. Number of bankruptcies filed per month\n",
    "3. Number of website visitors per hour\n",
    "4. Number of arrivals at a restaurant\n",
    "5. Number of calls per hour at a call center\n",
    "6. Number of books sold per week\n",
    "7. Average number of storms in a city\n",
    "8. Number of emergency calls received by a hospital in every minute"
   ]
  },
  {
   "cell_type": "markdown",
   "id": "cf6d8e8d",
   "metadata": {},
   "source": [
    "### Example 1\n",
    "\n",
    "The average birth in a hospital per day is 5. What is the probability that exactly 2 births ?"
   ]
  },
  {
   "cell_type": "code",
   "execution_count": 22,
   "id": "69b4fc5b",
   "metadata": {},
   "outputs": [],
   "source": [
    "from math import factorial"
   ]
  },
  {
   "cell_type": "code",
   "execution_count": 24,
   "id": "598a69d1",
   "metadata": {},
   "outputs": [
    {
     "data": {
      "text/plain": [
       "0.08422433748856833"
      ]
     },
     "execution_count": 24,
     "metadata": {},
     "output_type": "execute_result"
    }
   ],
   "source": [
    "avg=5\n",
    "x=2\n",
    "\n",
    "np.exp(-avg) * (avg**x) / (factorial(x))   # formula"
   ]
  },
  {
   "cell_type": "code",
   "execution_count": 25,
   "id": "12b871c5",
   "metadata": {},
   "outputs": [
    {
     "data": {
      "text/plain": [
       "0.08422433748856833"
      ]
     },
     "execution_count": 25,
     "metadata": {},
     "output_type": "execute_result"
    }
   ],
   "source": [
    "def poisson(avg,x):\n",
    "    return np.exp(-avg) * (avg**x) / (factorial(x))\n",
    "\n",
    "poisson(5,2)"
   ]
  },
  {
   "cell_type": "code",
   "execution_count": 28,
   "id": "4fd87b79",
   "metadata": {},
   "outputs": [
    {
     "data": {
      "text/plain": [
       "0.08422433748856832"
      ]
     },
     "execution_count": 28,
     "metadata": {},
     "output_type": "execute_result"
    }
   ],
   "source": [
    "stats.poisson.pmf(2,5)   # in built formula (x,mean)"
   ]
  },
  {
   "cell_type": "code",
   "execution_count": null,
   "id": "8e4dd082",
   "metadata": {},
   "outputs": [],
   "source": []
  },
  {
   "cell_type": "markdown",
   "id": "7e4da3b3",
   "metadata": {},
   "source": [
    "## Normal Distribution"
   ]
  },
  {
   "cell_type": "markdown",
   "id": "bed4cb87",
   "metadata": {},
   "source": [
    "1. The mean & median are approximately equal.\n",
    "2. It is having bell shape/symmetric curve.\n",
    "3. It is following the Empherical/Thumb rule.\n",
    "      - 68.45% data lies in between $  \\mu \\pm \\sigma$\n",
    "      - 95% data lies in between $  \\mu \\pm 2\\sigma $\n",
    "      - 99.73% data lies in between $  \\mu \\pm 3\\sigma  $"
   ]
  },
  {
   "cell_type": "code",
   "execution_count": 61,
   "id": "7d62c6d8",
   "metadata": {},
   "outputs": [
    {
     "data": {
      "text/html": [
       "<div>\n",
       "<style scoped>\n",
       "    .dataframe tbody tr th:only-of-type {\n",
       "        vertical-align: middle;\n",
       "    }\n",
       "\n",
       "    .dataframe tbody tr th {\n",
       "        vertical-align: top;\n",
       "    }\n",
       "\n",
       "    .dataframe thead th {\n",
       "        text-align: right;\n",
       "    }\n",
       "</style>\n",
       "<table border=\"1\" class=\"dataframe\">\n",
       "  <thead>\n",
       "    <tr style=\"text-align: right;\">\n",
       "      <th></th>\n",
       "      <th>carat</th>\n",
       "      <th>cut</th>\n",
       "      <th>color</th>\n",
       "      <th>clarity</th>\n",
       "      <th>depth</th>\n",
       "      <th>table</th>\n",
       "      <th>price</th>\n",
       "      <th>x</th>\n",
       "      <th>y</th>\n",
       "      <th>z</th>\n",
       "    </tr>\n",
       "  </thead>\n",
       "  <tbody>\n",
       "    <tr>\n",
       "      <th>0</th>\n",
       "      <td>0.23</td>\n",
       "      <td>Ideal</td>\n",
       "      <td>E</td>\n",
       "      <td>SI2</td>\n",
       "      <td>61.5</td>\n",
       "      <td>55.0</td>\n",
       "      <td>326</td>\n",
       "      <td>3.95</td>\n",
       "      <td>3.98</td>\n",
       "      <td>2.43</td>\n",
       "    </tr>\n",
       "    <tr>\n",
       "      <th>1</th>\n",
       "      <td>0.21</td>\n",
       "      <td>Premium</td>\n",
       "      <td>E</td>\n",
       "      <td>SI1</td>\n",
       "      <td>59.8</td>\n",
       "      <td>61.0</td>\n",
       "      <td>326</td>\n",
       "      <td>3.89</td>\n",
       "      <td>3.84</td>\n",
       "      <td>2.31</td>\n",
       "    </tr>\n",
       "    <tr>\n",
       "      <th>2</th>\n",
       "      <td>0.23</td>\n",
       "      <td>Good</td>\n",
       "      <td>E</td>\n",
       "      <td>VS1</td>\n",
       "      <td>56.9</td>\n",
       "      <td>65.0</td>\n",
       "      <td>327</td>\n",
       "      <td>4.05</td>\n",
       "      <td>4.07</td>\n",
       "      <td>2.31</td>\n",
       "    </tr>\n",
       "    <tr>\n",
       "      <th>3</th>\n",
       "      <td>0.29</td>\n",
       "      <td>Premium</td>\n",
       "      <td>I</td>\n",
       "      <td>VS2</td>\n",
       "      <td>62.4</td>\n",
       "      <td>58.0</td>\n",
       "      <td>334</td>\n",
       "      <td>4.20</td>\n",
       "      <td>4.23</td>\n",
       "      <td>2.63</td>\n",
       "    </tr>\n",
       "    <tr>\n",
       "      <th>4</th>\n",
       "      <td>0.31</td>\n",
       "      <td>Good</td>\n",
       "      <td>J</td>\n",
       "      <td>SI2</td>\n",
       "      <td>63.3</td>\n",
       "      <td>58.0</td>\n",
       "      <td>335</td>\n",
       "      <td>4.34</td>\n",
       "      <td>4.35</td>\n",
       "      <td>2.75</td>\n",
       "    </tr>\n",
       "  </tbody>\n",
       "</table>\n",
       "</div>"
      ],
      "text/plain": [
       "   carat      cut color clarity  depth  table  price     x     y     z\n",
       "0   0.23    Ideal     E     SI2   61.5   55.0    326  3.95  3.98  2.43\n",
       "1   0.21  Premium     E     SI1   59.8   61.0    326  3.89  3.84  2.31\n",
       "2   0.23     Good     E     VS1   56.9   65.0    327  4.05  4.07  2.31\n",
       "3   0.29  Premium     I     VS2   62.4   58.0    334  4.20  4.23  2.63\n",
       "4   0.31     Good     J     SI2   63.3   58.0    335  4.34  4.35  2.75"
      ]
     },
     "execution_count": 61,
     "metadata": {},
     "output_type": "execute_result"
    }
   ],
   "source": [
    "df=sns.load_dataset('diamonds')\n",
    "df.head()"
   ]
  },
  {
   "cell_type": "code",
   "execution_count": 63,
   "id": "86d9a141",
   "metadata": {},
   "outputs": [
    {
     "data": {
      "text/plain": [
       "(3932.799721913237, 3989.4397381463023)"
      ]
     },
     "execution_count": 63,
     "metadata": {},
     "output_type": "execute_result"
    }
   ],
   "source": [
    "mu=df.price.mean()\n",
    "sigma=df.price.std()\n",
    "\n",
    "mu, sigma"
   ]
  },
  {
   "cell_type": "code",
   "execution_count": 65,
   "id": "0679ac28",
   "metadata": {},
   "outputs": [
    {
     "data": {
      "text/plain": [
       "(7922.23946005954, -56.640016233065126)"
      ]
     },
     "execution_count": 65,
     "metadata": {},
     "output_type": "execute_result"
    }
   ],
   "source": [
    "mu + sigma , mu - sigma"
   ]
  },
  {
   "cell_type": "code",
   "execution_count": 67,
   "id": "086a70c8",
   "metadata": {},
   "outputs": [
    {
     "data": {
      "text/html": [
       "<div>\n",
       "<style scoped>\n",
       "    .dataframe tbody tr th:only-of-type {\n",
       "        vertical-align: middle;\n",
       "    }\n",
       "\n",
       "    .dataframe tbody tr th {\n",
       "        vertical-align: top;\n",
       "    }\n",
       "\n",
       "    .dataframe thead th {\n",
       "        text-align: right;\n",
       "    }\n",
       "</style>\n",
       "<table border=\"1\" class=\"dataframe\">\n",
       "  <thead>\n",
       "    <tr style=\"text-align: right;\">\n",
       "      <th></th>\n",
       "      <th>carat</th>\n",
       "      <th>cut</th>\n",
       "      <th>color</th>\n",
       "      <th>clarity</th>\n",
       "      <th>depth</th>\n",
       "      <th>table</th>\n",
       "      <th>price</th>\n",
       "      <th>x</th>\n",
       "      <th>y</th>\n",
       "      <th>z</th>\n",
       "    </tr>\n",
       "  </thead>\n",
       "  <tbody>\n",
       "    <tr>\n",
       "      <th>0</th>\n",
       "      <td>0.23</td>\n",
       "      <td>Ideal</td>\n",
       "      <td>E</td>\n",
       "      <td>SI2</td>\n",
       "      <td>61.5</td>\n",
       "      <td>55.0</td>\n",
       "      <td>326</td>\n",
       "      <td>3.95</td>\n",
       "      <td>3.98</td>\n",
       "      <td>2.43</td>\n",
       "    </tr>\n",
       "    <tr>\n",
       "      <th>1</th>\n",
       "      <td>0.21</td>\n",
       "      <td>Premium</td>\n",
       "      <td>E</td>\n",
       "      <td>SI1</td>\n",
       "      <td>59.8</td>\n",
       "      <td>61.0</td>\n",
       "      <td>326</td>\n",
       "      <td>3.89</td>\n",
       "      <td>3.84</td>\n",
       "      <td>2.31</td>\n",
       "    </tr>\n",
       "    <tr>\n",
       "      <th>2</th>\n",
       "      <td>0.23</td>\n",
       "      <td>Good</td>\n",
       "      <td>E</td>\n",
       "      <td>VS1</td>\n",
       "      <td>56.9</td>\n",
       "      <td>65.0</td>\n",
       "      <td>327</td>\n",
       "      <td>4.05</td>\n",
       "      <td>4.07</td>\n",
       "      <td>2.31</td>\n",
       "    </tr>\n",
       "    <tr>\n",
       "      <th>3</th>\n",
       "      <td>0.29</td>\n",
       "      <td>Premium</td>\n",
       "      <td>I</td>\n",
       "      <td>VS2</td>\n",
       "      <td>62.4</td>\n",
       "      <td>58.0</td>\n",
       "      <td>334</td>\n",
       "      <td>4.20</td>\n",
       "      <td>4.23</td>\n",
       "      <td>2.63</td>\n",
       "    </tr>\n",
       "    <tr>\n",
       "      <th>4</th>\n",
       "      <td>0.31</td>\n",
       "      <td>Good</td>\n",
       "      <td>J</td>\n",
       "      <td>SI2</td>\n",
       "      <td>63.3</td>\n",
       "      <td>58.0</td>\n",
       "      <td>335</td>\n",
       "      <td>4.34</td>\n",
       "      <td>4.35</td>\n",
       "      <td>2.75</td>\n",
       "    </tr>\n",
       "    <tr>\n",
       "      <th>...</th>\n",
       "      <td>...</td>\n",
       "      <td>...</td>\n",
       "      <td>...</td>\n",
       "      <td>...</td>\n",
       "      <td>...</td>\n",
       "      <td>...</td>\n",
       "      <td>...</td>\n",
       "      <td>...</td>\n",
       "      <td>...</td>\n",
       "      <td>...</td>\n",
       "    </tr>\n",
       "    <tr>\n",
       "      <th>53935</th>\n",
       "      <td>0.72</td>\n",
       "      <td>Ideal</td>\n",
       "      <td>D</td>\n",
       "      <td>SI1</td>\n",
       "      <td>60.8</td>\n",
       "      <td>57.0</td>\n",
       "      <td>2757</td>\n",
       "      <td>5.75</td>\n",
       "      <td>5.76</td>\n",
       "      <td>3.50</td>\n",
       "    </tr>\n",
       "    <tr>\n",
       "      <th>53936</th>\n",
       "      <td>0.72</td>\n",
       "      <td>Good</td>\n",
       "      <td>D</td>\n",
       "      <td>SI1</td>\n",
       "      <td>63.1</td>\n",
       "      <td>55.0</td>\n",
       "      <td>2757</td>\n",
       "      <td>5.69</td>\n",
       "      <td>5.75</td>\n",
       "      <td>3.61</td>\n",
       "    </tr>\n",
       "    <tr>\n",
       "      <th>53937</th>\n",
       "      <td>0.70</td>\n",
       "      <td>Very Good</td>\n",
       "      <td>D</td>\n",
       "      <td>SI1</td>\n",
       "      <td>62.8</td>\n",
       "      <td>60.0</td>\n",
       "      <td>2757</td>\n",
       "      <td>5.66</td>\n",
       "      <td>5.68</td>\n",
       "      <td>3.56</td>\n",
       "    </tr>\n",
       "    <tr>\n",
       "      <th>53938</th>\n",
       "      <td>0.86</td>\n",
       "      <td>Premium</td>\n",
       "      <td>H</td>\n",
       "      <td>SI2</td>\n",
       "      <td>61.0</td>\n",
       "      <td>58.0</td>\n",
       "      <td>2757</td>\n",
       "      <td>6.15</td>\n",
       "      <td>6.12</td>\n",
       "      <td>3.74</td>\n",
       "    </tr>\n",
       "    <tr>\n",
       "      <th>53939</th>\n",
       "      <td>0.75</td>\n",
       "      <td>Ideal</td>\n",
       "      <td>D</td>\n",
       "      <td>SI2</td>\n",
       "      <td>62.2</td>\n",
       "      <td>55.0</td>\n",
       "      <td>2757</td>\n",
       "      <td>5.83</td>\n",
       "      <td>5.87</td>\n",
       "      <td>3.64</td>\n",
       "    </tr>\n",
       "  </tbody>\n",
       "</table>\n",
       "<p>46225 rows × 10 columns</p>\n",
       "</div>"
      ],
      "text/plain": [
       "       carat        cut color clarity  depth  table  price     x     y     z\n",
       "0       0.23      Ideal     E     SI2   61.5   55.0    326  3.95  3.98  2.43\n",
       "1       0.21    Premium     E     SI1   59.8   61.0    326  3.89  3.84  2.31\n",
       "2       0.23       Good     E     VS1   56.9   65.0    327  4.05  4.07  2.31\n",
       "3       0.29    Premium     I     VS2   62.4   58.0    334  4.20  4.23  2.63\n",
       "4       0.31       Good     J     SI2   63.3   58.0    335  4.34  4.35  2.75\n",
       "...      ...        ...   ...     ...    ...    ...    ...   ...   ...   ...\n",
       "53935   0.72      Ideal     D     SI1   60.8   57.0   2757  5.75  5.76  3.50\n",
       "53936   0.72       Good     D     SI1   63.1   55.0   2757  5.69  5.75  3.61\n",
       "53937   0.70  Very Good     D     SI1   62.8   60.0   2757  5.66  5.68  3.56\n",
       "53938   0.86    Premium     H     SI2   61.0   58.0   2757  6.15  6.12  3.74\n",
       "53939   0.75      Ideal     D     SI2   62.2   55.0   2757  5.83  5.87  3.64\n",
       "\n",
       "[46225 rows x 10 columns]"
      ]
     },
     "execution_count": 67,
     "metadata": {},
     "output_type": "execute_result"
    }
   ],
   "source": [
    "df[(df['price'] >  mu - sigma) & (df['price'] <  mu + sigma)]"
   ]
  },
  {
   "cell_type": "code",
   "execution_count": 68,
   "id": "0c29327e",
   "metadata": {},
   "outputs": [
    {
     "data": {
      "text/plain": [
       "(46225, 10)"
      ]
     },
     "execution_count": 68,
     "metadata": {},
     "output_type": "execute_result"
    }
   ],
   "source": [
    "df[(df['price'] >  mu - sigma) & (df['price'] <  mu + sigma)].shape"
   ]
  },
  {
   "cell_type": "code",
   "execution_count": 69,
   "id": "8b6cc95f",
   "metadata": {},
   "outputs": [
    {
     "data": {
      "text/plain": [
       "(53940, 10)"
      ]
     },
     "execution_count": 69,
     "metadata": {},
     "output_type": "execute_result"
    }
   ],
   "source": [
    "df.shape"
   ]
  },
  {
   "cell_type": "code",
   "execution_count": 70,
   "id": "f8379bb5",
   "metadata": {},
   "outputs": [
    {
     "data": {
      "text/plain": [
       "53940"
      ]
     },
     "execution_count": 70,
     "metadata": {},
     "output_type": "execute_result"
    }
   ],
   "source": [
    "df.shape[0]"
   ]
  },
  {
   "cell_type": "code",
   "execution_count": 71,
   "id": "86b0adde",
   "metadata": {},
   "outputs": [
    {
     "data": {
      "text/plain": [
       "0.85697070819429"
      ]
     },
     "execution_count": 71,
     "metadata": {},
     "output_type": "execute_result"
    }
   ],
   "source": [
    "46225/df.shape[0]"
   ]
  },
  {
   "cell_type": "code",
   "execution_count": 72,
   "id": "5558dfd0",
   "metadata": {},
   "outputs": [
    {
     "data": {
      "text/html": [
       "<div>\n",
       "<style scoped>\n",
       "    .dataframe tbody tr th:only-of-type {\n",
       "        vertical-align: middle;\n",
       "    }\n",
       "\n",
       "    .dataframe tbody tr th {\n",
       "        vertical-align: top;\n",
       "    }\n",
       "\n",
       "    .dataframe thead th {\n",
       "        text-align: right;\n",
       "    }\n",
       "</style>\n",
       "<table border=\"1\" class=\"dataframe\">\n",
       "  <thead>\n",
       "    <tr style=\"text-align: right;\">\n",
       "      <th></th>\n",
       "      <th>carat</th>\n",
       "      <th>cut</th>\n",
       "      <th>color</th>\n",
       "      <th>clarity</th>\n",
       "      <th>depth</th>\n",
       "      <th>table</th>\n",
       "      <th>price</th>\n",
       "      <th>x</th>\n",
       "      <th>y</th>\n",
       "      <th>z</th>\n",
       "    </tr>\n",
       "  </thead>\n",
       "  <tbody>\n",
       "    <tr>\n",
       "      <th>0</th>\n",
       "      <td>0.23</td>\n",
       "      <td>Ideal</td>\n",
       "      <td>E</td>\n",
       "      <td>SI2</td>\n",
       "      <td>61.5</td>\n",
       "      <td>55.0</td>\n",
       "      <td>326</td>\n",
       "      <td>3.95</td>\n",
       "      <td>3.98</td>\n",
       "      <td>2.43</td>\n",
       "    </tr>\n",
       "    <tr>\n",
       "      <th>1</th>\n",
       "      <td>0.21</td>\n",
       "      <td>Premium</td>\n",
       "      <td>E</td>\n",
       "      <td>SI1</td>\n",
       "      <td>59.8</td>\n",
       "      <td>61.0</td>\n",
       "      <td>326</td>\n",
       "      <td>3.89</td>\n",
       "      <td>3.84</td>\n",
       "      <td>2.31</td>\n",
       "    </tr>\n",
       "    <tr>\n",
       "      <th>2</th>\n",
       "      <td>0.23</td>\n",
       "      <td>Good</td>\n",
       "      <td>E</td>\n",
       "      <td>VS1</td>\n",
       "      <td>56.9</td>\n",
       "      <td>65.0</td>\n",
       "      <td>327</td>\n",
       "      <td>4.05</td>\n",
       "      <td>4.07</td>\n",
       "      <td>2.31</td>\n",
       "    </tr>\n",
       "    <tr>\n",
       "      <th>3</th>\n",
       "      <td>0.29</td>\n",
       "      <td>Premium</td>\n",
       "      <td>I</td>\n",
       "      <td>VS2</td>\n",
       "      <td>62.4</td>\n",
       "      <td>58.0</td>\n",
       "      <td>334</td>\n",
       "      <td>4.20</td>\n",
       "      <td>4.23</td>\n",
       "      <td>2.63</td>\n",
       "    </tr>\n",
       "    <tr>\n",
       "      <th>4</th>\n",
       "      <td>0.31</td>\n",
       "      <td>Good</td>\n",
       "      <td>J</td>\n",
       "      <td>SI2</td>\n",
       "      <td>63.3</td>\n",
       "      <td>58.0</td>\n",
       "      <td>335</td>\n",
       "      <td>4.34</td>\n",
       "      <td>4.35</td>\n",
       "      <td>2.75</td>\n",
       "    </tr>\n",
       "    <tr>\n",
       "      <th>...</th>\n",
       "      <td>...</td>\n",
       "      <td>...</td>\n",
       "      <td>...</td>\n",
       "      <td>...</td>\n",
       "      <td>...</td>\n",
       "      <td>...</td>\n",
       "      <td>...</td>\n",
       "      <td>...</td>\n",
       "      <td>...</td>\n",
       "      <td>...</td>\n",
       "    </tr>\n",
       "    <tr>\n",
       "      <th>53935</th>\n",
       "      <td>0.72</td>\n",
       "      <td>Ideal</td>\n",
       "      <td>D</td>\n",
       "      <td>SI1</td>\n",
       "      <td>60.8</td>\n",
       "      <td>57.0</td>\n",
       "      <td>2757</td>\n",
       "      <td>5.75</td>\n",
       "      <td>5.76</td>\n",
       "      <td>3.50</td>\n",
       "    </tr>\n",
       "    <tr>\n",
       "      <th>53936</th>\n",
       "      <td>0.72</td>\n",
       "      <td>Good</td>\n",
       "      <td>D</td>\n",
       "      <td>SI1</td>\n",
       "      <td>63.1</td>\n",
       "      <td>55.0</td>\n",
       "      <td>2757</td>\n",
       "      <td>5.69</td>\n",
       "      <td>5.75</td>\n",
       "      <td>3.61</td>\n",
       "    </tr>\n",
       "    <tr>\n",
       "      <th>53937</th>\n",
       "      <td>0.70</td>\n",
       "      <td>Very Good</td>\n",
       "      <td>D</td>\n",
       "      <td>SI1</td>\n",
       "      <td>62.8</td>\n",
       "      <td>60.0</td>\n",
       "      <td>2757</td>\n",
       "      <td>5.66</td>\n",
       "      <td>5.68</td>\n",
       "      <td>3.56</td>\n",
       "    </tr>\n",
       "    <tr>\n",
       "      <th>53938</th>\n",
       "      <td>0.86</td>\n",
       "      <td>Premium</td>\n",
       "      <td>H</td>\n",
       "      <td>SI2</td>\n",
       "      <td>61.0</td>\n",
       "      <td>58.0</td>\n",
       "      <td>2757</td>\n",
       "      <td>6.15</td>\n",
       "      <td>6.12</td>\n",
       "      <td>3.74</td>\n",
       "    </tr>\n",
       "    <tr>\n",
       "      <th>53939</th>\n",
       "      <td>0.75</td>\n",
       "      <td>Ideal</td>\n",
       "      <td>D</td>\n",
       "      <td>SI2</td>\n",
       "      <td>62.2</td>\n",
       "      <td>55.0</td>\n",
       "      <td>2757</td>\n",
       "      <td>5.83</td>\n",
       "      <td>5.87</td>\n",
       "      <td>3.64</td>\n",
       "    </tr>\n",
       "  </tbody>\n",
       "</table>\n",
       "<p>50413 rows × 10 columns</p>\n",
       "</div>"
      ],
      "text/plain": [
       "       carat        cut color clarity  depth  table  price     x     y     z\n",
       "0       0.23      Ideal     E     SI2   61.5   55.0    326  3.95  3.98  2.43\n",
       "1       0.21    Premium     E     SI1   59.8   61.0    326  3.89  3.84  2.31\n",
       "2       0.23       Good     E     VS1   56.9   65.0    327  4.05  4.07  2.31\n",
       "3       0.29    Premium     I     VS2   62.4   58.0    334  4.20  4.23  2.63\n",
       "4       0.31       Good     J     SI2   63.3   58.0    335  4.34  4.35  2.75\n",
       "...      ...        ...   ...     ...    ...    ...    ...   ...   ...   ...\n",
       "53935   0.72      Ideal     D     SI1   60.8   57.0   2757  5.75  5.76  3.50\n",
       "53936   0.72       Good     D     SI1   63.1   55.0   2757  5.69  5.75  3.61\n",
       "53937   0.70  Very Good     D     SI1   62.8   60.0   2757  5.66  5.68  3.56\n",
       "53938   0.86    Premium     H     SI2   61.0   58.0   2757  6.15  6.12  3.74\n",
       "53939   0.75      Ideal     D     SI2   62.2   55.0   2757  5.83  5.87  3.64\n",
       "\n",
       "[50413 rows x 10 columns]"
      ]
     },
     "execution_count": 72,
     "metadata": {},
     "output_type": "execute_result"
    }
   ],
   "source": [
    "df[(df['price'] >  mu - (2*sigma)) & (df['price'] <  mu + (2*sigma))]"
   ]
  },
  {
   "cell_type": "code",
   "execution_count": 73,
   "id": "40c49b61",
   "metadata": {},
   "outputs": [
    {
     "data": {
      "text/plain": [
       "(50413, 10)"
      ]
     },
     "execution_count": 73,
     "metadata": {},
     "output_type": "execute_result"
    }
   ],
   "source": [
    "df[(df['price'] >  mu - (2*sigma)) & (df['price'] <  mu + (2*sigma))].shape"
   ]
  },
  {
   "cell_type": "code",
   "execution_count": 74,
   "id": "773ccbbc",
   "metadata": {},
   "outputs": [
    {
     "data": {
      "text/plain": [
       "0.9346125324434557"
      ]
     },
     "execution_count": 74,
     "metadata": {},
     "output_type": "execute_result"
    }
   ],
   "source": [
    "50413/df.shape[0]"
   ]
  },
  {
   "cell_type": "code",
   "execution_count": 78,
   "id": "549dc0cd",
   "metadata": {},
   "outputs": [
    {
     "data": {
      "text/plain": [
       "(3527, 10)"
      ]
     },
     "execution_count": 78,
     "metadata": {},
     "output_type": "execute_result"
    }
   ],
   "source": [
    " # Outliers\n",
    "df[(df['price'] <  mu - (2*sigma)) | (df['price'] >  mu + (2*sigma))].shape  "
   ]
  },
  {
   "cell_type": "code",
   "execution_count": null,
   "id": "e7725850",
   "metadata": {},
   "outputs": [],
   "source": []
  },
  {
   "cell_type": "markdown",
   "id": "254538e0",
   "metadata": {},
   "source": [
    "### Example 1\n",
    "\n",
    "Assume that IQ scores are normally distributed wuth a mean of 100 & standard deviation is of 15. What is the probability that a randomly selected person has an IQ score greater than 120 ?"
   ]
  },
  {
   "cell_type": "code",
   "execution_count": 4,
   "id": "8d8ea4e5",
   "metadata": {},
   "outputs": [
    {
     "data": {
      "text/plain": [
       "1.3333333333333333"
      ]
     },
     "execution_count": 4,
     "metadata": {},
     "output_type": "execute_result"
    }
   ],
   "source": [
    "mu=100\n",
    "sd=15\n",
    "x=120\n",
    "\n",
    "z_score = (x-mu)/sd\n",
    "z_score"
   ]
  },
  {
   "cell_type": "markdown",
   "id": "df6eef32",
   "metadata": {},
   "source": [
    "p(x>120) = 1 - p(x<120)"
   ]
  },
  {
   "cell_type": "code",
   "execution_count": 12,
   "id": "9f7a1cf3",
   "metadata": {},
   "outputs": [
    {
     "data": {
      "text/plain": [
       "0.09121121972586788"
      ]
     },
     "execution_count": 12,
     "metadata": {},
     "output_type": "execute_result"
    }
   ],
   "source": [
    "1 - stats.norm.cdf(z_score)"
   ]
  },
  {
   "cell_type": "markdown",
   "id": "12fb6fde",
   "metadata": {},
   "source": [
    "### Example 2\n",
    "\n",
    "For a certain type of computers, the length of time between charges of the battery is normally distributed with a mean of 50 hours and a SD of 15 hours. John owns one of these computers and wants to know the probability that the length of time will between 50 and 70 hours.\n",
    "\n",
    "#### p(50<x<70) = ?"
   ]
  },
  {
   "cell_type": "code",
   "execution_count": 13,
   "id": "112dad73",
   "metadata": {},
   "outputs": [
    {
     "data": {
      "text/plain": [
       "0.0"
      ]
     },
     "execution_count": 13,
     "metadata": {},
     "output_type": "execute_result"
    }
   ],
   "source": [
    "mu=50\n",
    "sd=15\n",
    "x=50\n",
    "\n",
    "z_score_50 = (x-mu)/sd\n",
    "z_score_50"
   ]
  },
  {
   "cell_type": "code",
   "execution_count": 15,
   "id": "35c30d0e",
   "metadata": {},
   "outputs": [
    {
     "data": {
      "text/plain": [
       "1.3333333333333333"
      ]
     },
     "execution_count": 15,
     "metadata": {},
     "output_type": "execute_result"
    }
   ],
   "source": [
    "mu=50\n",
    "sd=15\n",
    "x=70\n",
    "\n",
    "z_score_70 = (x-mu)/sd\n",
    "z_score_70"
   ]
  },
  {
   "cell_type": "code",
   "execution_count": 17,
   "id": "c53351a5",
   "metadata": {},
   "outputs": [
    {
     "data": {
      "text/plain": [
       "0.5"
      ]
     },
     "execution_count": 17,
     "metadata": {},
     "output_type": "execute_result"
    }
   ],
   "source": [
    "p_x_greater_50 = 1 - stats.norm.cdf(z_score_50)\n",
    "p_x_greater_50"
   ]
  },
  {
   "cell_type": "code",
   "execution_count": 18,
   "id": "1c11ccc6",
   "metadata": {},
   "outputs": [
    {
     "data": {
      "text/plain": [
       "0.9087887802741321"
      ]
     },
     "execution_count": 18,
     "metadata": {},
     "output_type": "execute_result"
    }
   ],
   "source": [
    "p_x_less_70 = stats.norm.cdf(z_score_70)\n",
    "p_x_less_70"
   ]
  },
  {
   "cell_type": "code",
   "execution_count": 20,
   "id": "00a6ab65",
   "metadata": {},
   "outputs": [
    {
     "data": {
      "text/plain": [
       "0.4087887802741321"
      ]
     },
     "execution_count": 20,
     "metadata": {},
     "output_type": "execute_result"
    }
   ],
   "source": [
    "p_in_between_50_70 = p_x_less_70 - p_x_greater_50\n",
    "p_in_between_50_70"
   ]
  },
  {
   "cell_type": "code",
   "execution_count": null,
   "id": "eab54d43",
   "metadata": {},
   "outputs": [],
   "source": []
  }
 ],
 "metadata": {
  "kernelspec": {
   "display_name": "Python 3 (ipykernel)",
   "language": "python",
   "name": "python3"
  },
  "language_info": {
   "codemirror_mode": {
    "name": "ipython",
    "version": 3
   },
   "file_extension": ".py",
   "mimetype": "text/x-python",
   "name": "python",
   "nbconvert_exporter": "python",
   "pygments_lexer": "ipython3",
   "version": "3.9.12"
  }
 },
 "nbformat": 4,
 "nbformat_minor": 5
}
